{
 "cells": [
  {
   "cell_type": "markdown",
   "metadata": {
    "application/vnd.databricks.v1+cell": {
     "cellMetadata": {},
     "inputWidgets": {},
     "nuid": "3c4085ae-c59f-4fe0-bb30-9eeb923a1499",
     "showTitle": false,
     "title": ""
    }
   },
   "source": [
    "##Generative AI : summarize Dialogues of DiologueSum dataset\n",
    "#####Exploring different input texts and their impact on output by prompt engineering, zero shot, one shot & few shot inferences.\n",
    "#####At then end, exploration of different configuration parameters and their impact on outputs"
   ]
  },
  {
   "cell_type": "markdown",
   "metadata": {
    "application/vnd.databricks.v1+cell": {
     "cellMetadata": {},
     "inputWidgets": {},
     "nuid": "3c3a4ec7-b66b-4933-aaee-8a9e399b2cd8",
     "showTitle": false,
     "title": ""
    }
   },
   "source": [
    "###1. Installing Python `libraries`"
   ]
  },
  {
   "cell_type": "code",
   "execution_count": 0,
   "metadata": {
    "application/vnd.databricks.v1+cell": {
     "cellMetadata": {
      "byteLimit": 2048000,
      "rowLimit": 10000
     },
     "collapsed": true,
     "inputWidgets": {},
     "nuid": "64a667f4-6a72-429e-a3b0-e521e9bfcc1d",
     "showTitle": false,
     "title": ""
    }
   },
   "outputs": [
    {
     "output_type": "display_data",
     "data": {
      "text/html": [
       "<style scoped>\n",
       "  .ansiout {\n",
       "    display: block;\n",
       "    unicode-bidi: embed;\n",
       "    white-space: pre-wrap;\n",
       "    word-wrap: break-word;\n",
       "    word-break: break-all;\n",
       "    font-family: \"Menlo\", \"Monaco\", \"Consolas\", \"Ubuntu Mono\", \"Source Code Pro\", monospace;\n",
       "    font-size: 13px;\n",
       "    color: #555;\n",
       "    margin-left: 4px;\n",
       "    line-height: 19px;\n",
       "  }\n",
       "</style>\n",
       "<div class=\"ansiout\">Collecting torch\r\n",
       "Successfully installed fsspec-2024.6.1 mpmath-1.3.0 networkx-3.1 nvidia-cublas-cu12-12.1.3.1 nvidia-cuda-cupti-cu12-12.1.105 nvidia-cuda-nvrtc-cu12-12.1.105 nvidia-cuda-runtime-cu12-12.1.105 nvidia-cudnn-cu12-8.9.2.26 nvidia-cufft-cu12-11.0.2.54 nvidia-curand-cu12-10.3.2.106 nvidia-cusolver-cu12-11.4.5.107 nvidia-cusparse-cu12-12.1.0.106 nvidia-nccl-cu12-2.20.5 nvidia-nvjitlink-cu12-12.5.82 nvidia-nvtx-cu12-12.1.105 sympy-1.13.0 torch-2.3.1 triton-2.3.1 typing-extensions-4.12.2\r\n",
       "</div>"
      ]
     },
     "metadata": {
      "application/vnd.databricks.v1+output": {
       "addedWidgets": {},
       "arguments": {},
       "data": "<div class=\"ansiout\">Collecting torch\r\n  Downloading torch-2.3.1-cp38-cp38-manylinux1_x86_64.whl (779.1 MB)\r\n\r     |                                | 10 kB 20.5 MB/s eta 0:00:39\r     |                                | 20 kB 27.8 MB/s eta 0:00:29\r     |                                | 30 kB 35.2 MB/s eta 0:00:23\r     |                                | 40 kB 16.8 MB/s eta 0:00:47\r     |                                | 51 kB 19.5 MB/s eta 0:00:40\r     |                                | 61 kB 22.4 MB/s eta 0:00:35\r     |                                | 71 kB 22.1 MB/s eta 0:00:36\r     |                                | 81 kB 24.3 MB/s eta 0:00:33\r     |                                | 92 kB 21.3 MB/s eta 0:00:37\r     |                                | 102 kB 22.6 MB/s eta 0:00:35\r     |                                | 112 kB 22.6 MB/s eta 0:00:35\r     |                                | 122 kB 22.6 MB/s eta 0:00:35\r     |                                | 133 kB 22.6 MB/s eta 0:00:35\r     |                                | 143 kB 22.6 MB/s eta 0:00:35\r     |                                | 153 kB 22.6 MB/s eta 0:00:35\r     |                                | 163 kB 22.6 MB/s eta 0:00:35\r     |                                | 174 kB 22.6 MB/s eta 0:00:35\r     |                                | 184 kB 22.6 MB/s eta 0:00:35\r     |                                | 194 kB 22.6 MB/s eta 0:00:35\r     |                                | 204 kB 22.6 MB/s eta 0:00:35\r     |                                | 215 kB 22.6 MB/s eta 0:00:35\r     |                                | 225 kB 22.6 MB/s eta 0:00:35\r     |                                | 235 kB 22.6 MB/s eta 0:00:35\r     |                                | 245 kB 22.6 MB/s eta 0:00:35\r     |                                | 256 kB 22.6 MB/s eta 0:00:35\r     |                                | 266 kB 22.6 MB/s eta 0:00:35\r     |                                | 276 kB 22.6 MB/s eta 0:00:35\r     |                                | 286 kB 22.6 MB/s eta 0:00:35\r     |                                | 296 kB 22.6 MB/s eta 0:00:35\r     |                                | 307 kB 22.6 MB/s eta 0:00:35\r     |                                | 317 kB 22.6 MB/s eta 0:00:35\r     |                                | 327 kB 22.6 MB/s eta 0:00:35\r     |                                | 337 kB 22.6 MB/s eta 0:00:35\r     |                                | 348 kB 22.6 MB/s eta 0:00:35\r     |                                | 358 kB 22.6 MB/s eta 0:00:35\r     |                                | 368 kB 22.6 MB/s eta 0:00:35\r     |                                | 378 kB 22.6 MB/s eta 0:00:35\r     |                                | 389 kB 22.6 MB/s eta 0:00:35\r     |                                | 399 kB 22.6 MB/s eta 0:00:35\r     |                                | 409 kB 22.6 MB/s eta 0:00:35\r     |                                | 419 kB 22.6 MB/s eta 0:00:35\r     |                                | 430 kB 22.6 MB/s eta 0:00:35\r     |                                | 440 kB 22.6 MB/s eta 0:00:35\r     |                                | 450 kB 22.6 MB/s eta 0:00:35\r     |                                | 460 kB 22.6 MB/s eta 0:00:35\r     |                                | 471 kB 22.6 MB/s eta 0:00:35\r     |                                | 481 kB 22.6 MB/s eta 0:00:35\r     |                                | 491 kB 22.6 MB/s eta 0:00:35\r     |                                | 501 kB 22.6 MB/s eta 0:00:35\r     |                                | 512 kB 22.6 MB/s eta 0:00:35\r     |                                | 522 kB 22.6 MB/s eta 0:00:35\r     |                                | 532 kB 22.6 MB/s eta 0:00:35\r     |                                | 542 kB 22.6 MB/s eta 0:00:35\r     |                                | 552 kB 22.6 MB/s eta 0:00:35\r     |                                | 563 kB 22.6 MB/s eta 0:00:35\r     |                                | 573 kB 22.6 MB/s eta 0:00:35\r     |                                | 583 kB 22.6 MB/s eta 0:00:35\r     |                                | 593 kB 22.6 MB/s eta 0:00:35\r     |                                | 604 kB 22.6 MB/s eta 0:00:35\r     |                                | 614 kB 22.6 MB/s eta 0:00:35\r     |                                | 624 kB 22.6 MB/s eta 0:00:35\r     |                                | 634 kB 22.6 MB/s eta 0:00:35\r     |                                | 645 kB 22.6 MB/s eta 0:00:35\r     |                                | 655 kB 22.6 MB/s eta 0:00:35\r     |                                | 665 kB 22.6 MB/s eta 0:00:35\r     |                                | 675 kB 22.6 MB/s eta 0:00:35\r     |                                | 686 kB 22.6 MB/s eta 0:00:35\r     |                                | 696 kB 22.6 MB/s eta 0:00:35\r     |                                | 706 kB 22.6 MB/s eta 0:00:35\r     |                                | 716 kB 22.6 MB/s eta 0:00:35\r     |                                | 727 kB 22.6 MB/s eta 0:00:35\r     |                                | 737 kB 22.6 MB/s eta 0:00:35\r     |                                | 747 kB 22.6 MB/s eta 0:00:35\r     |                                | 757 kB 22.6 MB/s eta 0:00:35\r     |                                | 768 kB 22.6 MB/s eta 0:00:35\r     |                                | 778 kB 22.6 MB/s eta 0:00:35\r     |                                | 788 kB 22.6 MB/s eta 0:00:35\r     |                                | 798 kB 22.6 MB/s eta 0:00:35\r     |                                | 808 kB 22.6 MB/s eta 0:00:35\r     |                                | 819 kB 22.6 MB/s eta 0:00:35\r     |                                | 829 kB 22.6 MB/s eta 0:00:35\r     |                                | 839 kB 22.6 MB/s eta 0:00:35\r     |                                | 849 kB 22.6 MB/s eta 0:00:35\r     |                                | 860 kB 22.6 MB/s eta 0:00:35\r     |                                | 870 kB 22.6 MB/s eta 0:00:35\r     |                                | 880 kB 22.6 MB/s eta 0:00:35\r     |                                | 890 kB 22.6 MB/s eta 0:00:35\r     |                                | 901 kB 22.6 MB/s eta 0:00:35\r     |                                | 911 kB 22.6 MB/s eta 0:00:35\r     |                                | 921 kB 22.6 MB/s eta 0:00:35\r     |                                | 931 kB 22.6 MB/s eta 0:00:35\r     |                                | 942 kB 22.6 MB/s eta 0:00:35\r     |                                | 952 kB 22.6 MB/s eta 0:00:35\r     |                                | 962 kB 22.6 MB/s eta 0:00:35\r     |                                | 972 kB 22.6 MB/s eta 0:00:35\r     |                                | 983 kB 22.6 MB/s eta 0:00:35\r     |                                | 993 kB 22.6 MB/s eta 0:00:35\r     |                                | 1.0 MB 22.6 MB/s eta 0:00:35\r     |                                | 1.0 MB 22.6 MB/s eta 0:00:35\r     |                                | 1.0 MB 22.6 MB/s eta 0:00:35\r     |                                | 1.0 MB 22.6 MB/s eta 0:00:35\r     |                                | 1.0 MB 22.6 MB/s eta 0:00:35\r     |                                | 1.1 MB 22.6 MB/s eta 0:00:35\r     |                                | 1.1 MB 22.6 MB/s eta 0:00:35\r     |                                | 1.1 MB 22.6 MB/s eta 0:00:35\r     |                                | 1.1 MB 22.6 MB/s eta 0:00:35\r     |                                | 1.1 MB 22.6 MB/s eta 0:00:35\r     |                                | 1.1 MB 22.6 MB/s eta 0:00:35\r     |                                | 1.1 MB 22.6 MB/s eta 0:00:35\r     |                                | 1.1 MB 22.6 MB/s eta 0:00:35\r     |                                | 1.1 MB 22.6 MB/s eta 0:00:35\r     |                                | 1.1 MB 22.6 MB/s eta 0:00:35\r     |                                | 1.2 MB 22.6 MB/s eta 0:00:35\r     |                                | 1.2 MB 22.6 MB/s eta 0:00:35\r     |                                | 1.2 MB 22.6 MB/s eta 0:00:35\r     |                                | 1.2 MB 22.6 MB/s eta 0:00:35\r     |                                | 1.2 MB 22.6 MB/s eta 0:00:35\r     |                                | 1.2 MB 22.6 MB/s eta 0:00:35\r     |                                | 1.2 MB 22.6 MB/s eta 0:00:35\r     |                                | 1.2 MB 22.6 MB/s eta 0:00:35\r     |                                | 1.2 MB 22.6 MB/s eta 0:00:35\r     |                                | 1.2 MB 22.6 MB/s eta 0:00:35\r     |                                | 1.3 MB 22.6 MB/s eta 0:00:35\r     |                                | 1.3 MB 22.6 MB/s eta 0:00:35\r     |                                | 1.3 MB 22.6 MB/s eta 0:00:35\r     |                                | 1.3 MB 22.6 MB/s eta 0:00:35\r     |                                | 1.3 MB 22.6 MB/s eta 0:00:35\r     |                                | 1.3 MB 22.6 MB/s eta 0:00:35\r     |                                | 1.3 MB 22.6 MB/s eta 0:00:35\r     |                                | 1.3 MB 22.6 MB/s eta 0:00:35\r     |                                | 1.3 MB 22.6 MB/s eta 0:00:35\r     |                                | 1.4 MB 22.6 MB/s eta 0:00:35\r     |                                | 1.4 MB 22.6 MB/s eta 0:00:35\r     |                                | 1.4 MB 22.6 MB/s eta 0:00:35\r     |                                | 1.4 MB 22.6 MB/s eta 0:00:35\r     |                                | 1.4 MB 22.6 MB/s eta 0:00:35\r     |                                | 1.4 MB 22.6 MB/s eta 0:00:35\r     |                                | 1.4 MB 22.6 MB/s eta 0:00:35\r     |                                | 1.4 MB 22.6 MB/s eta 0:00:35\r     |                                | 1.4 MB 22.6 MB/s eta 0:00:35\r     |                                | 1.4 MB 22.6 MB/s eta 0:00:35\r     |                                | 1.5 MB 22.6 MB/s eta 0:00:35\r     |                                | 1.5 MB 22.6 MB/s eta 0:00:35\r     |                                | 1.5 MB 22.6 MB/s eta 0:00:35\r     |                                | 1.5 MB 22.6 MB/s eta 0:00:35\r     |                                | 1.5 MB 22.6 MB/s eta 0:00:35\r     |                                | 1.5 MB 22.6 MB/s eta 0:00:35\r     |                                | 1.5 MB 22.6 MB/s eta 0:00:35\r     |                                | 1.5 MB 22.6 MB/s eta 0:00:35\r     |                                | 1.5 MB 22.6 MB/s eta 0:00:35\r     |                                | 1.5 MB 22.6 MB/s eta 0:00:35\r     |                                | 1.6 MB 22.6 MB/s eta 0:00:35\r     |                                | 1.6 MB 22.6 MB/s eta 0:00:35\r     |                                | 1.6 MB 22.6 MB/s eta 0:00:35\r     |                                | 1.6 MB 22.6 MB/s eta 0:00:35\r     |                                | 1.6 MB 22.6 MB/s eta 0:00:35\r     |                                | 1.6 MB 22.6 MB/s eta 0:00:35\r     |                                | 1.6 MB 22.6 MB/s eta 0:00:35\r     |                                | 1.6 MB 22.6 MB/s eta 0:00:35\r     |                                | 1.6 MB 22.6 MB/s eta 0:00:35\r     |                                | 1.6 MB 22.6 MB/s eta 0:00:35\r     |                                | 1.7 MB 22.6 MB/s eta 0:00:35\r     |                                | 1.7 MB 22.6 MB/s eta 0:00:35\r     |                                | 1.7 MB 22.6 MB/s eta 0:00:35\r     |                                | 1.7 MB 22.6 MB/s eta 0:00:35\r     |                                | 1.7 MB 22.6 MB/s eta 0:00:35\r     |                                | 1.7 MB 22.6 MB/s eta 0:00:35\r     |                                | 1.7 MB 22.6 MB/s eta 0:00:35\r     |                                | 1.7 MB 22.6 MB/s eta 0:00:35\r     |                                | 1.7 MB 22.6 MB/s eta 0:00:35\r     |                                | 1.8 MB 22.6 MB/s eta 0:00:35\r     |                                | 1.8 MB 22.6 MB/s eta 0:00:35\r     |                                | 1.8 MB 22.6 MB/s eta 0:00:35\r     |                                | 1.8 MB 22.6 MB/s eta 0:00:35\r     |                                | 1.8 MB 22.6 MB/s eta 0:00:35\r     |                                | 1.8 MB 22.6 MB/s eta 0:00:35\r     |                                | 1.8 MB 22.6 MB/s eta 0:00:35\r     |                                | 1.8 MB 22.6 MB/s eta 0:00:35\r     |                                | 1.8 MB 22.6 MB/s eta 0:00:35\r     |                                | 1.8 MB 22.6 MB/s eta 0:00:35\r     |                                | 1.9 MB 22.6 MB/s eta 0:00:35\r     |                                | 1.9 MB 22.6 MB/s eta 0:00:35\r     |                                | 1.9 MB 22.6 MB/s eta 0:00:35\r     |                                | 1.9 MB 22.6 MB/s eta 0:00:35\r     |                                | 1.9 MB 22.6 MB/s eta 0:00:35\r     |                                | 1.9 MB 22.6 MB/s eta 0:00:35\r     |                                | 1.9 MB 22.6 MB/s eta 0:00:35\r     |                                | 1.9 MB 22.6 MB/s eta 0:00:35\r     |                                | 1.9 MB 22.6 MB/s eta 0:00:35\r     |                                | 1.9 MB 22.6 MB/s eta 0:00:35\r     |                                | 2.0 MB 22.6 MB/s eta 0:00:35\r     |                                | 2.0 MB 22.6 MB/s eta 0:00:35\r     |                                | 2.0 MB 22.6 MB/s eta 0:00:35\r     |                                | 2.0 MB 22.6 MB/s eta 0:00:35\r     |                                | 2.0 MB 22.6 MB/s eta 0:00:35\r     |                                | 2.0 MB 22.6 MB/s eta 0:00:35\r     |                                | 2.0 MB 22.6 MB/s eta 0:00:35\r     |                                | 2.0 MB 22.6 MB/s eta 0:00:35\r     |                                | 2.0 MB 22.6 MB/s eta 0:00:35\r     |                                | 2.0 MB 22.6 MB/s eta 0:00:35\r     |                                | 2.1 MB 22.6 MB/s eta 0:00:35\r     |                                | 2.1 MB 22.6 MB/s eta 0:00:35\r     |                                | 2.1 MB 22.6 MB/s eta 0:00:35\r     |                                | 2.1 MB 22.6 MB/s eta 0:00:35\r     |                                | 2.1 MB 22.6 MB/s eta 0:00:35\r     |                                | 2.1 MB 22.6 MB/s eta 0:00:35\r     |                                | 2.1 MB 22.6 MB/s eta 0:00:35\r     |                                | 2.1 MB 22.6 MB/s eta 0:00:35\r     |                                | 2.1 MB 22.6 MB/s eta 0:00:35\r     |                                | 2.2 MB 22.6 MB/s eta 0:00:35\r     |                                | 2.2 MB 22.6 MB/s eta 0:00:35\r     |                                | 2.2 MB 22.6 MB/s eta 0:00:35\r     |                                | 2.2 MB 22.6 MB/s eta 0:00:35\r     |                                | 2.2 MB 22.6 MB/s eta 0:00:35\r     |                                | 2.2 MB 22.6 MB/s eta 0:00:35\r     |                                | 2.2 MB 22.6 MB/s eta 0:00:35\r     |                                | 2.2 MB 22.6 MB/s eta 0:00:35\r     |                                | 2.2 MB 22.6 MB/s eta 0:00:35\r     |                                | 2.2 MB 22.6 MB/s eta 0:00:35\r     |                                | 2.3 MB 22.6 MB/s eta 0:00:35\r     |                                | 2.3 MB 22.6 MB/s eta 0:00:35\r     |                                | 2.3 MB 22.6 MB/s eta 0:00:35\r     |                                | 2.3 MB 22.6 MB/s eta 0:00:35\r     |                                | 2.3 MB 22.6 MB/s eta 0:00:35\r     |                                | 2.3 MB 22.6 MB/s eta 0:00:35\r     |                                | 2.3 MB 22.6 MB/s eta 0:00:35\r     |                                | 2.3 MB 22.6 MB/s eta 0:00:35\r     |                                | 2.3 MB 22.6 MB/s eta 0:00:35\r     |                                | 2.3 MB 22.6 MB/s eta 0:00:35\r     |                                | 2.4 MB 22.6 MB/s eta 0:00:35\r     |                                | 2.4 MB 22.6 MB/s eta 0:00:35\r     |                                | 2.4 MB 22.6 MB/s eta 0:00:35\r     |                                | 2.4 MB 22.6 MB/s eta 0:00:35\r     |                                | 2.4 MB 22.6 MB/s eta 0:00:35\r     |                                | 2.4 MB 22.6 MB/s eta 0:00:35\r     |                                | 2.4 MB 22.6 MB/s eta 0:00:35\r     |                                | 2.4 MB 22.6 MB/s eta 0:00:35\r     |                                | 2.4 MB 22.6 MB/s eta 0:00:35\r     |                                | 2.4 MB 22.6 MB/s eta 0:00:35\r     |                                | 2.5 MB 22.6 MB/s eta 0:00:35\r     |                                | 2.5 MB 22.6 MB/s eta 0:00:35\r     |                                | 2.5 MB 22.6 MB/s eta 0:00:35\r     |                                | 2.5 MB 22.6 MB/s eta 0:00:35\r     |                                | 2.5 MB 22.6 MB/s eta 0:00:35\r     |                                | 2.5 MB 22.6 MB/s eta 0:00:35\r     |                                | 2.5 MB 22.6 MB/s eta 0:00:35\r     |                                | 2.5 MB 22.6 MB/s eta 0:00:35\r     |                                | 2.5 MB 22.6 MB/s eta 0:00:35\r     |                                | 2.5 MB 22.6 MB/s eta 0:00:35\r     |                                | 2.6 MB 22.6 MB/s eta 0:00:35\r     |                                | 2.6 MB 22.6 MB/s eta 0:00:35\r     |                                | 2.6 MB 22.6 MB/s eta 0:00:35\r     |                                | 2.6 MB 22.6 MB/s eta 0:00:35\r     |                                | 2.6 MB 22.6 MB/s eta 0:00:35\r     |                                | 2.6 MB 22.6 MB/s eta 0:00:35\r     |                                | 2.6 MB 22.6 MB/s eta 0:00:35\r     |                                | 2.6 MB 22.6 MB/s eta 0:00:35\r     |                                | 2.6 MB 22.6 MB/s eta 0:00:35\r     |                                | 2.7 MB 22.6 MB/s eta 0:00:35\r     |                                | 2.7 MB 22.6 MB/s eta 0:00:35\r     |                                | 2.7 MB 22.6 MB/s eta 0:00:35\r     |                                | 2.7 MB 22.6 MB/s eta 0:00:35\r     |                                | 2.7 MB 22.6 MB/s eta 0:00:35\r     |                                | 2.7 MB 22.6 MB/s eta 0:00:35\r     |▏                               | 2.7 MB 22.6 MB/s eta 0:00:35\r     |▏                               | 2.7 MB 22.6 MB/s eta 0:00:35\r     |▏                               | 2.7 MB 22.6 MB/s eta 0:00:35\r     |▏                               | 2.7 MB 22.6 MB/s eta 0:00:35\r     |▏                               | 2.8 MB 22.6 MB/s eta 0:00:35\r     |▏                               | 2.8 MB 22.6 MB/s eta 0:00:35\r     |▏                               | 2.8 MB 22.6 MB/s eta 0:00:35\r     |▏                               | 2.8 MB 22.6 MB/s eta 0:00:35\r     |▏                               | 2.8 MB 22.6 MB/s eta 0:00:35\r     |▏                               | 2.8 MB 22.6 MB/s eta 0:00:35\r     |▏                               | 2.8 MB 22.6 MB/s eta 0:00:35\r     |▏                               | 2.8 MB 22.6 MB/s eta 0:00:35\r     |▏                               | 2.8 MB 22.6 MB/s eta 0:00:35\r     |▏                               | 2.8 MB 22.6 MB/s eta 0:00:35\r     |▏                               | 2.9 MB 22.6 MB/s eta 0:00:35\r     |▏                               | 2.9 MB 22.6 MB/s eta 0:00:35\r     |▏                               | 2.9 MB 22.6 MB/s eta 0:00:35\r     |▏                               | 2.9 MB 22.6 MB/s eta 0:00:35\r     |▏                               | 2.9 MB 22.6 MB/s eta 0:00:35\r     |▏                               | 2.9 MB 22.6 MB/s eta 0:00:35\r     |▏                               | 2.9 MB 22.6 MB/s eta 0:00:35\r     |▏                               | 2.9 MB 22.6 MB/s eta 0:00:35\r     |▏                               | 2.9 MB 22.6 MB/s eta 0:00:35\r     |▏                               | 2.9 MB 22.6 MB/s eta 0:00:35\r     |▏                               | 3.0 MB 22.6 MB/s eta 0:00:35\r     |▏                               | 3.0 MB 22.6 MB/s eta 0:00:35\r     |▏                               | 3.0 MB 22.6 MB/s eta 0:00:35\r     |▏                               | 3.0 MB 22.6 MB/s eta 0:00:35\r     |▏                               | 3.0 MB 22.6 MB/s eta 0:00:35\r     |▏                               | 3.0 MB 22.6 MB/s eta 0:00:35\r     |▏                               | 3.0 MB 22.6 MB/s eta 0:00:35\r     |▏                               | 3.0 MB 22.6 MB/s eta 0:00:35\r     |▏                               | 3.0 MB 22.6 MB/s eta 0:00:35\r     |▏                               | 3.1 MB 22.6 MB/s eta 0:00:35\r     |▏                               | 3.1 MB 22.6 MB/s eta 0:00:35\r     |▏                               | 3.1 MB 22.6 MB/s eta 0:00:35\r     |▏                               | 3.1 MB 22.6 MB/s eta 0:00:35\r     |▏                               | 3.1 MB 22.6 MB/s eta 0:00:35\r     |▏                               | 3.1 MB 22.6 MB/s eta 0:00:35\r     |▏                               | 3.1 MB 22.6 MB/s eta 0:00:35\r     |▏                               | 3.1 MB 22.6 MB/s eta 0:00:35\r     |▏                               | 3.1 MB 22.6 MB/s eta 0:00:35\r     |▏                               | 3.1 MB 22.6 MB/s eta 0:00:35\r     |▏                               | 3.2 MB 22.6 MB/s eta 0:00:35\r     |▏                               | 3.2 MB 22.6 MB/s eta 0:00:35\r     |▏                               | 3.2 MB 22.6 MB/s eta 0:00:35\r     |▏                               | 3.2 MB 22.6 MB/s eta 0:00:35\r     |▏                               | 3.2 MB 22.6 MB/s eta 0:00:35\r     |▏                               | 3.2 MB 22.6 MB/s eta 0:00:35\r     |▏                               | 3.2 MB 22.6 MB/s eta 0:00:35\r     |▏                               | 3.2 MB 22.6 MB/s eta 0:00:35\r     |▏                               | 3.2 MB 22.6 MB/s eta 0:00:35\r     |▏                               | 3.2 MB 22.6 MB/s eta 0:00:35\r     |▏                               | 3.3 MB 22.6 MB/s eta 0:00:35\r     |▏                               | 3.3 MB 22.6 MB/s eta 0:00:35\r     |▏                               | 3.3 MB 22.6 MB/s eta 0:00:35\r     |▏                               | 3.3 MB 22.6 MB/s eta 0:00:35\r     |▏                               | 3.3 MB 22.6 MB/s eta 0:00:35\r     |▏                               | 3.3 MB 22.6 MB/s eta 0:00:35\r     |▏                               | 3.3 MB 22.6 MB/s eta 0:00:35\r     |▏                               | 3.3 MB 22.6 MB/s eta 0:00:35\r     |▏                               | 3.3 MB 22.6 MB/s eta 0:00:35\r     |▏                               | 3.3 MB 22.6 MB/s eta 0:00:35\r     |▏                               | 3.4 MB 22.6 MB/s eta 0:00:35\r     |▏                               | 3.4 MB 22.6 MB/s eta 0:00:35\r     |▏                               | 3.4 MB 22.6 MB/s eta 0:00:35\r     |▏                               | 3.4 MB 22.6 MB/s eta 0:00:35\r     |▏                               | 3.4 MB 22.6 MB/s eta 0:00:35\r     |▏                               | 3.4 MB 22.6 MB/s eta 0:00:35\r     |▏                               | 3.4 MB 22.6 MB/s eta 0:00:35\r     |▏                               | 3.4 MB 22.6 MB/s eta 0:00:35\r     |▏                               | 3.4 MB 22.6 MB/s eta 0:00:35\r     |▏                               | 3.5 MB 22.6 MB/s eta 0:00:35\r     |▏                               | 3.5 MB 22.6 MB/s eta 0:00:35\r     |▏                               | 3.5 MB 22.6 MB/s eta 0:00:35\r     |▏                               | 3.5 MB 22.6 MB/s eta 0:00:35\r     |▏                               | 3.5 MB 22.6 MB/s eta 0:00:35\r     |▏                               | 3.5 MB 22.6 MB/s eta 0:00:35\r     |▏                               | 3.5 MB 22.6 MB/s eta 0:00:35\r     |▏                               | 3.5 MB 22.6 MB/s eta 0:00:35\r     |▏                               | 3.5 MB 22.6 MB/s eta 0:00:35\r     |▏                               | 3.5 MB 22.6 MB/s eta 0:00:35\r     |▏                               | 3.6 MB 22.6 MB/s eta 0:00:35\r     |▏                               | 3.6 MB 22.6 MB/s eta 0:00:35\r     |▏                               | 3.6 MB 22.6 MB/s eta 0:00:35\r     |▏                               | 3.6 MB 22.6 MB/s eta 0:00:35\r     |▏                               | 3.6 MB 22.6 MB/s eta 0:00:35\r     |▏                               | 3.6 MB 22.6 MB/s eta 0:00:35\r     |▏                               | 3.6 MB 22.6 MB/s eta 0:00:35\r     |▏                               | 3.6 MB 22.6 MB/s eta 0:00:35\r     |▏                               | 3.6 MB 22.6 MB/s eta 0:00:35\r     |▏                               | 3.6 MB 22.6 MB/s eta 0:00:35\r     |▏                               | 3.7 MB 22.6 MB/s eta 0:00:35\r     |▏                               | 3.7 MB 22.6 MB/s eta 0:00:35\r     |▏                               | 3.7 MB 22.6 MB/s eta 0:00:35\r     |▏                               | 3.7 MB 22.6 MB/s eta 0:00:35\r     |▏                               | 3.7 MB 22.6 MB/s eta 0:00:35\r     |▏                               | 3.7 MB 22.6 MB/s eta 0:00:35\r     |▏                               | 3.7 MB 22.6 MB/s eta 0:00:35\r     |▏                               | 3.7 MB 22.6 MB/s eta 0:00:35\r     |▏                               | 3.7 MB 22.6 MB/s eta 0:00:35\r     |▏                               | 3.7 MB 22.6 MB/s eta 0:00:35\r     |▏                               | 3.8 MB 22.6 MB/s eta 0:00:35\r     |▏                               | 3.8 MB 22.6 MB/s eta 0:00:35\r     |▏                               | 3.8 MB 22.6 MB/s eta 0:00:35\r     |▏                               | 3.8 MB 22.6 MB/s eta 0:00:35\r     |▏                               | 3.8 MB 22.6 MB/s eta 0:00:35\r     |▏                               | 3.8 MB 22.6 MB/s eta 0:00:35\r     |▏                               | 3.8 MB 22.6 MB/s eta 0:00:35\r     |▏                               | 3.8 MB 22.6 MB/s eta 0:00:35\r     |▏                               | 3.8 MB 22.6 MB/s eta 0:00:35\r     |▏                               | 3.9 MB 22.6 MB/s eta 0:00:35\r     |▏                               | 3.9 MB 22.6 MB/s eta 0:00:35\r     |▏                               | 3.9 MB 22.6 MB/s eta 0:00:35\r     |▏                               | 3.9 MB 22.6 MB/s eta 0:00:35\r     |▏                               | 3.9 MB 22.6 MB/s eta 0:00:35\r     |▏                               | 3.9 MB 22.6 MB/s eta 0:00:35\r     |▏                               | 3.9 MB 22.6 MB/s eta 0:00:35\r     |▏                               | 3.9 MB 22.6 MB/s eta 0:00:35\r     |▏                               | 3.9 MB 22.6 MB/s eta 0:00:35\r     |▏                               | 3.9 MB 22.6 MB/s eta 0:00:35\r     |▏                               | 4.0 MB 22.6 MB/s eta 0:00:35\r     |▏                               | 4.0 MB 22.6 MB/s eta 0:00:35\r     |▏                               | 4.0 MB 22.6 MB/s eta 0:00:35\r     |▏                               | 4.0 MB 22.6 MB/s eta 0:00:35\r     |▏                               | 4.0 MB 22.6 MB/s eta 0:00:35\r     |▏                               | 4.0 MB 22.6 MB/s eta 0:00:35\r     |▏                               | 4.0 MB 22.6 MB/s eta 0:00:35\r     |▏                               | 4.0 MB 22.6 MB/s eta 0:00:35\r     |▏                               | 4.0 MB 22.6 MB/s eta 0:00:35\r     |▏                               | 4.0 MB 22.6 MB/s eta 0:00:35\r     |▏                               | 4.1 MB 22.6 MB/s eta 0:00:35\r     |▏                               | 4.1 MB 22.6 MB/s eta 0:00:35\r     |▏                               | 4.1 MB 22.6 MB/s eta 0:00:35\r     |▏                               | 4.1 MB 22.6 MB/s eta 0:00:35\r     |▏                               | 4.1 MB 22.6 MB/s eta 0:00:35\r     |▏                               | 4.1 MB 22.6 MB/s eta 0:00:35\r     |▏                               | 4.1 MB 22.6 MB/s eta 0:00:35\r     |▏                               | 4.1 MB 22.6 MB/s eta 0:00:35\r     |▏                               | 4.1 MB 22.6 MB/s eta 0:00:35\r     |▏                               | 4.1 MB 22.6 MB/s eta 0:00:35\r     |▏                               | 4.2 MB 22.6 MB/s eta 0:00:35\r     |▏                               | 4.2 MB 22.6 MB/s eta 0:00:35\r     |▏                               | 4.2 MB 22.6 MB/s eta 0:00:35\r     |▏                               | 4.2 MB 22.6 MB/s eta 0:00:35\r     |▏                               | 4.2 MB 22.6 MB/s eta 0:00:35\r     |▏                               | 4.2 MB 22.6 MB/s eta 0:00:35\r     |▏                               | 4.2 MB 22.6 MB/s eta 0:00:35\r     |▏                               | 4.2 MB 22.6 MB/s eta 0:00:35\r     |▏                               | 4.2 MB 22.6 MB/s eta 0:00:35\r     |▏                               | 4.2 MB 22.6 MB/s eta 0:00:35\r     |▏                               | 4.3 MB 22.6 MB/s eta 0:00:35\r     |▏                               | 4.3 MB 22.6 MB/s eta 0:00:35\r     |▏                               | 4.3 MB 22.6 MB/s eta 0:00:35\r     |▏                               | 4.3 MB 22.6 MB/s eta 0:00:35\r     |▏                               | 4.3 MB 22.6 MB/s eta 0:00:35\r     |▏                               | 4.3 MB 22.6 MB/s eta 0:00:35\r     |▏                               | 4.3 MB 22.6 MB/s eta 0:00:35\r     |▏                               | 4.3 MB 22.6 MB/s eta 0:00:35\r     |▏                               | 4.3 MB 22.6 MB/s eta 0:00:35\r     |▏                               | 4.4 MB 22.6 MB/s eta 0:00:35\r     |▏                               | 4.4 MB 22.6 MB/s eta 0:00:35\r     |▏                               | 4.4 MB 22.6 MB/s eta 0:00:35\r     |▏                               | 4.4 MB 22.6 MB/s eta 0:00:35\r     |▏                               | 4.4 MB 22.6 MB/s eta 0:00:35\r     |▏                               | 4.4 MB 22.6 MB/s eta 0:00:35\r     |▏                               | 4.4 MB 22.6 MB/s eta 0:00:35\r     |▏                               | 4.4 MB 22.6 MB/s eta 0:00:35\r     |▏                               | 4.4 MB 22.6 MB/s eta 0:00:35\r     |▏                               | 4.4 MB 22.6 MB/s eta 0:00:35\r     |▏                               | 4.5 MB 22.6 MB/s eta 0:00:35\r     |▏                               | 4.5 MB 22.6 MB/s eta 0:00:35\r     |▏                               | 4.5 MB 22.6 MB/s eta 0:00:35\r     |▏                               | 4.5 MB 22.6 MB/s eta 0:00:35\r     |▏                               | 4.5 MB 22.6 MB/s eta 0:00:35\r     |▏                               | 4.5 MB 22.6 MB/s eta 0:00:35\r     |▏                               | 4.5 MB 22.6 MB/s eta 0:00:35\r     |▏                               | 4.5 MB 22.6 MB/s eta 0:00:35\r     |▏                               | 4.5 MB 22.6 MB/s eta 0:00:35\r     |▏                               | 4.5 MB 22.6 MB/s eta 0:00:35\r     |▏                               | 4.6 MB 22.6 MB/s eta 0:00:35\r     |▏                               | 4.6 MB 22.6 MB/s eta 0:00:35\r     |▏                               | 4.6 MB 22.6 MB/s eta 0:00:35\r     |▏                               | 4.6 MB 22.6 MB/s eta 0:00:35\r     |▏                               | 4.6 MB 22.6 MB/s eta 0:00:35\r     |▏                               | 4.6 MB 22.6 MB/s eta 0:00:35\r     |▏                               | 4.6 MB 22.6 MB/s eta 0:00:35\r     |▏                               | 4.6 MB 22.6 MB/s eta 0:00:35\r     |▏                               | 4.6 MB 22.6 MB/s eta 0:00:35\r     |▏                               | 4.6 MB 22.6 MB/s eta 0:00:35\r     |▏                               | 4.7 MB 22.6 MB/s eta 0:00:35\r     |▏                               | 4.7 MB 22.6 MB/s eta 0:00:35\r     |▏                               | 4.7 MB 22.6 MB/s eta 0:00:35\r     |▏                               | 4.7 MB 22.6 MB/s eta 0:00:35\r     |▏                               | 4.7 MB 22.6 MB/s eta 0:00:35\r     |▏                               | 4.7 MB 22.6 MB/s eta 0:00:35\r     |▏                               | 4.7 MB 22.6 MB/s eta 0:00:35\r     |▏                               | 4.7 MB 22.6 MB/s eta 0:00:35\r     |▏                               | 4.7 MB 22.6 MB/s eta 0:00:35\r     |▏                               | 4.8 MB 22.6 MB/s eta 0:00:35\r     |▏                               | 4.8 MB 22.6 MB/s eta 0:00:35\r     |▏                               | 4.8 MB 22.6 MB/s eta 0:00:35\r     |▏                               | 4.8 MB 22.6 MB/s eta 0:00:35\r     |▏                               | 4.8 MB 22.6 MB/s eta 0:00:35\r     |▏                               | 4.8 MB 22.6 MB/s eta 0:00:35\r     |▏                               | 4.8 MB 22.6 MB/s eta 0:00:35\r     |▏                               | 4.8 MB 22.6 MB/s eta 0:00:35\r     |▏                               | 4.8 MB 22.6 MB/s eta 0:00:35\r     |▏                               | 4.8 MB 22.6 MB/s eta 0:00:35\r     |▏                               | 4.9 MB 22.6 MB/s eta 0:00:35\r     |▏                               | 4.9 MB 22.6 MB/s eta 0:00:35\r     |▏                               | 4.9 MB 22.6 MB/s eta 0:00:35\r     |▏                               | 4.9 MB 22.6 MB/s eta 0:00:35\r     |▏                               | 4.9 MB 22.6 MB/s eta 0:00:35\r     |▏                               | 4.9 MB 22.6 MB/s eta 0:00:35\r     |▏                               | 4.9 MB 22.6 MB/s eta 0:00:35\r     |▏                               | 4.9 MB 22.6 MB/s eta 0:00:35\r     |▏                               | 4.9 MB 22.6 MB/s eta 0:00:35\r     |▏                               | 4.9 MB 22.6 MB/s eta 0:00:35\r     |▏                               | 5.0 MB 22.6 MB/s eta 0:00:35\r     |▏                               | 5.0 MB 22.6 MB/s eta 0:00:35\r     |▏                               | 5.0 MB 22.6 MB/s eta 0:00:35\r     |▏                               | 5.0 MB 22.6 MB/s eta 0:00:35\r     |▏                               | 5.0 MB 22.6 MB/s eta 0:00:35\r     |▏                               | 5.0 MB 22.6 MB/s eta 0:00:35\r     |▏                               | 5.0 MB 22.6 MB/s eta 0:00:35\r     |▏                               | 5.0 MB 22.6 MB/s eta 0:00:35\r     |▏                               | 5.0 MB 22.6 MB/s eta 0:00:35\r     |▏                               | 5.0 MB 22.6 MB/s eta 0:00:35\r     |▏                               | 5.1 MB 22.6 MB/s eta 0:00:35\r     |▏                               | 5.1 MB 22.6 MB/s eta 0:00:35\r     |▏                               | 5.1 MB 22.6 MB/s eta 0:00:35\r     |▏                               | 5.1 MB 22.6 MB/s eta 0:00:35\r     |▏                               | 5.1 MB 22.6 MB/s eta 0:00:35\r     |▏                               | 5.1 MB 22.6 MB/s eta 0:00:35\r     |▏                               | 5.1 MB 22.6 MB/s eta 0:00:35\r     |▏                               | 5.1 MB 22.6 MB/s eta 0:00:35\r     |▏                               | 5.1 MB 22.6 MB/s eta 0:00:35\r     |▏                               | 5.2 MB 22.6 MB/s eta 0:00:35\r     |▏                               | 5.2 MB 22.6 MB/s eta 0:00:35\r     |▏                               | 5.2 MB 22.6 MB/s eta 0:00:35\r     |▏                               | 5.2 MB 22.6 MB/s eta 0:00:35\r     |▏                               | 5.2 MB 22.6 MB/s eta 0:00:35\r     |▏                               | 5.2 MB 22.6 MB/s eta 0:00:35\r     |▏                               | 5.2 MB 22.6 MB/s eta 0:00:35\r     |▏                               | 5.2 MB 22.6 MB/s eta 0:00:35\r     |▏                               | 5.2 MB 22.6 MB/s eta 0:00:35\r     |▏                               | 5.2 MB 22.6 MB/s eta 0:00:35\r     |▏                               | 5.3 MB 22.6 MB/s eta 0:00:35\r     |▏                               | 5.3 MB 22.6 MB/s eta 0:00:35\r     |▏                               | 5.3 MB 22.6 MB/s eta 0:00:35\r     |▏                               | 5.3 MB 22.6 MB/s eta 0:00:35\r     |▏                               | 5.3 MB 22.6 MB/s eta 0:00:35\r     |▏                               | 5.3 MB 22.6 MB/s eta 0:00:35\r     |▏                               | 5.3 MB 22.6 MB/s eta 0:00:35\r     |▏                               | 5.3 MB 22.6 MB/s eta 0:00:35\r     |▏                               | 5.3 MB 22.6 MB/s eta 0:00:35\r     |▏                               | 5.3 MB 22.6 MB/s eta 0:00:35\r     |▏                               | 5.4 MB 22.6 MB/s eta 0:00:35\r     |▏                               | 5.4 MB 22.6 MB/s eta 0:00:35\r     |▏                               | 5.4 MB 22.6 MB/s eta 0:00:35\r     |▏                               | 5.4 MB 22.6 MB/s eta 0:00:35\r     |▏                               | 5.4 MB 22.6 MB/s eta 0:00:35\r     |▏                               | 5.4 MB 22.6 MB/s eta 0:00:35\r     |▎                               | 5.4 MB 22.6 MB/s eta 0:00:35\r     |▎                               | 5.4 MB 22.6 MB/s eta 0:00:35\r     |▎                               | 5.4 MB 22.6 MB/s eta 0:00:35\r     |▎                               | 5.4 MB 22.6 MB/s eta 0:00:35\r     |▎                               | 5.5 MB 22.6 MB/s eta 0:00:35\r     |▎                               | 5.5 MB 22.6 MB/s eta 0:00:35\r     |▎                               | 5.5 MB 22.6 MB/s eta 0:00:35\r     |▎                               | 5.5 MB 22.6 MB/s eta 0:00:35\r     |▎                               | 5.5 MB 22.6 MB/s eta 0:00:35\r     |▎                               | 5.5 MB 22.6 MB/s eta 0:00:35\r     |▎                               | 5.5 MB 22.6 MB/s eta 0:00:35\r     |▎                               | 5.5 MB 22.6 MB/s eta 0:00:35\r     |▎                               | 5.5 MB 22.6 MB/s eta 0:00:35\r     |▎                               | 5.6 MB 22.6 MB/s eta 0:00:35\r     |▎                               | 5.6 MB 22.6 MB/s eta 0:00:35\r     |▎                               | 5.6 MB 22.6 MB/s eta 0:00:35\r     |▎                               | 5.6 MB 22.6 MB/s eta 0:00:35\r     |▎                               | 5.6 MB 22.6 MB/s eta 0:00:35\r     |▎                               | 5.6 MB 22.6 MB/s eta 0:00:35\r     |▎                               | 5.6 MB 22.6 MB/s eta 0:00:35\r     |▎                               | 5.6 MB 22.6 MB/s eta 0:00:35\r     |▎                               | 5.6 MB 22.6 MB/s eta 0:00:35\r     |▎                               | 5.6 MB 22.6 MB/s eta 0:00:35\r     |▎                               | 5.7 MB 22.6 MB/s eta 0:00:35\r     |▎                               | 5.7 MB 22.6 MB/s eta 0:00:35\r     |▎                               | 5.7 MB 22.6 MB/s eta 0:00:35\r     |▎                               | 5.7 MB 22.6 MB/s eta 0:00:35\r     |▎                               | 5.7 MB 22.6 MB/s eta 0:00:35\r     |▎                               | 5.7 MB 22.6 MB/s eta 0:00:35\r     |▎                               | 5.7 MB 22.6 MB/s eta 0:00:35\r     |▎                               | 5.7 MB 22.6 MB/s eta 0:00:35\r     |▎                               | 5.7 MB 22.6 MB/s eta 0:00:35\r     |▎                               | 5.7 MB 22.6 MB/s eta 0:00:35\r     |▎                               | 5.8 MB 22.6 MB/s eta 0:00:35\r     |▎                               | 5.8 MB 22.6 MB/s eta 0:00:35\r     |▎                               | 5.8 MB 22.6 MB/s eta 0:00:35\r     |▎                               | 5.8 MB 22.6 MB/s eta 0:00:35\r     |▎                               | 5.8 MB 22.6 MB/s eta 0:00:35\r     |▎                               | 5.8 MB 22.6 MB/s eta 0:00:35\r     |▎                               | 5.8 MB 22.6 MB/s eta 0:00:35\r     |▎                               | 5.8 MB 22.6 MB/s eta 0:00:35\r     |▎                               | 5.8 MB 22.6 MB/s eta 0:00:35\r     |▎                               | 5.8 MB 22.6 MB/s eta 0:00:35\r     |▎                               | 5.9 MB 22.6 MB/s eta 0:00:35\r     |▎                               | 5.9 MB 22.6 MB/s eta 0:00:35\r     |▎                               | 5.9 MB 22.6 MB/s eta 0:00:35\r     |▎                               | 5.9 MB 22.6 MB/s eta 0:00:35\r     |▎                               | 5.9 MB 22.6 MB/s eta 0:00:35\r     |▎                               | 5.9 MB 22.6 MB/s eta 0:00:35\r     |▎                               | 5.9 MB 22.6 MB/s eta 0:00:35\r     |▎                               | 5.9 MB 22.6 MB/s eta 0:00:35\r     |▎                               | 5.9 MB 22.6 MB/s eta 0:00:35\r     |▎                               | 5.9 MB 22.6 MB/s eta 0:00:35\r     |▎                               | 6.0 MB 22.6 MB/s eta 0:00:35\r     |▎                               | 6.0 MB 22.6 MB/s eta 0:00:35\r     |▎                               | 6.0 MB 22.6 MB/s eta 0:00:35\r     |▎                               | 6.0 MB 22.6 MB/s eta 0:00:35\r     |▎                               | 6.0 MB 22.6 MB/s eta 0:00:35\r     |▎                               | 6.0 MB 22.6 MB/s eta 0:00:35\r     |▎                               | 6.0 MB 22.6 MB/s eta 0:00:35\r     |▎                               | 6.0 MB 22.6 MB/s eta 0:00:35\r     |▎                               | 6.0 MB 22.6 MB/s eta 0:00:35\r     |▎                               | 6.1 MB 22.6 MB/s eta 0:00:35\r     |▎                               | 6.1 MB 22.6 MB/s eta 0:00:35\r     |▎                               | 6.1 MB 22.6 MB/s eta 0:00:35\r     |▎                               | 6.1 MB 22.6 MB/s eta 0:00:35\r     |▎                               | 6.1 MB 22.6 MB/s eta 0:00:35\r     |▎                               | 6.1 MB 22.6 MB/s eta 0:00:35\r     |▎                               | 6.1 MB 22.6 MB/s eta 0:00:35\r     |▎                               | 6.1 MB 22.6 MB/s eta 0:00:35\r     |▎                               | 6.1 MB 22.6 MB/s eta 0:00:35\r     |▎                               | 6.1 MB 22.6 MB/s eta 0:00:35\r     |▎                               | 6.2 MB 22.6 MB/s eta 0:00:35\r     |▎                               | 6.2 MB 22.6 MB/s eta 0:00:35\r     |▎                               | 6.2 MB 22.6 MB/s eta 0:00:35\r     |▎                               | 6.2 MB 22.6 MB/s eta 0:00:35\r     |▎                               | 6.2 MB 22.6 MB/s eta 0:00:35\r     |▎                               | 6.2 MB 22.6 MB/s eta 0:00:35\r     |▎                               | 6.2 MB 22.6 MB/s eta 0:00:35\r     |▎                               | 6.2 MB 22.6 MB/s eta 0:00:35\r     |▎                               | 6.2 MB 22.6 MB/s eta 0:00:35\r     |▎                               | 6.2 MB 22.6 MB/s eta 0:00:35\r     |▎                               | 6.3 MB 22.6 MB/s eta 0:00:35\r     |▎                               | 6.3 MB 22.6 MB/s eta 0:00:35\r     |▎                               | 6.3 MB 22.6 MB/s eta 0:00:35\r     |▎                               | 6.3 MB 22.6 MB/s eta 0:00:35\r     |▎                               | 6.3 MB 22.6 MB/s eta 0:00:35\r     |▎                               | 6.3 MB 22.6 MB/s eta 0:00:35\r     |▎                               | 6.3 MB 22.6 MB/s eta 0:00:35\r     |▎                               | 6.3 MB 22.6 MB/s eta 0:00:35\r     |▎                               | 6.3 MB 22.6 MB/s eta 0:00:35\r     |▎                               | 6.3 MB 22.6 MB/s eta 0:00:35\r     |▎                               | 6.4 MB 22.6 MB/s eta 0:00:35\r     |▎                               | 6.4 MB 22.6 MB/s eta 0:00:35\r     |▎                               | 6.4 MB 22.6 MB/s eta 0:00:35\r     |▎                               | 6.4 MB 22.6 MB/s eta 0:00:35\r     |▎                               | 6.4 MB 22.6 MB/s eta 0:00:35\r     |▎                               | 6.4 MB 22.6 MB/s eta 0:00:35\r     |▎                               | 6.4 MB 22.6 MB/s eta 0:00:35\r     |▎                               | 6.4 MB 22.6 MB/s eta 0:00:35\r     |▎                               | 6.4 MB 22.6 MB/s eta 0:00:35\r     |▎                               | 6.5 MB 22.6 MB/s eta 0:00:35\r     |▎                               | 6.5 MB 22.6 MB/s eta 0:00:35\r     |▎                               | 6.5 MB 22.6 MB/s eta 0:00:35\r     |▎                               | 6.5 MB 22.6 MB/s eta 0:00:35\r     |▎                               | 6.5 MB 22.6 MB/s eta 0:00:35\r     |▎                               | 6.5 MB 22.6 MB/s eta 0:00:35\r     |▎                               | 6.5 MB 22.6 MB/s eta 0:00:35\r     |▎                               | 6.5 MB 22.6 MB/s eta 0:00:35\r     |▎                               | 6.5 MB 22.6 MB/s eta 0:00:35\r     |▎                               | 6.5 MB 22.6 MB/s eta 0:00:35\r     |▎                               | 6.6 MB 22.6 MB/s eta 0:00:35\r     |▎                               | 6.6 MB 22.6 MB/s eta 0:00:35\r     |▎                               | 6.6 MB 22.6 MB/s eta 0:00:35\r     |▎                               | 6.6 MB 22.6 MB/s eta 0:00:35\r     |▎                               | 6.6 MB 22.6 MB/s eta 0:00:35\r     |▎                               | 6.6 MB 22.6 MB/s eta 0:00:35\r     |▎                               | 6.6 MB 22.6 MB/s eta 0:00:35\r     |▎                               | 6.6 MB 22.6 MB/s eta 0:00:35\r     |▎                               | 6.6 MB 22.6 MB/s eta 0:00:35\r     |▎                               | 6.6 MB 22.6 MB/s eta 0:00:35\r     |▎                               | 6.7 MB 22.6 MB/s eta 0:00:35\r     |▎                               | 6.7 MB 22.6 MB/s eta 0:00:35\r     |▎                               | 6.7 MB 22.6 MB/s eta 0:00:35\r     |▎                               | 6.7 MB 22.6 MB/s eta 0:00:35\r     |▎                               | 6.7 MB 22.6 MB/s eta 0:00:35\r     |▎                               | 6.7 MB 22.6 MB/s eta 0:00:35\r     |▎                               | 6.7 MB 22.6 MB/s eta 0:00:35\r     |▎                               | 6.7 MB 22.6 MB/s eta 0:00:35\r     |▎                               | 6.7 MB 22.6 MB/s eta 0:00:35\r     |▎                               | 6.7 MB 22.6 MB/s eta 0:00:35\r     |▎                               | 6.8 MB 22.6 MB/s eta 0:00:35\r     |▎                               | 6.8 MB 22.6 MB/s eta 0:00:35\r     |▎                               | 6.8 MB 22.6 MB/s eta 0:00:35\r     |▎                               | 6.8 MB 22.6 MB/s eta 0:00:35\r     |▎                               | 6.8 MB 22.6 MB/s eta 0:00:35\r     |▎                               | 6.8 MB 22.6 MB/s eta 0:00:35\r     |▎                               | 6.8 MB 22.6 MB/s eta 0:00:35\r     |▎                               | 6.8 MB 22.6 MB/s eta 0:00:35\r     |▎                               | 6.8 MB 22.6 MB/s eta 0:00:35\r     |▎                               | 6.9 MB 22.6 MB/s eta 0:00:35\r     |▎                               | 6.9 MB 22.6 MB/s eta 0:00:35\r     |▎                               | 6.9 MB 22.6 MB/s eta 0:00:35\r     |▎                               | 6.9 MB 22.6 MB/s eta 0:00:35\r     |▎                               | 6.9 MB 22.6 MB/s eta 0:00:35\r     |▎                               | 6.9 MB 22.6 MB/s eta 0:00:35\r     |▎                               | 6.9 MB 22.6 MB/s eta 0:00:35\r     |▎                               | 6.9 MB 22.6 MB/s eta 0:00:35\r     |▎                               | 6.9 MB 22.6 MB/s eta 0:00:35\r     |▎                               | 6.9 MB 22.6 MB/s eta 0:00:35\r     |▎                               | 7.0 MB 22.6 MB/s eta 0:00:35\r     |▎                               | 7.0 MB 22.6 MB/s eta 0:00:35\r     |▎                               | 7.0 MB 22.6 MB/s eta 0:00:35\r     |▎                               | 7.0 MB 22.6 MB/s eta 0:00:35\r     |▎                               | 7.0 MB 22.6 MB/s eta 0:00:35\r     |▎                               | 7.0 MB 22.6 MB/s eta 0:00:35\r     |▎                               | 7.0 MB 22.6 MB/s eta 0:00:35\r     |▎                               | 7.0 MB 22.6 MB/s eta 0:00:35\r     |▎                               | 7.0 MB 22.6 MB/s eta 0:00:35\r     |▎                               | 7.0 MB 22.6 MB/s eta 0:00:35\r     |▎                               | 7.1 MB 22.6 MB/s eta 0:00:35\r     |▎                               | 7.1 MB 22.6 MB/s eta 0:00:35\r     |▎                               | 7.1 MB 22.6 MB/s eta 0:00:35\r     |▎                               | 7.1 MB 22.6 MB/s eta 0:00:35\r     |▎                               | 7.1 MB 22.6 MB/s eta 0:00:35\r     |▎        \n*** WARNING: skipped 20306620 bytes of output ***\n\n\r     |███████████████████████████████ | 20.6 MB 50.7 MB/s eta 0:00:01\r     |███████████████████████████████ | 20.6 MB 50.7 MB/s eta 0:00:01\r     |███████████████████████████████ | 20.6 MB 50.7 MB/s eta 0:00:01\r     |███████████████████████████████ | 20.6 MB 50.7 MB/s eta 0:00:01\r     |███████████████████████████████ | 20.6 MB 50.7 MB/s eta 0:00:01\r     |███████████████████████████████ | 20.6 MB 50.7 MB/s eta 0:00:01\r     |███████████████████████████████ | 20.6 MB 50.7 MB/s eta 0:00:01\r     |███████████████████████████████ | 20.7 MB 50.7 MB/s eta 0:00:01\r     |███████████████████████████████ | 20.7 MB 50.7 MB/s eta 0:00:01\r     |███████████████████████████████ | 20.7 MB 50.7 MB/s eta 0:00:01\r     |███████████████████████████████ | 20.7 MB 50.7 MB/s eta 0:00:01\r     |███████████████████████████████ | 20.7 MB 50.7 MB/s eta 0:00:01\r     |███████████████████████████████ | 20.7 MB 50.7 MB/s eta 0:00:01\r     |███████████████████████████████▏| 20.7 MB 50.7 MB/s eta 0:00:01\r     |███████████████████████████████▏| 20.7 MB 50.7 MB/s eta 0:00:01\r     |███████████████████████████████▏| 20.7 MB 50.7 MB/s eta 0:00:01\r     |███████████████████████████████▏| 20.7 MB 50.7 MB/s eta 0:00:01\r     |███████████████████████████████▏| 20.8 MB 50.7 MB/s eta 0:00:01\r     |███████████████████████████████▏| 20.8 MB 50.7 MB/s eta 0:00:01\r     |███████████████████████████████▏| 20.8 MB 50.7 MB/s eta 0:00:01\r     |███████████████████████████████▎| 20.8 MB 50.7 MB/s eta 0:00:01\r     |███████████████████████████████▎| 20.8 MB 50.7 MB/s eta 0:00:01\r     |███████████████████████████████▎| 20.8 MB 50.7 MB/s eta 0:00:01\r     |███████████████████████████████▎| 20.8 MB 50.7 MB/s eta 0:00:01\r     |███████████████████████████████▎| 20.8 MB 50.7 MB/s eta 0:00:01\r     |███████████████████████████████▎| 20.8 MB 50.7 MB/s eta 0:00:01\r     |███████████████████████████████▎| 20.8 MB 50.7 MB/s eta 0:00:01\r     |███████████████████████████████▍| 20.9 MB 50.7 MB/s eta 0:00:01\r     |███████████████████████████████▍| 20.9 MB 50.7 MB/s eta 0:00:01\r     |███████████████████████████████▍| 20.9 MB 50.7 MB/s eta 0:00:01\r     |███████████████████████████████▍| 20.9 MB 50.7 MB/s eta 0:00:01\r     |███████████████████████████████▍| 20.9 MB 50.7 MB/s eta 0:00:01\r     |███████████████████████████████▍| 20.9 MB 50.7 MB/s eta 0:00:01\r     |███████████████████████████████▍| 20.9 MB 50.7 MB/s eta 0:00:01\r     |███████████████████████████████▌| 20.9 MB 50.7 MB/s eta 0:00:01\r     |███████████████████████████████▌| 20.9 MB 50.7 MB/s eta 0:00:01\r     |███████████████████████████████▌| 21.0 MB 50.7 MB/s eta 0:00:01\r     |███████████████████████████████▌| 21.0 MB 50.7 MB/s eta 0:00:01\r     |███████████████████████████████▌| 21.0 MB 50.7 MB/s eta 0:00:01\r     |███████████████████████████████▌| 21.0 MB 50.7 MB/s eta 0:00:01\r     |███████████████████████████████▌| 21.0 MB 50.7 MB/s eta 0:00:01\r     |███████████████████████████████▌| 21.0 MB 50.7 MB/s eta 0:00:01\r     |███████████████████████████████▋| 21.0 MB 50.7 MB/s eta 0:00:01\r     |███████████████████████████████▋| 21.0 MB 50.7 MB/s eta 0:00:01\r     |███████████████████████████████▋| 21.0 MB 50.7 MB/s eta 0:00:01\r     |███████████████████████████████▋| 21.0 MB 50.7 MB/s eta 0:00:01\r     |███████████████████████████████▋| 21.1 MB 50.7 MB/s eta 0:00:01\r     |███████████████████████████████▋| 21.1 MB 50.7 MB/s eta 0:00:01\r     |███████████████████████████████▋| 21.1 MB 50.7 MB/s eta 0:00:01\r     |███████████████████████████████▊| 21.1 MB 50.7 MB/s eta 0:00:01\r     |███████████████████████████████▊| 21.1 MB 50.7 MB/s eta 0:00:01\r     |███████████████████████████████▊| 21.1 MB 50.7 MB/s eta 0:00:01\r     |███████████████████████████████▊| 21.1 MB 50.7 MB/s eta 0:00:01\r     |███████████████████████████████▊| 21.1 MB 50.7 MB/s eta 0:00:01\r     |███████████████████████████████▊| 21.1 MB 50.7 MB/s eta 0:00:01\r     |███████████████████████████████▊| 21.1 MB 50.7 MB/s eta 0:00:01\r     |███████████████████████████████▉| 21.2 MB 50.7 MB/s eta 0:00:01\r     |███████████████████████████████▉| 21.2 MB 50.7 MB/s eta 0:00:01\r     |███████████████████████████████▉| 21.2 MB 50.7 MB/s eta 0:00:01\r     |███████████████████████████████▉| 21.2 MB 50.7 MB/s eta 0:00:01\r     |███████████████████████████████▉| 21.2 MB 50.7 MB/s eta 0:00:01\r     |███████████████████████████████▉| 21.2 MB 50.7 MB/s eta 0:00:01\r     |███████████████████████████████▉| 21.2 MB 50.7 MB/s eta 0:00:01\r     |████████████████████████████████| 21.2 MB 50.7 MB/s eta 0:00:01\r     |████████████████████████████████| 21.2 MB 50.7 MB/s eta 0:00:01\r     |████████████████████████████████| 21.2 MB 50.7 MB/s eta 0:00:01\r     |████████████████████████████████| 21.3 MB 50.7 MB/s eta 0:00:01\r     |████████████████████████████████| 21.3 MB 50.7 MB/s eta 0:00:01\r     |████████████████████████████████| 21.3 MB 50.7 MB/s eta 0:00:01\r     |████████████████████████████████| 21.3 MB 50.7 MB/s eta 0:00:01\r     |████████████████████████████████| 21.3 MB 50.7 MB/s \r\nRequirement already satisfied: MarkupSafe&gt;=0.23 in /databricks/python3/lib/python3.8/site-packages (from jinja2-&gt;torch) (1.1.1)\r\nCollecting mpmath&lt;1.4,&gt;=1.1.0\r\n  Downloading mpmath-1.3.0-py3-none-any.whl (536 kB)\r\n\r     |▋                               | 10 kB 35.7 MB/s eta 0:00:01\r     |█▎                              | 20 kB 39.2 MB/s eta 0:00:01\r     |█▉                              | 30 kB 44.7 MB/s eta 0:00:01\r     |██▌                             | 40 kB 46.3 MB/s eta 0:00:01\r     |███                             | 51 kB 45.9 MB/s eta 0:00:01\r     |███▊                            | 61 kB 48.4 MB/s eta 0:00:01\r     |████▎                           | 71 kB 50.0 MB/s eta 0:00:01\r     |█████                           | 81 kB 52.4 MB/s eta 0:00:01\r     |█████▌                          | 92 kB 54.9 MB/s eta 0:00:01\r     |██████▏                         | 102 kB 56.9 MB/s eta 0:00:01\r     |██████▊                         | 112 kB 56.9 MB/s eta 0:00:01\r     |███████▍                        | 122 kB 56.9 MB/s eta 0:00:01\r     |████████                        | 133 kB 56.9 MB/s eta 0:00:01\r     |████████▋                       | 143 kB 56.9 MB/s eta 0:00:01\r     |█████████▏                      | 153 kB 56.9 MB/s eta 0:00:01\r     |█████████▉                      | 163 kB 56.9 MB/s eta 0:00:01\r     |██████████▍                     | 174 kB 56.9 MB/s eta 0:00:01\r     |███████████                     | 184 kB 56.9 MB/s eta 0:00:01\r     |███████████▋                    | 194 kB 56.9 MB/s eta 0:00:01\r     |████████████▎                   | 204 kB 56.9 MB/s eta 0:00:01\r     |████████████▉                   | 215 kB 56.9 MB/s eta 0:00:01\r     |█████████████▌                  | 225 kB 56.9 MB/s eta 0:00:01\r     |██████████████                  | 235 kB 56.9 MB/s eta 0:00:01\r     |██████████████▊                 | 245 kB 56.9 MB/s eta 0:00:01\r     |███████████████▎                | 256 kB 56.9 MB/s eta 0:00:01\r     |████████████████                | 266 kB 56.9 MB/s eta 0:00:01\r     |████████████████▌               | 276 kB 56.9 MB/s eta 0:00:01\r     |█████████████████▏              | 286 kB 56.9 MB/s eta 0:00:01\r     |█████████████████▊              | 296 kB 56.9 MB/s eta 0:00:01\r     |██████████████████▍             | 307 kB 56.9 MB/s eta 0:00:01\r     |███████████████████             | 317 kB 56.9 MB/s eta 0:00:01\r     |███████████████████▋            | 327 kB 56.9 MB/s eta 0:00:01\r     |████████████████████▏           | 337 kB 56.9 MB/s eta 0:00:01\r     |████████████████████▉           | 348 kB 56.9 MB/s eta 0:00:01\r     |█████████████████████▍          | 358 kB 56.9 MB/s eta 0:00:01\r     |██████████████████████          | 368 kB 56.9 MB/s eta 0:00:01\r     |██████████████████████▋         | 378 kB 56.9 MB/s eta 0:00:01\r     |███████████████████████▎        | 389 kB 56.9 MB/s eta 0:00:01\r     |███████████████████████▉        | 399 kB 56.9 MB/s eta 0:00:01\r     |████████████████████████▌       | 409 kB 56.9 MB/s eta 0:00:01\r     |█████████████████████████       | 419 kB 56.9 MB/s eta 0:00:01\r     |█████████████████████████▊      | 430 kB 56.9 MB/s eta 0:00:01\r     |██████████████████████████▎     | 440 kB 56.9 MB/s eta 0:00:01\r     |███████████████████████████     | 450 kB 56.9 MB/s eta 0:00:01\r     |███████████████████████████▌    | 460 kB 56.9 MB/s eta 0:00:01\r     |████████████████████████████▏   | 471 kB 56.9 MB/s eta 0:00:01\r     |████████████████████████████▊   | 481 kB 56.9 MB/s eta 0:00:01\r     |█████████████████████████████▍  | 491 kB 56.9 MB/s eta 0:00:01\r     |██████████████████████████████  | 501 kB 56.9 MB/s eta 0:00:01\r     |██████████████████████████████▋ | 512 kB 56.9 MB/s eta 0:00:01\r     |███████████████████████████████▏| 522 kB 56.9 MB/s eta 0:00:01\r     |███████████████████████████████▉| 532 kB 56.9 MB/s eta 0:00:01\r     |████████████████████████████████| 536 kB 56.9 MB/s \r\nInstalling collected packages: nvidia-nvjitlink-cu12, nvidia-cusparse-cu12, nvidia-cublas-cu12, mpmath, typing-extensions, triton, sympy, nvidia-nvtx-cu12, nvidia-nccl-cu12, nvidia-cusolver-cu12, nvidia-curand-cu12, nvidia-cufft-cu12, nvidia-cudnn-cu12, nvidia-cuda-runtime-cu12, nvidia-cuda-nvrtc-cu12, nvidia-cuda-cupti-cu12, networkx, fsspec, torch\r\nSuccessfully installed fsspec-2024.6.1 mpmath-1.3.0 networkx-3.1 nvidia-cublas-cu12-12.1.3.1 nvidia-cuda-cupti-cu12-12.1.105 nvidia-cuda-nvrtc-cu12-12.1.105 nvidia-cuda-runtime-cu12-12.1.105 nvidia-cudnn-cu12-8.9.2.26 nvidia-cufft-cu12-11.0.2.54 nvidia-curand-cu12-10.3.2.106 nvidia-cusolver-cu12-11.4.5.107 nvidia-cusparse-cu12-12.1.0.106 nvidia-nccl-cu12-2.20.5 nvidia-nvjitlink-cu12-12.5.82 nvidia-nvtx-cu12-12.1.105 sympy-1.13.0 torch-2.3.1 triton-2.3.1 typing-extensions-4.12.2\r\n</div>",
       "datasetInfos": [],
       "metadata": {},
       "removedWidgets": [],
       "type": "html"
      }
     },
     "output_type": "display_data"
    }
   ],
   "source": [
    "!pip install --disable-pip-version-check torch"
   ]
  },
  {
   "cell_type": "code",
   "execution_count": 0,
   "metadata": {
    "application/vnd.databricks.v1+cell": {
     "cellMetadata": {
      "byteLimit": 2048000,
      "rowLimit": 10000
     },
     "collapsed": true,
     "inputWidgets": {},
     "nuid": "6f22b79c-1b6f-4743-b8d0-cc62e38213fc",
     "showTitle": false,
     "title": ""
    }
   },
   "outputs": [
    {
     "output_type": "display_data",
     "data": {
      "text/html": [
       "<style scoped>\n",
       "  .ansiout {\n",
       "    display: block;\n",
       "    unicode-bidi: embed;\n",
       "    white-space: pre-wrap;\n",
       "    word-wrap: break-word;\n",
       "    word-break: break-all;\n",
       "    font-family: \"Menlo\", \"Monaco\", \"Consolas\", \"Ubuntu Mono\", \"Source Code Pro\", monospace;\n",
       "    font-size: 13px;\n",
       "    color: #555;\n",
       "    margin-left: 4px;\n",
       "    line-height: 19px;\n",
       "  }\n",
       "</style>\n",
       "<div class=\"ansiout\">Collecting torchdata\r\n",
       "Successfully installed torchdata-0.7.1\r\n",
       "</div>"
      ]
     },
     "metadata": {
      "application/vnd.databricks.v1+output": {
       "addedWidgets": {},
       "arguments": {},
       "data": "<div class=\"ansiout\">Collecting torchdata\r\n  Downloading torchdata-0.7.1-cp38-cp38-manylinux_2_17_x86_64.manylinux2014_x86_64.whl (4.7 MB)\r\n\r     |                                | 10 kB 6.1 MB/s eta 0:00:01\r     |▏                               | 20 kB 11.0 MB/s eta 0:00:01\r     |▏                               | 30 kB 6.6 MB/s eta 0:00:01\r     |▎                               | 40 kB 8.5 MB/s eta 0:00:01\r     |▍                               | 51 kB 10.3 MB/s eta 0:00:01\r     |▍                               | 61 kB 9.3 MB/s eta 0:00:01\r     |▌                               | 71 kB 10.6 MB/s eta 0:00:01\r     |▋                               | 81 kB 11.9 MB/s eta 0:00:01\r     |▋                               | 92 kB 11.7 MB/s eta 0:00:01\r     |▊                               | 102 kB 12.8 MB/s eta 0:00:01\r     |▊                               | 112 kB 12.8 MB/s eta 0:00:01\r     |▉                               | 122 kB 12.8 MB/s eta 0:00:01\r     |█                               | 133 kB 12.8 MB/s eta 0:00:01\r     |█                               | 143 kB 12.8 MB/s eta 0:00:01\r     |█                               | 153 kB 12.8 MB/s eta 0:00:01\r     |█▏                              | 163 kB 12.8 MB/s eta 0:00:01\r     |█▏                              | 174 kB 12.8 MB/s eta 0:00:01\r     |█▎                              | 184 kB 12.8 MB/s eta 0:00:01\r     |█▍                              | 194 kB 12.8 MB/s eta 0:00:01\r     |█▍                              | 204 kB 12.8 MB/s eta 0:00:01\r     |█▌                              | 215 kB 12.8 MB/s eta 0:00:01\r     |█▌                              | 225 kB 12.8 MB/s eta 0:00:01\r     |█▋                              | 235 kB 12.8 MB/s eta 0:00:01\r     |█▊                              | 245 kB 12.8 MB/s eta 0:00:01\r     |█▊                              | 256 kB 12.8 MB/s eta 0:00:01\r     |█▉                              | 266 kB 12.8 MB/s eta 0:00:01\r     |██                              | 276 kB 12.8 MB/s eta 0:00:01\r     |██                              | 286 kB 12.8 MB/s eta 0:00:01\r     |██                              | 296 kB 12.8 MB/s eta 0:00:01\r     |██                              | 307 kB 12.8 MB/s eta 0:00:01\r     |██▏                             | 317 kB 12.8 MB/s eta 0:00:01\r     |██▎                             | 327 kB 12.8 MB/s eta 0:00:01\r     |██▎                             | 337 kB 12.8 MB/s eta 0:00:01\r     |██▍                             | 348 kB 12.8 MB/s eta 0:00:01\r     |██▌                             | 358 kB 12.8 MB/s eta 0:00:01\r     |██▌                             | 368 kB 12.8 MB/s eta 0:00:01\r     |██▋                             | 378 kB 12.8 MB/s eta 0:00:01\r     |██▊                             | 389 kB 12.8 MB/s eta 0:00:01\r     |██▊                             | 399 kB 12.8 MB/s eta 0:00:01\r     |██▉                             | 409 kB 12.8 MB/s eta 0:00:01\r     |██▉                             | 419 kB 12.8 MB/s eta 0:00:01\r     |███                             | 430 kB 12.8 MB/s eta 0:00:01\r     |███                             | 440 kB 12.8 MB/s eta 0:00:01\r     |███                             | 450 kB 12.8 MB/s eta 0:00:01\r     |███▏                            | 460 kB 12.8 MB/s eta 0:00:01\r     |███▎                            | 471 kB 12.8 MB/s eta 0:00:01\r     |███▎                            | 481 kB 12.8 MB/s eta 0:00:01\r     |███▍                            | 491 kB 12.8 MB/s eta 0:00:01\r     |███▌                            | 501 kB 12.8 MB/s eta 0:00:01\r     |███▌                            | 512 kB 12.8 MB/s eta 0:00:01\r     |███▋                            | 522 kB 12.8 MB/s eta 0:00:01\r     |███▋                            | 532 kB 12.8 MB/s eta 0:00:01\r     |███▊                            | 542 kB 12.8 MB/s eta 0:00:01\r     |███▉                            | 552 kB 12.8 MB/s eta 0:00:01\r     |███▉                            | 563 kB 12.8 MB/s eta 0:00:01\r     |████                            | 573 kB 12.8 MB/s eta 0:00:01\r     |████                            | 583 kB 12.8 MB/s eta 0:00:01\r     |████                            | 593 kB 12.8 MB/s eta 0:00:01\r     |████▏                           | 604 kB 12.8 MB/s eta 0:00:01\r     |████▏                           | 614 kB 12.8 MB/s eta 0:00:01\r     |████▎                           | 624 kB 12.8 MB/s eta 0:00:01\r     |████▍                           | 634 kB 12.8 MB/s eta 0:00:01\r     |████▍                           | 645 kB 12.8 MB/s eta 0:00:01\r     |████▌                           | 655 kB 12.8 MB/s eta 0:00:01\r     |████▋                           | 665 kB 12.8 MB/s eta 0:00:01\r     |████▋                           | 675 kB 12.8 MB/s eta 0:00:01\r     |████▊                           | 686 kB 12.8 MB/s eta 0:00:01\r     |████▉                           | 696 kB 12.8 MB/s eta 0:00:01\r     |████▉                           | 706 kB 12.8 MB/s eta 0:00:01\r     |█████                           | 716 kB 12.8 MB/s eta 0:00:01\r     |█████                           | 727 kB 12.8 MB/s eta 0:00:01\r     |█████                           | 737 kB 12.8 MB/s eta 0:00:01\r     |█████▏                          | 747 kB 12.8 MB/s eta 0:00:01\r     |█████▏                          | 757 kB 12.8 MB/s eta 0:00:01\r     |█████▎                          | 768 kB 12.8 MB/s eta 0:00:01\r     |█████▍                          | 778 kB 12.8 MB/s eta 0:00:01\r     |█████▍                          | 788 kB 12.8 MB/s eta 0:00:01\r     |█████▌                          | 798 kB 12.8 MB/s eta 0:00:01\r     |█████▋                          | 808 kB 12.8 MB/s eta 0:00:01\r     |█████▋                          | 819 kB 12.8 MB/s eta 0:00:01\r     |█████▊                          | 829 kB 12.8 MB/s eta 0:00:01\r     |█████▊                          | 839 kB 12.8 MB/s eta 0:00:01\r     |█████▉                          | 849 kB 12.8 MB/s eta 0:00:01\r     |██████                          | 860 kB 12.8 MB/s eta 0:00:01\r     |██████                          | 870 kB 12.8 MB/s eta 0:00:01\r     |██████                          | 880 kB 12.8 MB/s eta 0:00:01\r     |██████▏                         | 890 kB 12.8 MB/s eta 0:00:01\r     |██████▏                         | 901 kB 12.8 MB/s eta 0:00:01\r     |██████▎                         | 911 kB 12.8 MB/s eta 0:00:01\r     |██████▎                         | 921 kB 12.8 MB/s eta 0:00:01\r     |██████▍                         | 931 kB 12.8 MB/s eta 0:00:01\r     |██████▌                         | 942 kB 12.8 MB/s eta 0:00:01\r     |██████▌                         | 952 kB 12.8 MB/s eta 0:00:01\r     |██████▋                         | 962 kB 12.8 MB/s eta 0:00:01\r     |██████▊                         | 972 kB 12.8 MB/s eta 0:00:01\r     |██████▊                         | 983 kB 12.8 MB/s eta 0:00:01\r     |██████▉                         | 993 kB 12.8 MB/s eta 0:00:01\r     |███████                         | 1.0 MB 12.8 MB/s eta 0:00:01\r     |███████                         | 1.0 MB 12.8 MB/s eta 0:00:01\r     |███████                         | 1.0 MB 12.8 MB/s eta 0:00:01\r     |███████                         | 1.0 MB 12.8 MB/s eta 0:00:01\r     |███████▏                        | 1.0 MB 12.8 MB/s eta 0:00:01\r     |███████▎                        | 1.1 MB 12.8 MB/s eta 0:00:01\r     |███████▎                        | 1.1 MB 12.8 MB/s eta 0:00:01\r     |███████▍                        | 1.1 MB 12.8 MB/s eta 0:00:01\r     |███████▌                        | 1.1 MB 12.8 MB/s eta 0:00:01\r     |███████▌                        | 1.1 MB 12.8 MB/s eta 0:00:01\r     |███████▋                        | 1.1 MB 12.8 MB/s eta 0:00:01\r     |███████▊                        | 1.1 MB 12.8 MB/s eta 0:00:01\r     |███████▊                        | 1.1 MB 12.8 MB/s eta 0:00:01\r     |███████▉                        | 1.1 MB 12.8 MB/s eta 0:00:01\r     |███████▉                        | 1.1 MB 12.8 MB/s eta 0:00:01\r     |████████                        | 1.2 MB 12.8 MB/s eta 0:00:01\r     |████████                        | 1.2 MB 12.8 MB/s eta 0:00:01\r     |████████                        | 1.2 MB 12.8 MB/s eta 0:00:01\r     |████████▏                       | 1.2 MB 12.8 MB/s eta 0:00:01\r     |████████▎                       | 1.2 MB 12.8 MB/s eta 0:00:01\r     |████████▎                       | 1.2 MB 12.8 MB/s eta 0:00:01\r     |████████▍                       | 1.2 MB 12.8 MB/s eta 0:00:01\r     |████████▍                       | 1.2 MB 12.8 MB/s eta 0:00:01\r     |████████▌                       | 1.2 MB 12.8 MB/s eta 0:00:01\r     |████████▋                       | 1.2 MB 12.8 MB/s eta 0:00:01\r     |████████▋                       | 1.3 MB 12.8 MB/s eta 0:00:01\r     |████████▊                       | 1.3 MB 12.8 MB/s eta 0:00:01\r     |████████▉                       | 1.3 MB 12.8 MB/s eta 0:00:01\r     |████████▉                       | 1.3 MB 12.8 MB/s eta 0:00:01\r     |█████████                       | 1.3 MB 12.8 MB/s eta 0:00:01\r     |█████████                       | 1.3 MB 12.8 MB/s eta 0:00:01\r     |█████████                       | 1.3 MB 12.8 MB/s eta 0:00:01\r     |█████████▏                      | 1.3 MB 12.8 MB/s eta 0:00:01\r     |█████████▏                      | 1.3 MB 12.8 MB/s eta 0:00:01\r     |█████████▎                      | 1.4 MB 12.8 MB/s eta 0:00:01\r     |█████████▍                      | 1.4 MB 12.8 MB/s eta 0:00:01\r     |█████████▍                      | 1.4 MB 12.8 MB/s eta 0:00:01\r     |█████████▌                      | 1.4 MB 12.8 MB/s eta 0:00:01\r     |█████████▋                      | 1.4 MB 12.8 MB/s eta 0:00:01\r     |█████████▋                      | 1.4 MB 12.8 MB/s eta 0:00:01\r     |█████████▊                      | 1.4 MB 12.8 MB/s eta 0:00:01\r     |█████████▉                      | 1.4 MB 12.8 MB/s eta 0:00:01\r     |█████████▉                      | 1.4 MB 12.8 MB/s eta 0:00:01\r     |██████████                      | 1.4 MB 12.8 MB/s eta 0:00:01\r     |██████████                      | 1.5 MB 12.8 MB/s eta 0:00:01\r     |██████████                      | 1.5 MB 12.8 MB/s eta 0:00:01\r     |██████████▏                     | 1.5 MB 12.8 MB/s eta 0:00:01\r     |██████████▏                     | 1.5 MB 12.8 MB/s eta 0:00:01\r     |██████████▎                     | 1.5 MB 12.8 MB/s eta 0:00:01\r     |██████████▍                     | 1.5 MB 12.8 MB/s eta 0:00:01\r     |██████████▍                     | 1.5 MB 12.8 MB/s eta 0:00:01\r     |██████████▌                     | 1.5 MB 12.8 MB/s eta 0:00:01\r     |██████████▌                     | 1.5 MB 12.8 MB/s eta 0:00:01\r     |██████████▋                     | 1.5 MB 12.8 MB/s eta 0:00:01\r     |██████████▊                     | 1.6 MB 12.8 MB/s eta 0:00:01\r     |██████████▊                     | 1.6 MB 12.8 MB/s eta 0:00:01\r     |██████████▉                     | 1.6 MB 12.8 MB/s eta 0:00:01\r     |███████████                     | 1.6 MB 12.8 MB/s eta 0:00:01\r     |███████████                     | 1.6 MB 12.8 MB/s eta 0:00:01\r     |███████████                     | 1.6 MB 12.8 MB/s eta 0:00:01\r     |███████████▏                    | 1.6 MB 12.8 MB/s eta 0:00:01\r     |███████████▏                    | 1.6 MB 12.8 MB/s eta 0:00:01\r     |███████████▎                    | 1.6 MB 12.8 MB/s eta 0:00:01\r     |███████████▎                    | 1.6 MB 12.8 MB/s eta 0:00:01\r     |███████████▍                    | 1.7 MB 12.8 MB/s eta 0:00:01\r     |███████████▌                    | 1.7 MB 12.8 MB/s eta 0:00:01\r     |███████████▌                    | 1.7 MB 12.8 MB/s eta 0:00:01\r     |███████████▋                    | 1.7 MB 12.8 MB/s eta 0:00:01\r     |███████████▊                    | 1.7 MB 12.8 MB/s eta 0:00:01\r     |███████████▊                    | 1.7 MB 12.8 MB/s eta 0:00:01\r     |███████████▉                    | 1.7 MB 12.8 MB/s eta 0:00:01\r     |████████████                    | 1.7 MB 12.8 MB/s eta 0:00:01\r     |████████████                    | 1.7 MB 12.8 MB/s eta 0:00:01\r     |████████████                    | 1.8 MB 12.8 MB/s eta 0:00:01\r     |████████████                    | 1.8 MB 12.8 MB/s eta 0:00:01\r     |████████████▏                   | 1.8 MB 12.8 MB/s eta 0:00:01\r     |████████████▎                   | 1.8 MB 12.8 MB/s eta 0:00:01\r     |████████████▎                   | 1.8 MB 12.8 MB/s eta 0:00:01\r     |████████████▍                   | 1.8 MB 12.8 MB/s eta 0:00:01\r     |████████████▌                   | 1.8 MB 12.8 MB/s eta 0:00:01\r     |████████████▌                   | 1.8 MB 12.8 MB/s eta 0:00:01\r     |████████████▋                   | 1.8 MB 12.8 MB/s eta 0:00:01\r     |████████████▋                   | 1.8 MB 12.8 MB/s eta 0:00:01\r     |████████████▊                   | 1.9 MB 12.8 MB/s eta 0:00:01\r     |████████████▉                   | 1.9 MB 12.8 MB/s eta 0:00:01\r     |████████████▉                   | 1.9 MB 12.8 MB/s eta 0:00:01\r     |█████████████                   | 1.9 MB 12.8 MB/s eta 0:00:01\r     |█████████████                   | 1.9 MB 12.8 MB/s eta 0:00:01\r     |█████████████                   | 1.9 MB 12.8 MB/s eta 0:00:01\r     |█████████████▏                  | 1.9 MB 12.8 MB/s eta 0:00:01\r     |█████████████▎                  | 1.9 MB 12.8 MB/s eta 0:00:01\r     |█████████████▎                  | 1.9 MB 12.8 MB/s eta 0:00:01\r     |█████████████▍                  | 1.9 MB 12.8 MB/s eta 0:00:01\r     |█████████████▍                  | 2.0 MB 12.8 MB/s eta 0:00:01\r     |█████████████▌                  | 2.0 MB 12.8 MB/s eta 0:00:01\r     |█████████████▋                  | 2.0 MB 12.8 MB/s eta 0:00:01\r     |█████████████▋                  | 2.0 MB 12.8 MB/s eta 0:00:01\r     |█████████████▊                  | 2.0 MB 12.8 MB/s eta 0:00:01\r     |█████████████▉                  | 2.0 MB 12.8 MB/s eta 0:00:01\r     |█████████████▉                  | 2.0 MB 12.8 MB/s eta 0:00:01\r     |██████████████                  | 2.0 MB 12.8 MB/s eta 0:00:01\r     |██████████████                  | 2.0 MB 12.8 MB/s eta 0:00:01\r     |██████████████                  | 2.0 MB 12.8 MB/s eta 0:00:01\r     |██████████████▏                 | 2.1 MB 12.8 MB/s eta 0:00:01\r     |██████████████▏                 | 2.1 MB 12.8 MB/s eta 0:00:01\r     |██████████████▎                 | 2.1 MB 12.8 MB/s eta 0:00:01\r     |██████████████▍                 | 2.1 MB 12.8 MB/s eta 0:00:01\r     |██████████████▍                 | 2.1 MB 12.8 MB/s eta 0:00:01\r     |██████████████▌                 | 2.1 MB 12.8 MB/s eta 0:00:01\r     |██████████████▋                 | 2.1 MB 12.8 MB/s eta 0:00:01\r     |██████████████▋                 | 2.1 MB 12.8 MB/s eta 0:00:01\r     |██████████████▊                 | 2.1 MB 12.8 MB/s eta 0:00:01\r     |██████████████▊                 | 2.2 MB 12.8 MB/s eta 0:00:01\r     |██████████████▉                 | 2.2 MB 12.8 MB/s eta 0:00:01\r     |███████████████                 | 2.2 MB 12.8 MB/s eta 0:00:01\r     |███████████████                 | 2.2 MB 12.8 MB/s eta 0:00:01\r     |███████████████                 | 2.2 MB 12.8 MB/s eta 0:00:01\r     |███████████████▏                | 2.2 MB 12.8 MB/s eta 0:00:01\r     |███████████████▏                | 2.2 MB 12.8 MB/s eta 0:00:01\r     |███████████████▎                | 2.2 MB 12.8 MB/s eta 0:00:01\r     |███████████████▍                | 2.2 MB 12.8 MB/s eta 0:00:01\r     |███████████████▍                | 2.2 MB 12.8 MB/s eta 0:00:01\r     |███████████████▌                | 2.3 MB 12.8 MB/s eta 0:00:01\r     |███████████████▌                | 2.3 MB 12.8 MB/s eta 0:00:01\r     |███████████████▋                | 2.3 MB 12.8 MB/s eta 0:00:01\r     |███████████████▊                | 2.3 MB 12.8 MB/s eta 0:00:01\r     |███████████████▊                | 2.3 MB 12.8 MB/s eta 0:00:01\r     |███████████████▉                | 2.3 MB 12.8 MB/s eta 0:00:01\r     |████████████████                | 2.3 MB 12.8 MB/s eta 0:00:01\r     |████████████████                | 2.3 MB 12.8 MB/s eta 0:00:01\r     |████████████████                | 2.3 MB 12.8 MB/s eta 0:00:01\r     |████████████████                | 2.3 MB 12.8 MB/s eta 0:00:01\r     |████████████████▏               | 2.4 MB 12.8 MB/s eta 0:00:01\r     |████████████████▎               | 2.4 MB 12.8 MB/s eta 0:00:01\r     |████████████████▎               | 2.4 MB 12.8 MB/s eta 0:00:01\r     |████████████████▍               | 2.4 MB 12.8 MB/s eta 0:00:01\r     |████████████████▌               | 2.4 MB 12.8 MB/s eta 0:00:01\r     |████████████████▌               | 2.4 MB 12.8 MB/s eta 0:00:01\r     |████████████████▋               | 2.4 MB 12.8 MB/s eta 0:00:01\r     |████████████████▊               | 2.4 MB 12.8 MB/s eta 0:00:01\r     |████████████████▊               | 2.4 MB 12.8 MB/s eta 0:00:01\r     |████████████████▉               | 2.4 MB 12.8 MB/s eta 0:00:01\r     |████████████████▉               | 2.5 MB 12.8 MB/s eta 0:00:01\r     |█████████████████               | 2.5 MB 12.8 MB/s eta 0:00:01\r     |█████████████████               | 2.5 MB 12.8 MB/s eta 0:00:01\r     |█████████████████               | 2.5 MB 12.8 MB/s eta 0:00:01\r     |█████████████████▏              | 2.5 MB 12.8 MB/s eta 0:00:01\r     |█████████████████▎              | 2.5 MB 12.8 MB/s eta 0:00:01\r     |█████████████████▎              | 2.5 MB 12.8 MB/s eta 0:00:01\r     |█████████████████▍              | 2.5 MB 12.8 MB/s eta 0:00:01\r     |█████████████████▌              | 2.5 MB 12.8 MB/s eta 0:00:01\r     |█████████████████▌              | 2.5 MB 12.8 MB/s eta 0:00:01\r     |█████████████████▋              | 2.6 MB 12.8 MB/s eta 0:00:01\r     |█████████████████▋              | 2.6 MB 12.8 MB/s eta 0:00:01\r     |█████████████████▊              | 2.6 MB 12.8 MB/s eta 0:00:01\r     |█████████████████▉              | 2.6 MB 12.8 MB/s eta 0:00:01\r     |█████████████████▉              | 2.6 MB 12.8 MB/s eta 0:00:01\r     |██████████████████              | 2.6 MB 12.8 MB/s eta 0:00:01\r     |██████████████████              | 2.6 MB 12.8 MB/s eta 0:00:01\r     |██████████████████              | 2.6 MB 12.8 MB/s eta 0:00:01\r     |██████████████████▏             | 2.6 MB 12.8 MB/s eta 0:00:01\r     |██████████████████▏             | 2.7 MB 12.8 MB/s eta 0:00:01\r     |██████████████████▎             | 2.7 MB 12.8 MB/s eta 0:00:01\r     |██████████████████▍             | 2.7 MB 12.8 MB/s eta 0:00:01\r     |██████████████████▍             | 2.7 MB 12.8 MB/s eta 0:00:01\r     |██████████████████▌             | 2.7 MB 12.8 MB/s eta 0:00:01\r     |██████████████████▋             | 2.7 MB 12.8 MB/s eta 0:00:01\r     |██████████████████▋             | 2.7 MB 12.8 MB/s eta 0:00:01\r     |██████████████████▊             | 2.7 MB 12.8 MB/s eta 0:00:01\r     |██████████████████▉             | 2.7 MB 12.8 MB/s eta 0:00:01\r     |██████████████████▉             | 2.7 MB 12.8 MB/s eta 0:00:01\r     |███████████████████             | 2.8 MB 12.8 MB/s eta 0:00:01\r     |███████████████████             | 2.8 MB 12.8 MB/s eta 0:00:01\r     |███████████████████             | 2.8 MB 12.8 MB/s eta 0:00:01\r     |███████████████████▏            | 2.8 MB 12.8 MB/s eta 0:00:01\r     |███████████████████▏            | 2.8 MB 12.8 MB/s eta 0:00:01\r     |███████████████████▎            | 2.8 MB 12.8 MB/s eta 0:00:01\r     |███████████████████▍            | 2.8 MB 12.8 MB/s eta 0:00:01\r     |███████████████████▍            | 2.8 MB 12.8 MB/s eta 0:00:01\r     |███████████████████▌            | 2.8 MB 12.8 MB/s eta 0:00:01\r     |███████████████████▋            | 2.8 MB 12.8 MB/s eta 0:00:01\r     |███████████████████▋            | 2.9 MB 12.8 MB/s eta 0:00:01\r     |███████████████████▊            | 2.9 MB 12.8 MB/s eta 0:00:01\r     |███████████████████▊            | 2.9 MB 12.8 MB/s eta 0:00:01\r     |███████████████████▉            | 2.9 MB 12.8 MB/s eta 0:00:01\r     |████████████████████            | 2.9 MB 12.8 MB/s eta 0:00:01\r     |████████████████████            | 2.9 MB 12.8 MB/s eta 0:00:01\r     |████████████████████            | 2.9 MB 12.8 MB/s eta 0:00:01\r     |████████████████████▏           | 2.9 MB 12.8 MB/s eta 0:00:01\r     |████████████████████▏           | 2.9 MB 12.8 MB/s eta 0:00:01\r     |████████████████████▎           | 2.9 MB 12.8 MB/s eta 0:00:01\r     |████████████████████▎           | 3.0 MB 12.8 MB/s eta 0:00:01\r     |████████████████████▍           | 3.0 MB 12.8 MB/s eta 0:00:01\r     |████████████████████▌           | 3.0 MB 12.8 MB/s eta 0:00:01\r     |████████████████████▌           | 3.0 MB 12.8 MB/s eta 0:00:01\r     |████████████████████▋           | 3.0 MB 12.8 MB/s eta 0:00:01\r     |████████████████████▊           | 3.0 MB 12.8 MB/s eta 0:00:01\r     |████████████████████▊           | 3.0 MB 12.8 MB/s eta 0:00:01\r     |████████████████████▉           | 3.0 MB 12.8 MB/s eta 0:00:01\r     |█████████████████████           | 3.0 MB 12.8 MB/s eta 0:00:01\r     |█████████████████████           | 3.1 MB 12.8 MB/s eta 0:00:01\r     |█████████████████████           | 3.1 MB 12.8 MB/s eta 0:00:01\r     |█████████████████████           | 3.1 MB 12.8 MB/s eta 0:00:01\r     |█████████████████████▏          | 3.1 MB 12.8 MB/s eta 0:00:01\r     |█████████████████████▎          | 3.1 MB 12.8 MB/s eta 0:00:01\r     |█████████████████████▎          | 3.1 MB 12.8 MB/s eta 0:00:01\r     |█████████████████████▍          | 3.1 MB 12.8 MB/s eta 0:00:01\r     |█████████████████████▌          | 3.1 MB 12.8 MB/s eta 0:00:01\r     |█████████████████████▌          | 3.1 MB 12.8 MB/s eta 0:00:01\r     |█████████████████████▋          | 3.1 MB 12.8 MB/s eta 0:00:01\r     |█████████████████████▊          | 3.2 MB 12.8 MB/s eta 0:00:01\r     |█████████████████████▊          | 3.2 MB 12.8 MB/s eta 0:00:01\r     |█████████████████████▉          | 3.2 MB 12.8 MB/s eta 0:00:01\r     |█████████████████████▉          | 3.2 MB 12.8 MB/s eta 0:00:01\r     |██████████████████████          | 3.2 MB 12.8 MB/s eta 0:00:01\r     |██████████████████████          | 3.2 MB 12.8 MB/s eta 0:00:01\r     |██████████████████████          | 3.2 MB 12.8 MB/s eta 0:00:01\r     |██████████████████████▏         | 3.2 MB 12.8 MB/s eta 0:00:01\r     |██████████████████████▎         | 3.2 MB 12.8 MB/s eta 0:00:01\r     |██████████████████████▎         | 3.2 MB 12.8 MB/s eta 0:00:01\r     |██████████████████████▍         | 3.3 MB 12.8 MB/s eta 0:00:01\r     |██████████████████████▍         | 3.3 MB 12.8 MB/s eta 0:00:01\r     |██████████████████████▌         | 3.3 MB 12.8 MB/s eta 0:00:01\r     |██████████████████████▋         | 3.3 MB 12.8 MB/s eta 0:00:01\r     |██████████████████████▋         | 3.3 MB 12.8 MB/s eta 0:00:01\r     |██████████████████████▊         | 3.3 MB 12.8 MB/s eta 0:00:01\r     |██████████████████████▉         | 3.3 MB 12.8 MB/s eta 0:00:01\r     |██████████████████████▉         | 3.3 MB 12.8 MB/s eta 0:00:01\r     |███████████████████████         | 3.3 MB 12.8 MB/s eta 0:00:01\r     |███████████████████████         | 3.3 MB 12.8 MB/s eta 0:00:01\r     |███████████████████████         | 3.4 MB 12.8 MB/s eta 0:00:01\r     |███████████████████████▏        | 3.4 MB 12.8 MB/s eta 0:00:01\r     |███████████████████████▏        | 3.4 MB 12.8 MB/s eta 0:00:01\r     |███████████████████████▎        | 3.4 MB 12.8 MB/s eta 0:00:01\r     |███████████████████████▍        | 3.4 MB 12.8 MB/s eta 0:00:01\r     |███████████████████████▍        | 3.4 MB 12.8 MB/s eta 0:00:01\r     |███████████████████████▌        | 3.4 MB 12.8 MB/s eta 0:00:01\r     |███████████████████████▋        | 3.4 MB 12.8 MB/s eta 0:00:01\r     |███████████████████████▋        | 3.4 MB 12.8 MB/s eta 0:00:01\r     |███████████████████████▊        | 3.5 MB 12.8 MB/s eta 0:00:01\r     |███████████████████████▉        | 3.5 MB 12.8 MB/s eta 0:00:01\r     |███████████████████████▉        | 3.5 MB 12.8 MB/s eta 0:00:01\r     |████████████████████████        | 3.5 MB 12.8 MB/s eta 0:00:01\r     |████████████████████████        | 3.5 MB 12.8 MB/s eta 0:00:01\r     |████████████████████████        | 3.5 MB 12.8 MB/s eta 0:00:01\r     |████████████████████████▏       | 3.5 MB 12.8 MB/s eta 0:00:01\r     |████████████████████████▏       | 3.5 MB 12.8 MB/s eta 0:00:01\r     |████████████████████████▎       | 3.5 MB 12.8 MB/s eta 0:00:01\r     |████████████████████████▍       | 3.5 MB 12.8 MB/s eta 0:00:01\r     |████████████████████████▍       | 3.6 MB 12.8 MB/s eta 0:00:01\r     |████████████████████████▌       | 3.6 MB 12.8 MB/s eta 0:00:01\r     |████████████████████████▌       | 3.6 MB 12.8 MB/s eta 0:00:01\r     |████████████████████████▋       | 3.6 MB 12.8 MB/s eta 0:00:01\r     |████████████████████████▊       | 3.6 MB 12.8 MB/s eta 0:00:01\r     |████████████████████████▊       | 3.6 MB 12.8 MB/s eta 0:00:01\r     |████████████████████████▉       | 3.6 MB 12.8 MB/s eta 0:00:01\r     |█████████████████████████       | 3.6 MB 12.8 MB/s eta 0:00:01\r     |█████████████████████████       | 3.6 MB 12.8 MB/s eta 0:00:01\r     |█████████████████████████       | 3.6 MB 12.8 MB/s eta 0:00:01\r     |█████████████████████████▏      | 3.7 MB 12.8 MB/s eta 0:00:01\r     |█████████████████████████▏      | 3.7 MB 12.8 MB/s eta 0:00:01\r     |█████████████████████████▎      | 3.7 MB 12.8 MB/s eta 0:00:01\r     |█████████████████████████▎      | 3.7 MB 12.8 MB/s eta 0:00:01\r     |█████████████████████████▍      | 3.7 MB 12.8 MB/s eta 0:00:01\r     |█████████████████████████▌      | 3.7 MB 12.8 MB/s eta 0:00:01\r     |█████████████████████████▌      | 3.7 MB 12.8 MB/s eta 0:00:01\r     |█████████████████████████▋      | 3.7 MB 12.8 MB/s eta 0:00:01\r     |█████████████████████████▊      | 3.7 MB 12.8 MB/s eta 0:00:01\r     |█████████████████████████▊      | 3.7 MB 12.8 MB/s eta 0:00:01\r     |█████████████████████████▉      | 3.8 MB 12.8 MB/s eta 0:00:01\r     |██████████████████████████      | 3.8 MB 12.8 MB/s eta 0:00:01\r     |██████████████████████████      | 3.8 MB 12.8 MB/s eta 0:00:01\r     |██████████████████████████      | 3.8 MB 12.8 MB/s eta 0:00:01\r     |██████████████████████████      | 3.8 MB 12.8 MB/s eta 0:00:01\r     |██████████████████████████▏     | 3.8 MB 12.8 MB/s eta 0:00:01\r     |██████████████████████████▎     | 3.8 MB 12.8 MB/s eta 0:00:01\r     |██████████████████████████▎     | 3.8 MB 12.8 MB/s eta 0:00:01\r     |██████████████████████████▍     | 3.8 MB 12.8 MB/s eta 0:00:01\r     |██████████████████████████▌     | 3.9 MB 12.8 MB/s eta 0:00:01\r     |██████████████████████████▌     | 3.9 MB 12.8 MB/s eta 0:00:01\r     |██████████████████████████▋     | 3.9 MB 12.8 MB/s eta 0:00:01\r     |██████████████████████████▋     | 3.9 MB 12.8 MB/s eta 0:00:01\r     |██████████████████████████▊     | 3.9 MB 12.8 MB/s eta 0:00:01\r     |██████████████████████████▉     | 3.9 MB 12.8 MB/s eta 0:00:01\r     |██████████████████████████▉     | 3.9 MB 12.8 MB/s eta 0:00:01\r     |███████████████████████████     | 3.9 MB 12.8 MB/s eta 0:00:01\r     |███████████████████████████     | 3.9 MB 12.8 MB/s eta 0:00:01\r     |███████████████████████████     | 3.9 MB 12.8 MB/s eta 0:00:01\r     |███████████████████████████▏    | 4.0 MB 12.8 MB/s eta 0:00:01\r     |███████████████████████████▎    | 4.0 MB 12.8 MB/s eta 0:00:01\r     |███████████████████████████▎    | 4.0 MB 12.8 MB/s eta 0:00:01\r     |███████████████████████████▍    | 4.0 MB 12.8 MB/s eta 0:00:01\r     |███████████████████████████▍    | 4.0 MB 12.8 MB/s eta 0:00:01\r     |███████████████████████████▌    | 4.0 MB 12.8 MB/s eta 0:00:01\r     |███████████████████████████▋    | 4.0 MB 12.8 MB/s eta 0:00:01\r     |███████████████████████████▋    | 4.0 MB 12.8 MB/s eta 0:00:01\r     |███████████████████████████▊    | 4.0 MB 12.8 MB/s eta 0:00:01\r     |███████████████████████████▉    | 4.0 MB 12.8 MB/s eta 0:00:01\r     |███████████████████████████▉    | 4.1 MB 12.8 MB/s eta 0:00:01\r     |████████████████████████████    | 4.1 MB 12.8 MB/s eta 0:00:01\r     |████████████████████████████    | 4.1 MB 12.8 MB/s eta 0:00:01\r     |████████████████████████████    | 4.1 MB 12.8 MB/s eta 0:00:01\r     |████████████████████████████▏   | 4.1 MB 12.8 MB/s eta 0:00:01\r     |████████████████████████████▏   | 4.1 MB 12.8 MB/s eta 0:00:01\r     |████████████████████████████▎   | 4.1 MB 12.8 MB/s eta 0:00:01\r     |████████████████████████████▍   | 4.1 MB 12.8 MB/s eta 0:00:01\r     |████████████████████████████▍   | 4.1 MB 12.8 MB/s eta 0:00:01\r     |████████████████████████████▌   | 4.1 MB 12.8 MB/s eta 0:00:01\r     |████████████████████████████▋   | 4.2 MB 12.8 MB/s eta 0:00:01\r     |████████████████████████████▋   | 4.2 MB 12.8 MB/s eta 0:00:01\r     |████████████████████████████▊   | 4.2 MB 12.8 MB/s eta 0:00:01\r     |████████████████████████████▊   | 4.2 MB 12.8 MB/s eta 0:00:01\r     |████████████████████████████▉   | 4.2 MB 12.8 MB/s eta 0:00:01\r     |█████████████████████████████   | 4.2 MB 12.8 MB/s eta 0:00:01\r     |█████████████████████████████   | 4.2 MB 12.8 MB/s eta 0:00:01\r     |█████████████████████████████   | 4.2 MB 12.8 MB/s eta 0:00:01\r     |█████████████████████████████▏  | 4.2 MB 12.8 MB/s eta 0:00:01\r     |█████████████████████████████▏  | 4.2 MB 12.8 MB/s eta 0:00:01\r     |█████████████████████████████▎  | 4.3 MB 12.8 MB/s eta 0:00:01\r     |█████████████████████████████▍  | 4.3 MB 12.8 MB/s eta 0:00:01\r     |█████████████████████████████▍  | 4.3 MB 12.8 MB/s eta 0:00:01\r     |█████████████████████████████▌  | 4.3 MB 12.8 MB/s eta 0:00:01\r     |█████████████████████████████▌  | 4.3 MB 12.8 MB/s eta 0:00:01\r     |█████████████████████████████▋  | 4.3 MB 12.8 MB/s eta 0:00:01\r     |█████████████████████████████▊  | 4.3 MB 12.8 MB/s eta 0:00:01\r     |█████████████████████████████▊  | 4.3 MB 12.8 MB/s eta 0:00:01\r     |█████████████████████████████▉  | 4.3 MB 12.8 MB/s eta 0:00:01\r     |██████████████████████████████  | 4.4 MB 12.8 MB/s eta 0:00:01\r     |██████████████████████████████  | 4.4 MB 12.8 MB/s eta 0:00:01\r     |██████████████████████████████  | 4.4 MB 12.8 MB/s eta 0:00:01\r     |██████████████████████████████▏ | 4.4 MB 12.8 MB/s eta 0:00:01\r     |██████████████████████████████▏ | 4.4 MB 12.8 MB/s eta 0:00:01\r     |██████████████████████████████▎ | 4.4 MB 12.8 MB/s eta 0:00:01\r     |██████████████████████████████▎ | 4.4 MB 12.8 MB/s eta 0:00:01\r     |██████████████████████████████▍ | 4.4 MB 12.8 MB/s eta 0:00:01\r     |██████████████████████████████▌ | 4.4 MB 12.8 MB/s eta 0:00:01\r     |██████████████████████████████▌ | 4.4 MB 12.8 MB/s eta 0:00:01\r     |██████████████████████████████▋ | 4.5 MB 12.8 MB/s eta 0:00:01\r     |██████████████████████████████▊ | 4.5 MB 12.8 MB/s eta 0:00:01\r     |██████████████████████████████▊ | 4.5 MB 12.8 MB/s eta 0:00:01\r     |██████████████████████████████▉ | 4.5 MB 12.8 MB/s eta 0:00:01\r     |██████████████████████████████▉ | 4.5 MB 12.8 MB/s eta 0:00:01\r     |███████████████████████████████ | 4.5 MB 12.8 MB/s eta 0:00:01\r     |███████████████████████████████ | 4.5 MB 12.8 MB/s eta 0:00:01\r     |███████████████████████████████ | 4.5 MB 12.8 MB/s eta 0:00:01\r     |███████████████████████████████▏| 4.5 MB 12.8 MB/s eta 0:00:01\r     |███████████████████████████████▎| 4.5 MB 12.8 MB/s eta 0:00:01\r     |███████████████████████████████▎| 4.6 MB 12.8 MB/s eta 0:00:01\r     |███████████████████████████████▍| 4.6 MB 12.8 MB/s eta 0:00:01\r     |███████████████████████████████▌| 4.6 MB 12.8 MB/s eta 0:00:01\r     |███████████████████████████████▌| 4.6 MB 12.8 MB/s eta 0:00:01\r     |███████████████████████████████▋| 4.6 MB 12.8 MB/s eta 0:00:01\r     |███████████████████████████████▋| 4.6 MB 12.8 MB/s eta 0:00:01\r     |███████████████████████████████▊| 4.6 MB 12.8 MB/s eta 0:00:01\r     |███████████████████████████████▉| 4.6 MB 12.8 MB/s eta 0:00:01\r     |███████████████████████████████▉| 4.6 MB 12.8 MB/s eta 0:00:01\r     |████████████████████████████████| 4.6 MB 12.8 MB/s eta 0:00:01\r     |████████████████████████████████| 4.7 MB 41 kB/s \r\nRequirement already satisfied: requests in /databricks/python3/lib/python3.8/site-packages (from torchdata) (2.25.1)\r\nRequirement already satisfied: torch&gt;=2 in /databricks/python3/lib/python3.8/site-packages (from torchdata) (2.3.1)\r\nRequirement already satisfied: urllib3&gt;=1.25 in /databricks/python3/lib/python3.8/site-packages (from torchdata) (1.25.11)\r\nRequirement already satisfied: nvidia-cuda-nvrtc-cu12==12.1.105 in /databricks/python3/lib/python3.8/site-packages (from torch&gt;=2-&gt;torchdata) (12.1.105)\r\nRequirement already satisfied: networkx in /databricks/python3/lib/python3.8/site-packages (from torch&gt;=2-&gt;torchdata) (3.1)\r\nRequirement already satisfied: nvidia-nvtx-cu12==12.1.105 in /databricks/python3/lib/python3.8/site-packages (from torch&gt;=2-&gt;torchdata) (12.1.105)\r\nRequirement already satisfied: nvidia-cufft-cu12==11.0.2.54 in /databricks/python3/lib/python3.8/site-packages (from torch&gt;=2-&gt;torchdata) (11.0.2.54)\r\nRequirement already satisfied: fsspec in /databricks/python3/lib/python3.8/site-packages (from torch&gt;=2-&gt;torchdata) (2024.6.1)\r\nRequirement already satisfied: nvidia-cusolver-cu12==11.4.5.107 in /databricks/python3/lib/python3.8/site-packages (from torch&gt;=2-&gt;torchdata) (11.4.5.107)\r\nRequirement already satisfied: triton==2.3.1 in /databricks/python3/lib/python3.8/site-packages (from torch&gt;=2-&gt;torchdata) (2.3.1)\r\nRequirement already satisfied: jinja2 in /databricks/python3/lib/python3.8/site-packages (from torch&gt;=2-&gt;torchdata) (2.11.3)\r\nRequirement already satisfied: nvidia-curand-cu12==10.3.2.106 in /databricks/python3/lib/python3.8/site-packages (from torch&gt;=2-&gt;torchdata) (10.3.2.106)\r\nRequirement already satisfied: nvidia-cuda-runtime-cu12==12.1.105 in /databricks/python3/lib/python3.8/site-packages (from torch&gt;=2-&gt;torchdata) (12.1.105)\r\nRequirement already satisfied: nvidia-nccl-cu12==2.20.5 in /databricks/python3/lib/python3.8/site-packages (from torch&gt;=2-&gt;torchdata) (2.20.5)\r\nRequirement already satisfied: nvidia-cuda-cupti-cu12==12.1.105 in /databricks/python3/lib/python3.8/site-packages (from torch&gt;=2-&gt;torchdata) (12.1.105)\r\nRequirement already satisfied: filelock in /usr/local/lib/python3.8/dist-packages (from torch&gt;=2-&gt;torchdata) (3.0.12)\r\nRequirement already satisfied: nvidia-cudnn-cu12==8.9.2.26 in /databricks/python3/lib/python3.8/site-packages (from torch&gt;=2-&gt;torchdata) (8.9.2.26)\r\nRequirement already satisfied: nvidia-cusparse-cu12==12.1.0.106 in /databricks/python3/lib/python3.8/site-packages (from torch&gt;=2-&gt;torchdata) (12.1.0.106)\r\nRequirement already satisfied: typing-extensions&gt;=4.8.0 in /databricks/python3/lib/python3.8/site-packages (from torch&gt;=2-&gt;torchdata) (4.12.2)\r\nRequirement already satisfied: nvidia-cublas-cu12==12.1.3.1 in /databricks/python3/lib/python3.8/site-packages (from torch&gt;=2-&gt;torchdata) (12.1.3.1)\r\nRequirement already satisfied: sympy in /databricks/python3/lib/python3.8/site-packages (from torch&gt;=2-&gt;torchdata) (1.13.0)\r\nRequirement already satisfied: nvidia-nvjitlink-cu12 in /databricks/python3/lib/python3.8/site-packages (from nvidia-cusolver-cu12==11.4.5.107-&gt;torch&gt;=2-&gt;torchdata) (12.5.82)\r\nRequirement already satisfied: MarkupSafe&gt;=0.23 in /databricks/python3/lib/python3.8/site-packages (from jinja2-&gt;torch&gt;=2-&gt;torchdata) (1.1.1)\r\nRequirement already satisfied: idna&lt;3,&gt;=2.5 in /databricks/python3/lib/python3.8/site-packages (from requests-&gt;torchdata) (2.10)\r\nRequirement already satisfied: certifi&gt;=2017.4.17 in /databricks/python3/lib/python3.8/site-packages (from requests-&gt;torchdata) (2020.12.5)\r\nRequirement already satisfied: chardet&lt;5,&gt;=3.0.2 in /databricks/python3/lib/python3.8/site-packages (from requests-&gt;torchdata) (4.0.0)\r\nRequirement already satisfied: mpmath&lt;1.4,&gt;=1.1.0 in /databricks/python3/lib/python3.8/site-packages (from sympy-&gt;torch&gt;=2-&gt;torchdata) (1.3.0)\r\nInstalling collected packages: torchdata\r\nSuccessfully installed torchdata-0.7.1\r\n</div>",
       "datasetInfos": [],
       "metadata": {},
       "removedWidgets": [],
       "type": "html"
      }
     },
     "output_type": "display_data"
    }
   ],
   "source": [
    "!pip install --disable-pip-version-check torchdata"
   ]
  },
  {
   "cell_type": "code",
   "execution_count": 0,
   "metadata": {
    "application/vnd.databricks.v1+cell": {
     "cellMetadata": {
      "byteLimit": 2048000,
      "rowLimit": 10000
     },
     "collapsed": true,
     "inputWidgets": {},
     "nuid": "c6172fc6-66e6-45e7-af8f-802ef1569e42",
     "showTitle": false,
     "title": ""
    }
   },
   "outputs": [
    {
     "output_type": "display_data",
     "data": {
      "text/html": [
       "<style scoped>\n",
       "  .ansiout {\n",
       "    display: block;\n",
       "    unicode-bidi: embed;\n",
       "    white-space: pre-wrap;\n",
       "    word-wrap: break-word;\n",
       "    word-break: break-all;\n",
       "    font-family: \"Menlo\", \"Monaco\", \"Consolas\", \"Ubuntu Mono\", \"Source Code Pro\", monospace;\n",
       "    font-size: 13px;\n",
       "    color: #555;\n",
       "    margin-left: 4px;\n",
       "    line-height: 19px;\n",
       "  }\n",
       "</style>\n",
       "<div class=\"ansiout\">Collecting transformers\r\n",
       "  Downloading transformers-4.42.4-py3-none-any.whl (9.3 MB)\r\n",
       "Successfully installed huggingface-hub-0.23.4 pyyaml-6.0.1 regex-2024.5.15 safetensors-0.4.3 tokenizers-0.19.1 tqdm-4.66.4 transformers-4.42.4\r\n",
       "</div>"
      ]
     },
     "metadata": {
      "application/vnd.databricks.v1+output": {
       "addedWidgets": {},
       "arguments": {},
       "data": "<div class=\"ansiout\">Collecting transformers\r\n  Downloading transformers-4.42.4-py3-none-any.whl (9.3 MB)\r\n\r     |                                | 10 kB 18.0 MB/s eta 0:00:01\r     |                                | 20 kB 23.8 MB/s eta 0:00:01\r     |                                | 30 kB 31.0 MB/s eta 0:00:01\r     |▏                               | 40 kB 19.3 MB/s eta 0:00:01\r     |▏                               | 51 kB 21.3 MB/s eta 0:00:01\r     |▏                               | 61 kB 24.2 MB/s eta 0:00:01\r     |▎                               | 71 kB 18.5 MB/s eta 0:00:01\r     |▎                               | 81 kB 19.8 MB/s eta 0:00:01\r     |▎                               | 92 kB 21.6 MB/s eta 0:00:01\r     |▍                               | 102 kB 20.7 MB/s eta 0:00:01\r     |▍                               | 112 kB 20.7 MB/s eta 0:00:01\r     |▍                               | 122 kB 20.7 MB/s eta 0:00:01\r     |▌                               | 133 kB 20.7 MB/s eta 0:00:01\r     |▌                               | 143 kB 20.7 MB/s eta 0:00:01\r     |▌                               | 153 kB 20.7 MB/s eta 0:00:01\r     |▋                               | 163 kB 20.7 MB/s eta 0:00:01\r     |▋                               | 174 kB 20.7 MB/s eta 0:00:01\r     |▋                               | 184 kB 20.7 MB/s eta 0:00:01\r     |▊                               | 194 kB 20.7 MB/s eta 0:00:01\r     |▊                               | 204 kB 20.7 MB/s eta 0:00:01\r     |▊                               | 215 kB 20.7 MB/s eta 0:00:01\r     |▊                               | 225 kB 20.7 MB/s eta 0:00:01\r     |▉                               | 235 kB 20.7 MB/s eta 0:00:01\r     |▉                               | 245 kB 20.7 MB/s eta 0:00:01\r     |▉                               | 256 kB 20.7 MB/s eta 0:00:01\r     |█                               | 266 kB 20.7 MB/s eta 0:00:01\r     |█                               | 276 kB 20.7 MB/s eta 0:00:01\r     |█                               | 286 kB 20.7 MB/s eta 0:00:01\r     |█                               | 296 kB 20.7 MB/s eta 0:00:01\r     |█                               | 307 kB 20.7 MB/s eta 0:00:01\r     |█                               | 317 kB 20.7 MB/s eta 0:00:01\r     |█▏                              | 327 kB 20.7 MB/s eta 0:00:01\r     |█▏                              | 337 kB 20.7 MB/s eta 0:00:01\r     |█▏                              | 348 kB 20.7 MB/s eta 0:00:01\r     |█▎                              | 358 kB 20.7 MB/s eta 0:00:01\r     |█▎                              | 368 kB 20.7 MB/s eta 0:00:01\r     |█▎                              | 378 kB 20.7 MB/s eta 0:00:01\r     |█▍                              | 389 kB 20.7 MB/s eta 0:00:01\r     |█▍                              | 399 kB 20.7 MB/s eta 0:00:01\r     |█▍                              | 409 kB 20.7 MB/s eta 0:00:01\r     |█▍                              | 419 kB 20.7 MB/s eta 0:00:01\r     |█▌                              | 430 kB 20.7 MB/s eta 0:00:01\r     |█▌                              | 440 kB 20.7 MB/s eta 0:00:01\r     |█▌                              | 450 kB 20.7 MB/s eta 0:00:01\r     |█▋                              | 460 kB 20.7 MB/s eta 0:00:01\r     |█▋                              | 471 kB 20.7 MB/s eta 0:00:01\r     |█▋                              | 481 kB 20.7 MB/s eta 0:00:01\r     |█▊                              | 491 kB 20.7 MB/s eta 0:00:01\r     |█▊                              | 501 kB 20.7 MB/s eta 0:00:01\r     |█▊                              | 512 kB 20.7 MB/s eta 0:00:01\r     |█▉                              | 522 kB 20.7 MB/s eta 0:00:01\r     |█▉                              | 532 kB 20.7 MB/s eta 0:00:01\r     |█▉                              | 542 kB 20.7 MB/s eta 0:00:01\r     |██                              | 552 kB 20.7 MB/s eta 0:00:01\r     |██                              | 563 kB 20.7 MB/s eta 0:00:01\r     |██                              | 573 kB 20.7 MB/s eta 0:00:01\r     |██                              | 583 kB 20.7 MB/s eta 0:00:01\r     |██                              | 593 kB 20.7 MB/s eta 0:00:01\r     |██                              | 604 kB 20.7 MB/s eta 0:00:01\r     |██                              | 614 kB 20.7 MB/s eta 0:00:01\r     |██▏                             | 624 kB 20.7 MB/s eta 0:00:01\r     |██▏                             | 634 kB 20.7 MB/s eta 0:00:01\r     |██▏                             | 645 kB 20.7 MB/s eta 0:00:01\r     |██▎                             | 655 kB 20.7 MB/s eta 0:00:01\r     |██▎                             | 665 kB 20.7 MB/s eta 0:00:01\r     |██▎                             | 675 kB 20.7 MB/s eta 0:00:01\r     |██▍                             | 686 kB 20.7 MB/s eta 0:00:01\r     |██▍                             | 696 kB 20.7 MB/s eta 0:00:01\r     |██▍                             | 706 kB 20.7 MB/s eta 0:00:01\r     |██▌                             | 716 kB 20.7 MB/s eta 0:00:01\r     |██▌                             | 727 kB 20.7 MB/s eta 0:00:01\r     |██▌                             | 737 kB 20.7 MB/s eta 0:00:01\r     |██▋                             | 747 kB 20.7 MB/s eta 0:00:01\r     |██▋                             | 757 kB 20.7 MB/s eta 0:00:01\r     |██▋                             | 768 kB 20.7 MB/s eta 0:00:01\r     |██▊                             | 778 kB 20.7 MB/s eta 0:00:01\r     |██▊                             | 788 kB 20.7 MB/s eta 0:00:01\r     |██▊                             | 798 kB 20.7 MB/s eta 0:00:01\r     |██▊                             | 808 kB 20.7 MB/s eta 0:00:01\r     |██▉                             | 819 kB 20.7 MB/s eta 0:00:01\r     |██▉                             | 829 kB 20.7 MB/s eta 0:00:01\r     |██▉                             | 839 kB 20.7 MB/s eta 0:00:01\r     |███                             | 849 kB 20.7 MB/s eta 0:00:01\r     |███                             | 860 kB 20.7 MB/s eta 0:00:01\r     |███                             | 870 kB 20.7 MB/s eta 0:00:01\r     |███                             | 880 kB 20.7 MB/s eta 0:00:01\r     |███                             | 890 kB 20.7 MB/s eta 0:00:01\r     |███                             | 901 kB 20.7 MB/s eta 0:00:01\r     |███▏                            | 911 kB 20.7 MB/s eta 0:00:01\r     |███▏                            | 921 kB 20.7 MB/s eta 0:00:01\r     |███▏                            | 931 kB 20.7 MB/s eta 0:00:01\r     |███▎                            | 942 kB 20.7 MB/s eta 0:00:01\r     |███▎                            | 952 kB 20.7 MB/s eta 0:00:01\r     |███▎                            | 962 kB 20.7 MB/s eta 0:00:01\r     |███▍                            | 972 kB 20.7 MB/s eta 0:00:01\r     |███▍                            | 983 kB 20.7 MB/s eta 0:00:01\r     |███▍                            | 993 kB 20.7 MB/s eta 0:00:01\r     |███▍                            | 1.0 MB 20.7 MB/s eta 0:00:01\r     |███▌                            | 1.0 MB 20.7 MB/s eta 0:00:01\r     |███▌                            | 1.0 MB 20.7 MB/s eta 0:00:01\r     |███▌                            | 1.0 MB 20.7 MB/s eta 0:00:01\r     |███▋                            | 1.0 MB 20.7 MB/s eta 0:00:01\r     |███▋                            | 1.1 MB 20.7 MB/s eta 0:00:01\r     |███▋                            | 1.1 MB 20.7 MB/s eta 0:00:01\r     |███▊                            | 1.1 MB 20.7 MB/s eta 0:00:01\r     |███▊                            | 1.1 MB 20.7 MB/s eta 0:00:01\r     |███▊                            | 1.1 MB 20.7 MB/s eta 0:00:01\r     |███▉                            | 1.1 MB 20.7 MB/s eta 0:00:01\r     |███▉                            | 1.1 MB 20.7 MB/s eta 0:00:01\r     |███▉                            | 1.1 MB 20.7 MB/s eta 0:00:01\r     |████                            | 1.1 MB 20.7 MB/s eta 0:00:01\r     |████                            | 1.1 MB 20.7 MB/s eta 0:00:01\r     |████                            | 1.2 MB 20.7 MB/s eta 0:00:01\r     |████                            | 1.2 MB 20.7 MB/s eta 0:00:01\r     |████                            | 1.2 MB 20.7 MB/s eta 0:00:01\r     |████                            | 1.2 MB 20.7 MB/s eta 0:00:01\r     |████                            | 1.2 MB 20.7 MB/s eta 0:00:01\r     |████▏                           | 1.2 MB 20.7 MB/s eta 0:00:01\r     |████▏                           | 1.2 MB 20.7 MB/s eta 0:00:01\r     |████▏                           | 1.2 MB 20.7 MB/s eta 0:00:01\r     |████▎                           | 1.2 MB 20.7 MB/s eta 0:00:01\r     |████▎                           | 1.2 MB 20.7 MB/s eta 0:00:01\r     |████▎                           | 1.3 MB 20.7 MB/s eta 0:00:01\r     |████▍                           | 1.3 MB 20.7 MB/s eta 0:00:01\r     |████▍                           | 1.3 MB 20.7 MB/s eta 0:00:01\r     |████▍                           | 1.3 MB 20.7 MB/s eta 0:00:01\r     |████▌                           | 1.3 MB 20.7 MB/s eta 0:00:01\r     |████▌                           | 1.3 MB 20.7 MB/s eta 0:00:01\r     |████▌                           | 1.3 MB 20.7 MB/s eta 0:00:01\r     |████▋                           | 1.3 MB 20.7 MB/s eta 0:00:01\r     |████▋                           | 1.3 MB 20.7 MB/s eta 0:00:01\r     |████▋                           | 1.4 MB 20.7 MB/s eta 0:00:01\r     |████▊                           | 1.4 MB 20.7 MB/s eta 0:00:01\r     |████▊                           | 1.4 MB 20.7 MB/s eta 0:00:01\r     |████▊                           | 1.4 MB 20.7 MB/s eta 0:00:01\r     |████▊                           | 1.4 MB 20.7 MB/s eta 0:00:01\r     |████▉                           | 1.4 MB 20.7 MB/s eta 0:00:01\r     |████▉                           | 1.4 MB 20.7 MB/s eta 0:00:01\r     |████▉                           | 1.4 MB 20.7 MB/s eta 0:00:01\r     |█████                           | 1.4 MB 20.7 MB/s eta 0:00:01\r     |█████                           | 1.4 MB 20.7 MB/s eta 0:00:01\r     |█████                           | 1.5 MB 20.7 MB/s eta 0:00:01\r     |█████                           | 1.5 MB 20.7 MB/s eta 0:00:01\r     |█████                           | 1.5 MB 20.7 MB/s eta 0:00:01\r     |█████                           | 1.5 MB 20.7 MB/s eta 0:00:01\r     |█████▏                          | 1.5 MB 20.7 MB/s eta 0:00:01\r     |█████▏                          | 1.5 MB 20.7 MB/s eta 0:00:01\r     |█████▏                          | 1.5 MB 20.7 MB/s eta 0:00:01\r     |█████▎                          | 1.5 MB 20.7 MB/s eta 0:00:01\r     |█████▎                          | 1.5 MB 20.7 MB/s eta 0:00:01\r     |█████▎                          | 1.5 MB 20.7 MB/s eta 0:00:01\r     |█████▍                          | 1.6 MB 20.7 MB/s eta 0:00:01\r     |█████▍                          | 1.6 MB 20.7 MB/s eta 0:00:01\r     |█████▍                          | 1.6 MB 20.7 MB/s eta 0:00:01\r     |█████▍                          | 1.6 MB 20.7 MB/s eta 0:00:01\r     |█████▌                          | 1.6 MB 20.7 MB/s eta 0:00:01\r     |█████▌                          | 1.6 MB 20.7 MB/s eta 0:00:01\r     |█████▌                          | 1.6 MB 20.7 MB/s eta 0:00:01\r     |█████▋                          | 1.6 MB 20.7 MB/s eta 0:00:01\r     |█████▋                          | 1.6 MB 20.7 MB/s eta 0:00:01\r     |█████▋                          | 1.6 MB 20.7 MB/s eta 0:00:01\r     |█████▊                          | 1.7 MB 20.7 MB/s eta 0:00:01\r     |█████▊                          | 1.7 MB 20.7 MB/s eta 0:00:01\r     |█████▊                          | 1.7 MB 20.7 MB/s eta 0:00:01\r     |█████▉                          | 1.7 MB 20.7 MB/s eta 0:00:01\r     |█████▉                          | 1.7 MB 20.7 MB/s eta 0:00:01\r     |█████▉                          | 1.7 MB 20.7 MB/s eta 0:00:01\r     |██████                          | 1.7 MB 20.7 MB/s eta 0:00:01\r     |██████                          | 1.7 MB 20.7 MB/s eta 0:00:01\r     |██████                          | 1.7 MB 20.7 MB/s eta 0:00:01\r     |██████                          | 1.8 MB 20.7 MB/s eta 0:00:01\r     |██████                          | 1.8 MB 20.7 MB/s eta 0:00:01\r     |██████                          | 1.8 MB 20.7 MB/s eta 0:00:01\r     |██████                          | 1.8 MB 20.7 MB/s eta 0:00:01\r     |██████▏                         | 1.8 MB 20.7 MB/s eta 0:00:01\r     |██████▏                         | 1.8 MB 20.7 MB/s eta 0:00:01\r     |██████▏                         | 1.8 MB 20.7 MB/s eta 0:00:01\r     |██████▎                         | 1.8 MB 20.7 MB/s eta 0:00:01\r     |██████▎                         | 1.8 MB 20.7 MB/s eta 0:00:01\r     |██████▎                         | 1.8 MB 20.7 MB/s eta 0:00:01\r     |██████▍                         | 1.9 MB 20.7 MB/s eta 0:00:01\r     |██████▍                         | 1.9 MB 20.7 MB/s eta 0:00:01\r     |██████▍                         | 1.9 MB 20.7 MB/s eta 0:00:01\r     |██████▌                         | 1.9 MB 20.7 MB/s eta 0:00:01\r     |██████▌                         | 1.9 MB 20.7 MB/s eta 0:00:01\r     |██████▌                         | 1.9 MB 20.7 MB/s eta 0:00:01\r     |██████▋                         | 1.9 MB 20.7 MB/s eta 0:00:01\r     |██████▋                         | 1.9 MB 20.7 MB/s eta 0:00:01\r     |██████▋                         | 1.9 MB 20.7 MB/s eta 0:00:01\r     |██████▊                         | 1.9 MB 20.7 MB/s eta 0:00:01\r     |██████▊                         | 2.0 MB 20.7 MB/s eta 0:00:01\r     |██████▊                         | 2.0 MB 20.7 MB/s eta 0:00:01\r     |██████▊                         | 2.0 MB 20.7 MB/s eta 0:00:01\r     |██████▉                         | 2.0 MB 20.7 MB/s eta 0:00:01\r     |██████▉                         | 2.0 MB 20.7 MB/s eta 0:00:01\r     |██████▉                         | 2.0 MB 20.7 MB/s eta 0:00:01\r     |███████                         | 2.0 MB 20.7 MB/s eta 0:00:01\r     |███████                         | 2.0 MB 20.7 MB/s eta 0:00:01\r     |███████                         | 2.0 MB 20.7 MB/s eta 0:00:01\r     |███████                         | 2.0 MB 20.7 MB/s eta 0:00:01\r     |███████                         | 2.1 MB 20.7 MB/s eta 0:00:01\r     |███████                         | 2.1 MB 20.7 MB/s eta 0:00:01\r     |███████▏                        | 2.1 MB 20.7 MB/s eta 0:00:01\r     |███████▏                        | 2.1 MB 20.7 MB/s eta 0:00:01\r     |███████▏                        | 2.1 MB 20.7 MB/s eta 0:00:01\r     |███████▎                        | 2.1 MB 20.7 MB/s eta 0:00:01\r     |███████▎                        | 2.1 MB 20.7 MB/s eta 0:00:01\r     |███████▎                        | 2.1 MB 20.7 MB/s eta 0:00:01\r     |███████▍                        | 2.1 MB 20.7 MB/s eta 0:00:01\r     |███████▍                        | 2.2 MB 20.7 MB/s eta 0:00:01\r     |███████▍                        | 2.2 MB 20.7 MB/s eta 0:00:01\r     |███████▍                        | 2.2 MB 20.7 MB/s eta 0:00:01\r     |███████▌                        | 2.2 MB 20.7 MB/s eta 0:00:01\r     |███████▌                        | 2.2 MB 20.7 MB/s eta 0:00:01\r     |███████▌                        | 2.2 MB 20.7 MB/s eta 0:00:01\r     |███████▋                        | 2.2 MB 20.7 MB/s eta 0:00:01\r     |███████▋                        | 2.2 MB 20.7 MB/s eta 0:00:01\r     |███████▋                        | 2.2 MB 20.7 MB/s eta 0:00:01\r     |███████▊                        | 2.2 MB 20.7 MB/s eta 0:00:01\r     |███████▊                        | 2.3 MB 20.7 MB/s eta 0:00:01\r     |███████▊                        | 2.3 MB 20.7 MB/s eta 0:00:01\r     |███████▉                        | 2.3 MB 20.7 MB/s eta 0:00:01\r     |███████▉                        | 2.3 MB 20.7 MB/s eta 0:00:01\r     |███████▉                        | 2.3 MB 20.7 MB/s eta 0:00:01\r     |████████                        | 2.3 MB 20.7 MB/s eta 0:00:01\r     |████████                        | 2.3 MB 20.7 MB/s eta 0:00:01\r     |████████                        | 2.3 MB 20.7 MB/s eta 0:00:01\r     |████████                        | 2.3 MB 20.7 MB/s eta 0:00:01\r     |████████                        | 2.3 MB 20.7 MB/s eta 0:00:01\r     |████████                        | 2.4 MB 20.7 MB/s eta 0:00:01\r     |████████                        | 2.4 MB 20.7 MB/s eta 0:00:01\r     |████████▏                       | 2.4 MB 20.7 MB/s eta 0:00:01\r     |████████▏                       | 2.4 MB 20.7 MB/s eta 0:00:01\r     |████████▏                       | 2.4 MB 20.7 MB/s eta 0:00:01\r     |████████▎                       | 2.4 MB 20.7 MB/s eta 0:00:01\r     |████████▎                       | 2.4 MB 20.7 MB/s eta 0:00:01\r     |████████▎                       | 2.4 MB 20.7 MB/s eta 0:00:01\r     |████████▍                       | 2.4 MB 20.7 MB/s eta 0:00:01\r     |████████▍                       | 2.4 MB 20.7 MB/s eta 0:00:01\r     |████████▍                       | 2.5 MB 20.7 MB/s eta 0:00:01\r     |████████▌                       | 2.5 MB 20.7 MB/s eta 0:00:01\r     |████████▌                       | 2.5 MB 20.7 MB/s eta 0:00:01\r     |████████▌                       | 2.5 MB 20.7 MB/s eta 0:00:01\r     |████████▋                       | 2.5 MB 20.7 MB/s eta 0:00:01\r     |████████▋                       | 2.5 MB 20.7 MB/s eta 0:00:01\r     |████████▋                       | 2.5 MB 20.7 MB/s eta 0:00:01\r     |████████▊                       | 2.5 MB 20.7 MB/s eta 0:00:01\r     |████████▊                       | 2.5 MB 20.7 MB/s eta 0:00:01\r     |████████▊                       | 2.5 MB 20.7 MB/s eta 0:00:01\r     |████████▊                       | 2.6 MB 20.7 MB/s eta 0:00:01\r     |████████▉                       | 2.6 MB 20.7 MB/s eta 0:00:01\r     |████████▉                       | 2.6 MB 20.7 MB/s eta 0:00:01\r     |████████▉                       | 2.6 MB 20.7 MB/s eta 0:00:01\r     |█████████                       | 2.6 MB 20.7 MB/s eta 0:00:01\r     |█████████                       | 2.6 MB 20.7 MB/s eta 0:00:01\r     |█████████                       | 2.6 MB 20.7 MB/s eta 0:00:01\r     |█████████                       | 2.6 MB 20.7 MB/s eta 0:00:01\r     |█████████                       | 2.6 MB 20.7 MB/s eta 0:00:01\r     |█████████                       | 2.7 MB 20.7 MB/s eta 0:00:01\r     |█████████▏                      | 2.7 MB 20.7 MB/s eta 0:00:01\r     |█████████▏                      | 2.7 MB 20.7 MB/s eta 0:00:01\r     |█████████▏                      | 2.7 MB 20.7 MB/s eta 0:00:01\r     |█████████▎                      | 2.7 MB 20.7 MB/s eta 0:00:01\r     |█████████▎                      | 2.7 MB 20.7 MB/s eta 0:00:01\r     |█████████▎                      | 2.7 MB 20.7 MB/s eta 0:00:01\r     |█████████▍                      | 2.7 MB 20.7 MB/s eta 0:00:01\r     |█████████▍                      | 2.7 MB 20.7 MB/s eta 0:00:01\r     |█████████▍                      | 2.7 MB 20.7 MB/s eta 0:00:01\r     |█████████▍                      | 2.8 MB 20.7 MB/s eta 0:00:01\r     |█████████▌                      | 2.8 MB 20.7 MB/s eta 0:00:01\r     |█████████▌                      | 2.8 MB 20.7 MB/s eta 0:00:01\r     |█████████▌                      | 2.8 MB 20.7 MB/s eta 0:00:01\r     |█████████▋                      | 2.8 MB 20.7 MB/s eta 0:00:01\r     |█████████▋                      | 2.8 MB 20.7 MB/s eta 0:00:01\r     |█████████▋                      | 2.8 MB 20.7 MB/s eta 0:00:01\r     |█████████▊                      | 2.8 MB 20.7 MB/s eta 0:00:01\r     |█████████▊                      | 2.8 MB 20.7 MB/s eta 0:00:01\r     |█████████▊                      | 2.8 MB 20.7 MB/s eta 0:00:01\r     |█████████▉                      | 2.9 MB 20.7 MB/s eta 0:00:01\r     |█████████▉                      | 2.9 MB 20.7 MB/s eta 0:00:01\r     |█████████▉                      | 2.9 MB 20.7 MB/s eta 0:00:01\r     |██████████                      | 2.9 MB 20.7 MB/s eta 0:00:01\r     |██████████                      | 2.9 MB 20.7 MB/s eta 0:00:01\r     |██████████                      | 2.9 MB 20.7 MB/s eta 0:00:01\r     |██████████                      | 2.9 MB 20.7 MB/s eta 0:00:01\r     |██████████                      | 2.9 MB 20.7 MB/s eta 0:00:01\r     |██████████                      | 2.9 MB 20.7 MB/s eta 0:00:01\r     |██████████                      | 2.9 MB 20.7 MB/s eta 0:00:01\r     |██████████▏                     | 3.0 MB 20.7 MB/s eta 0:00:01\r     |██████████▏                     | 3.0 MB 20.7 MB/s eta 0:00:01\r     |██████████▏                     | 3.0 MB 20.7 MB/s eta 0:00:01\r     |██████████▎                     | 3.0 MB 20.7 MB/s eta 0:00:01\r     |██████████▎                     | 3.0 MB 20.7 MB/s eta 0:00:01\r     |██████████▎                     | 3.0 MB 20.7 MB/s eta 0:00:01\r     |██████████▍                     | 3.0 MB 20.7 MB/s eta 0:00:01\r     |██████████▍                     | 3.0 MB 20.7 MB/s eta 0:00:01\r     |██████████▍                     | 3.0 MB 20.7 MB/s eta 0:00:01\r     |██████████▌                     | 3.1 MB 20.7 MB/s eta 0:00:01\r     |██████████▌                     | 3.1 MB 20.7 MB/s eta 0:00:01\r     |██████████▌                     | 3.1 MB 20.7 MB/s eta 0:00:01\r     |██████████▋                     | 3.1 MB 20.7 MB/s eta 0:00:01\r     |██████████▋                     | 3.1 MB 20.7 MB/s eta 0:00:01\r     |██████████▋                     | 3.1 MB 20.7 MB/s eta 0:00:01\r     |██████████▊                     | 3.1 MB 20.7 MB/s eta 0:00:01\r     |██████████▊                     | 3.1 MB 20.7 MB/s eta 0:00:01\r     |██████████▊                     | 3.1 MB 20.7 MB/s eta 0:00:01\r     |██████████▊                     | 3.1 MB 20.7 MB/s eta 0:00:01\r     |██████████▉                     | 3.2 MB 20.7 MB/s eta 0:00:01\r     |██████████▉                     | 3.2 MB 20.7 MB/s eta 0:00:01\r     |██████████▉                     | 3.2 MB 20.7 MB/s eta 0:00:01\r     |███████████                     | 3.2 MB 20.7 MB/s eta 0:00:01\r     |███████████                     | 3.2 MB 20.7 MB/s eta 0:00:01\r     |███████████                     | 3.2 MB 20.7 MB/s eta 0:00:01\r     |███████████                     | 3.2 MB 20.7 MB/s eta 0:00:01\r     |███████████                     | 3.2 MB 20.7 MB/s eta 0:00:01\r     |███████████                     | 3.2 MB 20.7 MB/s eta 0:00:01\r     |███████████▏                    | 3.2 MB 20.7 MB/s eta 0:00:01\r     |███████████▏                    | 3.3 MB 20.7 MB/s eta 0:00:01\r     |███████████▏                    | 3.3 MB 20.7 MB/s eta 0:00:01\r     |███████████▎                    | 3.3 MB 20.7 MB/s eta 0:00:01\r     |███████████▎                    | 3.3 MB 20.7 MB/s eta 0:00:01\r     |███████████▎                    | 3.3 MB 20.7 MB/s eta 0:00:01\r     |███████████▍                    | 3.3 MB 20.7 MB/s eta 0:00:01\r     |███████████▍                    | 3.3 MB 20.7 MB/s eta 0:00:01\r     |███████████▍                    | 3.3 MB 20.7 MB/s eta 0:00:01\r     |███████████▍                    | 3.3 MB 20.7 MB/s eta 0:00:01\r     |███████████▌                    | 3.3 MB 20.7 MB/s eta 0:00:01\r     |███████████▌                    | 3.4 MB 20.7 MB/s eta 0:00:01\r     |███████████▌                    | 3.4 MB 20.7 MB/s eta 0:00:01\r     |███████████▋                    | 3.4 MB 20.7 MB/s eta 0:00:01\r     |███████████▋                    | 3.4 MB 20.7 MB/s eta 0:00:01\r     |███████████▋                    | 3.4 MB 20.7 MB/s eta 0:00:01\r     |███████████▊                    | 3.4 MB 20.7 MB/s eta 0:00:01\r     |███████████▊                    | 3.4 MB 20.7 MB/s eta 0:00:01\r     |███████████▊                    | 3.4 MB 20.7 MB/s eta 0:00:01\r     |███████████▉                    | 3.4 MB 20.7 MB/s eta 0:00:01\r     |███████████▉                    | 3.5 MB 20.7 MB/s eta 0:00:01\r     |███████████▉                    | 3.5 MB 20.7 MB/s eta 0:00:01\r     |████████████                    | 3.5 MB 20.7 MB/s eta 0:00:01\r     |████████████                    | 3.5 MB 20.7 MB/s eta 0:00:01\r     |████████████                    | 3.5 MB 20.7 MB/s eta 0:00:01\r     |████████████                    | 3.5 MB 20.7 MB/s eta 0:00:01\r     |████████████                    | 3.5 MB 20.7 MB/s eta 0:00:01\r     |████████████                    | 3.5 MB 20.7 MB/s eta 0:00:01\r     |████████████                    | 3.5 MB 20.7 MB/s eta 0:00:01\r     |████████████▏                   | 3.5 MB 20.7 MB/s eta 0:00:01\r     |████████████▏                   | 3.6 MB 20.7 MB/s eta 0:00:01\r     |████████████▏                   | 3.6 MB 20.7 MB/s eta 0:00:01\r     |████████████▎                   | 3.6 MB 20.7 MB/s eta 0:00:01\r     |████████████▎                   | 3.6 MB 20.7 MB/s eta 0:00:01\r     |████████████▎                   | 3.6 MB 20.7 MB/s eta 0:00:01\r     |████████████▍                   | 3.6 MB 20.7 MB/s eta 0:00:01\r     |████████████▍                   | 3.6 MB 20.7 MB/s eta 0:00:01\r     |████████████▍                   | 3.6 MB 20.7 MB/s eta 0:00:01\r     |████████████▌                   | 3.6 MB 20.7 MB/s eta 0:00:01\r     |████████████▌                   | 3.6 MB 20.7 MB/s eta 0:00:01\r     |████████████▌                   | 3.7 MB 20.7 MB/s eta 0:00:01\r     |████████████▋                   | 3.7 MB 20.7 MB/s eta 0:00:01\r     |████████████▋                   | 3.7 MB 20.7 MB/s eta 0:00:01\r     |████████████▋                   | 3.7 MB 20.7 MB/s eta 0:00:01\r     |████████████▊                   | 3.7 MB 20.7 MB/s eta 0:00:01\r     |████████████▊                   | 3.7 MB 20.7 MB/s eta 0:00:01\r     |████████████▊                   | 3.7 MB 20.7 MB/s eta 0:00:01\r     |████████████▊                   | 3.7 MB 20.7 MB/s eta 0:00:01\r     |████████████▉                   | 3.7 MB 20.7 MB/s eta 0:00:01\r     |████████████▉                   | 3.7 MB 20.7 MB/s eta 0:00:01\r     |████████████▉                   | 3.8 MB 20.7 MB/s eta 0:00:01\r     |█████████████                   | 3.8 MB 20.7 MB/s eta 0:00:01\r     |█████████████                   | 3.8 MB 20.7 MB/s eta 0:00:01\r     |█████████████                   | 3.8 MB 20.7 MB/s eta 0:00:01\r     |█████████████                   | 3.8 MB 20.7 MB/s eta 0:00:01\r     |█████████████                   | 3.8 MB 20.7 MB/s eta 0:00:01\r     |█████████████                   | 3.8 MB 20.7 MB/s eta 0:00:01\r     |█████████████▏                  | 3.8 MB 20.7 MB/s eta 0:00:01\r     |█████████████▏                  | 3.8 MB 20.7 MB/s eta 0:00:01\r     |█████████████▏                  | 3.9 MB 20.7 MB/s eta 0:00:01\r     |█████████████▎                  | 3.9 MB 20.7 MB/s eta 0:00:01\r     |█████████████▎                  | 3.9 MB 20.7 MB/s eta 0:00:01\r     |█████████████▎                  | 3.9 MB 20.7 MB/s eta 0:00:01\r     |█████████████▍                  | 3.9 MB 20.7 MB/s eta 0:00:01\r     |█████████████▍                  | 3.9 MB 20.7 MB/s eta 0:00:01\r     |█████████████▍                  | 3.9 MB 20.7 MB/s eta 0:00:01\r     |█████████████▍                  | 3.9 MB 20.7 MB/s eta 0:00:01\r     |█████████████▌                  | 3.9 MB 20.7 MB/s eta 0:00:01\r     |█████████████▌                  | 3.9 MB 20.7 MB/s eta 0:00:01\r     |█████████████▌                  | 4.0 MB 20.7 MB/s eta 0:00:01\r     |█████████████▋                  | 4.0 MB 20.7 MB/s eta 0:00:01\r     |█████████████▋                  | 4.0 MB 20.7 MB/s eta 0:00:01\r     |█████████████▋                  | 4.0 MB 20.7 MB/s eta 0:00:01\r     |█████████████▊                  | 4.0 MB 20.7 MB/s eta 0:00:01\r     |█████████████▊                  | 4.0 MB 20.7 MB/s eta 0:00:01\r     |█████████████▊                  | 4.0 MB 20.7 MB/s eta 0:00:01\r     |█████████████▉                  | 4.0 MB 20.7 MB/s eta 0:00:01\r     |█████████████▉                  | 4.0 MB 20.7 MB/s eta 0:00:01\r     |█████████████▉                  | 4.0 MB 20.7 MB/s eta 0:00:01\r     |██████████████                  | 4.1 MB 20.7 MB/s eta 0:00:01\r     |██████████████                  | 4.1 MB 20.7 MB/s eta 0:00:01\r     |██████████████                  | 4.1 MB 20.7 MB/s eta 0:00:01\r     |██████████████                  | 4.1 MB 20.7 MB/s eta 0:00:01\r     |██████████████                  | 4.1 MB 20.7 MB/s eta 0:00:01\r     |██████████████                  | 4.1 MB 20.7 MB/s eta 0:00:01\r     |██████████████                  | 4.1 MB 20.7 MB/s eta 0:00:01\r     |██████████████▏                 | 4.1 MB 20.7 MB/s eta 0:00:01\r     |██████████████▏                 | 4.1 MB 20.7 MB/s eta 0:00:01\r     |██████████████▏                 | 4.1 MB 20.7 MB/s eta 0:00:01\r     |██████████████▎                 | 4.2 MB 20.7 MB/s eta 0:00:01\r     |██████████████▎                 | 4.2 MB 20.7 MB/s eta 0:00:01\r     |██████████████▎                 | 4.2 MB 20.7 MB/s eta 0:00:01\r     |██████████████▍                 | 4.2 MB 20.7 MB/s eta 0:00:01\r     |██████████████▍                 | 4.2 MB 20.7 MB/s eta 0:00:01\r     |██████████████▍                 | 4.2 MB 20.7 MB/s eta 0:00:01\r     |██████████████▌                 | 4.2 MB 20.7 MB/s eta 0:00:01\r     |██████████████▌                 | 4.2 MB 20.7 MB/s eta 0:00:01\r     |██████████████▌                 | 4.2 MB 20.7 MB/s eta 0:00:01\r     |██████████████▋                 | 4.2 MB 20.7 MB/s eta 0:00:01\r     |██████████████▋                 | 4.3 MB 20.7 MB/s eta 0:00:01\r     |██████████████▋                 | 4.3 MB 20.7 MB/s eta 0:00:01\r     |██████████████▊                 | 4.3 MB 20.7 MB/s eta 0:00:01\r     |██████████████▊                 | 4.3 MB 20.7 MB/s eta 0:00:01\r     |██████████████▊                 | 4.3 MB 20.7 MB/s eta 0:00:01\r     |██████████████▊                 | 4.3 MB 20.7 MB/s eta 0:00:01\r     |██████████████▉                 | 4.3 MB 20.7 MB/s eta 0:00:01\r     |██████████████▉                 | 4.3 MB 20.7 MB/s eta 0:00:01\r     |██████████████▉                 | 4.3 MB 20.7 MB/s eta 0:00:01\r     |███████████████                 | 4.4 MB 20.7 MB/s eta 0:00:01\r     |███████████████                 | 4.4 MB 20.7 MB/s eta 0:00:01\r     |███████████████                 | 4.4 MB 20.7 MB/s eta 0:00:01\r     |███████████████                 | 4.4 MB 20.7 MB/s eta 0:00:01\r     |███████████████                 | 4.4 MB 20.7 MB/s eta 0:00:01\r     |███████████████                 | 4.4 MB 20.7 MB/s eta 0:00:01\r     |███████████████▏                | 4.4 MB 20.7 MB/s eta 0:00:01\r     |███████████████▏                | 4.4 MB 20.7 MB/s eta 0:00:01\r     |███████████████▏                | 4.4 MB 20.7 MB/s eta 0:00:01\r     |███████████████▎                | 4.4 MB 20.7 MB/s eta 0:00:01\r     |███████████████▎                | 4.5 MB 20.7 MB/s eta 0:00:01\r     |███████████████▎                | 4.5 MB 20.7 MB/s eta 0:00:01\r     |███████████████▍                | 4.5 MB 20.7 MB/s eta 0:00:01\r     |███████████████▍                | 4.5 MB 20.7 MB/s eta 0:00:01\r     |███████████████▍                | 4.5 MB 20.7 MB/s eta 0:00:01\r     |███████████████▍                | 4.5 MB 20.7 MB/s eta 0:00:01\r     |███████████████▌                | 4.5 MB 20.7 MB/s eta 0:00:01\r     |███████████████▌                | 4.5 MB 20.7 MB/s eta 0:00:01\r     |███████████████▌                | 4.5 MB 20.7 MB/s eta 0:00:01\r     |███████████████▋                | 4.5 MB 20.7 MB/s eta 0:00:01\r     |███████████████▋                | 4.6 MB 20.7 MB/s eta 0:00:01\r     |███████████████▋                | 4.6 MB 20.7 MB/s eta 0:00:01\r     |███████████████▊                | 4.6 MB 20.7 MB/s eta 0:00:01\r     |███████████████▊                | 4.6 MB 20.7 MB/s eta 0:00:01\r     |███████████████▊                | 4.6 MB 20.7 MB/s eta 0:00:01\r     |███████████████▉                | 4.6 MB 20.7 MB/s eta 0:00:01\r     |███████████████▉                | 4.6 MB 20.7 MB/s eta 0:00:01\r     |███████████████▉                | 4.6 MB 20.7 MB/s eta 0:00:01\r     |████████████████                | 4.6 MB 20.7 MB/s eta 0:00:01\r     |████████████████                | 4.6 MB 20.7 MB/s eta 0:00:01\r     |████████████████                | 4.7 MB 20.7 MB/s eta 0:00:01\r     |████████████████                | 4.7 MB 20.7 MB/s eta 0:00:01\r     |████████████████                | 4.7 MB 20.7 MB/s eta 0:00:01\r     |████████████████                | 4.7 MB 20.7 MB/s eta 0:00:01\r     |████████████████                | 4.7 MB 20.7 MB/s eta 0:00:01\r     |████████████████▏               | 4.7 MB 20.7 MB/s eta 0:00:01\r     |████████████████▏               | 4.7 MB 20.7 MB/s eta 0:00:01\r     |████████████████▏               | 4.7 MB 20.7 MB/s eta 0:00:01\r     |████████████████▎               | 4.7 MB 20.7 MB/s eta 0:00:01\r     |████████████████▎               | 4.8 MB 20.7 MB/s eta 0:00:01\r     |████████████████▎               | 4.8 MB 20.7 MB/s eta 0:00:01\r     |████████████████▍               | 4.8 MB 20.7 MB/s eta 0:00:01\r     |████████████████▍               | 4.8 MB 20.7 MB/s eta 0:00:01\r     |████████████████▍               | 4.8 MB 20.7 MB/s eta 0:00:01\r     |████████████████▌               | 4.8 MB 20.7 MB/s eta 0:00:01\r     |████████████████▌               | 4.8 MB 20.7 MB/s eta 0:00:01\r     |████████████████▌               | 4.8 MB 20.7 MB/s eta 0:00:01\r     |████████████████▋               | 4.8 MB 20.7 MB/s eta 0:00:01\r     |████████████████▋               | 4.8 MB 20.7 MB/s eta 0:00:01\r     |████████████████▋               | 4.9 MB 20.7 MB/s eta 0:00:01\r     |████████████████▊               | 4.9 MB 20.7 MB/s eta 0:00:01\r     |████████████████▊               | 4.9 MB 20.7 MB/s eta 0:00:01\r     |████████████████▊               | 4.9 MB 20.7 MB/s eta 0:00:01\r     |████████████████▊               | 4.9 MB 20.7 MB/s eta 0:00:01\r     |████████████████▉               | 4.9 MB 20.7 MB/s eta 0:00:01\r     |████████████████▉               | 4.9 MB 20.7 MB/s eta 0:00:01\r     |████████████████▉               | 4.9 MB 20.7 MB/s eta 0:00:01\r     |█████████████████               | 4.9 MB 20.7 MB/s eta 0:00:01\r     |█████████████████               | 4.9 MB 20.7 MB/s eta 0:00:01\r     |█████████████████               | 5.0 MB 20.7 MB/s eta 0:00:01\r     |█████████████████               | 5.0 MB 20.7 MB/s eta 0:00:01\r     |█████████████████               | 5.0 MB 20.7 MB/s eta 0:00:01\r     |█████████████████               | 5.0 MB 20.7 MB/s eta 0:00:01\r     |█████████████████▏              | 5.0 MB 20.7 MB/s eta 0:00:01\r     |█████████████████▏              | 5.0 MB 20.7 MB/s eta 0:00:01\r     |█████████████████▏              | 5.0 MB 20.7 MB/s eta 0:00:01\r     |█████████████████▎              | 5.0 MB 20.7 MB/s eta 0:00:01\r     |█████████████████▎              | 5.0 MB 20.7 MB/s eta 0:00:01\r     |█████████████████▎              | 5.0 MB 20.7 MB/s eta 0:00:01\r     |█████████████████▍              | 5.1 MB 20.7 MB/s eta 0:00:01\r     |█████████████████▍              | 5.1 MB 20.7 MB/s eta 0:00:01\r     |█████████████████▍              | 5.1 MB 20.7 MB/s eta 0:00:01\r     |█████████████████▍              | 5.1 MB 20.7 MB/s eta 0:00:01\r     |█████████████████▌              | 5.1 MB 20.7 MB/s eta 0:00:01\r     |█████████████████▌              | 5.1 MB 20.7 MB/s eta 0:00:01\r     |█████████████████▌              | 5.1 MB 20.7 MB/s eta 0:00:01\r     |█████████████████▋              | 5.1 MB 20.7 MB/s eta 0:00:01\r     |█████████████████▋              | 5.1 MB 20.7 MB/s eta 0:00:01\r     |█████████████████▋              | 5.2 MB 20.7 MB/s eta 0:00:01\r     |█████████████████▊              | 5.2 MB 20.7 MB/s eta 0:00:01\r     |█████████████████▊              | 5.2 MB 20.7 MB/s eta 0:00:01\r     |█████████████████▊              | 5.2 MB 20.7 MB/s eta 0:00:01\r     |█████████████████▉              | 5.2 MB 20.7 MB/s eta 0:00:01\r     |█████████████████▉              | 5.2 MB 20.7 MB/s eta 0:00:01\r     |█████████████████▉              | 5.2 MB 20.7 MB/s eta 0:00:01\r     |██████████████████              | 5.2 MB 20.7 MB/s eta 0:00:01\r     |██████████████████              | 5.2 MB 20.7 MB/s eta 0:00:01\r     |██████████████████              | 5.2 MB 20.7 MB/s eta 0:00:01\r     |██████████████████              | 5.3 MB 20.7 MB/s eta 0:00:01\r     |██████████████████              | 5.3 MB 20.7 MB/s eta 0:00:01\r     |██████████████████              | 5.3 MB 20.7 MB/s eta 0:00:01\r     |██████████████████              | 5.3 MB 20.7 MB/s eta 0:00:01\r     |██████████████████▏             | 5.3 MB 20.7 MB/s eta 0:00:01\r     |██████████████████▏             | 5.3 MB 20.7 MB/s eta 0:00:01\r     |██████████████████▏             | 5.3 MB 20.7 MB/s eta 0:00:01\r     |██████████████████▎             | 5.3 MB 20.7 MB/s eta 0:00:01\r     |██████████████████▎             | 5.3 MB 20.7 MB/s eta 0:00:01\r     |██████████████████▎             | 5.3 MB 20.7 MB/s eta 0:00:01\r     |██████████████████▍             | 5.4 MB 20.7 MB/s eta 0:00:01\r     |██████████████████▍             | 5.4 MB 20.7 MB/s eta 0:00:01\r     |██████████████████▍             | 5.4 MB 20.7 MB/s eta 0:00:01\r     |██████████████████▌             | 5.4 MB 20.7 MB/s eta 0:00:01\r     |██████████████████▌             | 5.4 MB 20.7 MB/s eta 0:00:01\r     |██████████████████▌             | 5.4 MB 20.7 MB/s eta 0:00:01\r     |██████████████████▋             | 5.4 MB 20.7 MB/s eta 0:00:01\r     |██████████████████▋             | 5.4 MB 20.7 MB/s eta 0:00:01\r     |██████████████████▋             | 5.4 MB 20.7 MB/s eta 0:00:01\r     |██████████████████▊             | 5.4 MB 20.7 MB/s eta 0:00:01\r     |██████████████████▊             | 5.5 MB 20.7 MB/s eta 0:00:01\r     |██████████████████▊             | 5.5 MB 20.7 MB/s eta 0:00:01\r     |██████████████████▊             | 5.5 MB 20.7 MB/s eta 0:00:01\r     |██████████████████▉             | 5.5 MB 20.7 MB/s eta 0:00:01\r     |██████████████████▉             | 5.5 MB 20.7 MB/s eta 0:00:01\r     |██████████████████▉             | 5.5 MB 20.7 MB/s eta 0:00:01\r     |███████████████████             | 5.5 MB 20.7 MB/s eta 0:00:01\r     |███████████████████             | 5.5 MB 20.7 MB/s eta 0:00:01\r     |███████████████████             | 5.5 MB 20.7 MB/s eta 0:00:01\r     |███████████████████             | 5.6 MB 20.7 MB/s eta 0:00:01\r     |███████████████████             | 5.6 MB 20.7 MB/s eta 0:00:01\r     |███████████████████             | 5.6 MB 20.7 MB/s eta 0:00:01\r     |███████████████████▏            | 5.6 MB 20.7 MB/s eta 0:00:01\r     |███████████████████▏            | 5.6 MB 20.7 MB/s eta 0:00:01\r     |███████████████████▏            | 5.6 MB 20.7 MB/s eta 0:00:01\r     |███████████████████▎            | 5.6 MB 20.7 MB/s eta 0:00:01\r     |███████████████████▎            | 5.6 MB 20.7 MB/s eta 0:00:01\r     |███████████████████▎            | 5.6 MB 20.7 MB/s eta 0:00:01\r     |███████████████████▍            | 5.6 MB 20.7 MB/s eta 0:00:01\r     |███████████████████▍            | 5.7 MB 20.7 MB/s eta 0:00:01\r     |███████████████████▍            | 5.7 MB 20.7 MB/s eta 0:00:01\r     |███████████████████▍            | 5.7 MB 20.7 MB/s eta 0:00:01\r     |███████████████████▌            | 5.7 MB 20.7 MB/s eta 0:00:01\r     |███████████████████▌            | 5.7 MB 20.7 MB/s eta 0:00:01\r     |███████████████████▌            | 5.7 MB 20.7 MB/s eta 0:00:01\r     |███████████████████▋            | 5.7 MB 20.7 MB/s eta 0:00:01\r     |███████████████████▋            | 5.7 MB 20.7 MB/s eta 0:00:01\r     |███████████████████▋            | 5.7 MB 20.7 MB/s eta 0:00:01\r     |███████████████████▊            | 5.7 MB 20.7 MB/s eta 0:00:01\r     |███████████████████▊            | 5.8 MB 20.7 MB/s eta 0:00:01\r     |███████████████████▊            | 5.8 MB 20.7 MB/s eta 0:00:01\r     |███████████████████▉            | 5.8 MB 20.7 MB/s eta 0:00:01\r     |███████████████████▉            | 5.8 MB 20.7 MB/s eta 0:00:01\r     |███████████████████▉            | 5.8 MB 20.7 MB/s eta 0:00:01\r     |████████████████████            | 5.8 MB 20.7 MB/s eta 0:00:01\r     |████████████████████            | 5.8 MB 20.7 MB/s eta 0:00:01\r     |████████████████████            | 5.8 MB 20.7 MB/s eta 0:00:01\r     |████████████████████            | 5.8 MB 20.7 MB/s eta 0:00:01\r     |████████████████████            | 5.8 MB 20.7 MB/s eta 0:00:01\r     |████████████████████            | 5.9 MB 20.7 MB/s eta 0:00:01\r     |████████████████████            | 5.9 MB 20.7 MB/s eta 0:00:01\r     |████████████████████▏           | 5.9 MB 20.7 MB/s eta 0:00:01\r     |████████████████████▏           | 5.9 MB 20.7 MB/s eta 0:00:01\r     |████████████████████▏           | 5.9 MB 20.7 MB/s eta 0:00:01\r     |████████████████████▎           | 5.9 MB 20.7 MB/s eta 0:00:01\r     |████████████████████▎           | 5.9 MB 20.7 MB/s eta 0:00:01\r     |████████████████████▎           | 5.9 MB 20.7 MB/s eta 0:00:01\r     |████████████████████▍           | 5.9 MB 20.7 MB/s eta 0:00:01\r     |████████████████████▍           | 5.9 MB 20.7 MB/s eta 0:00:01\r     |████████████████████▍           | 6.0 MB 20.7 MB/s eta 0:00:01\r     |████████████████████▌           | 6.0 MB 20.7 MB/s eta 0:00:01\r     |████████████████████▌           | 6.0 MB 20.7 MB/s eta 0:00:01\r     |████████████████████▌           | 6.0 MB 20.7 MB/s eta 0:00:01\r     |████████████████████▋           | 6.0 MB 20.7 MB/s eta 0:00:01\r     |████████████████████▋           | 6.0 MB 20.7 MB/s eta 0:00:01\r     |████████████████████▋           | 6.0 MB 20.7 MB/s eta 0:00:01\r     |████████████████████▊           | 6.0 MB 20.7 MB/s eta 0:00:01\r     |████████████████████▊           | 6.0 MB 20.7 MB/s eta 0:00:01\r     |████████████████████▊           | 6.1 MB 20.7 MB/s eta 0:00:01\r     |████████████████████▊           | 6.1 MB 20.7 MB/s eta 0:00:01\r     |████████████████████▉           | 6.1 MB 20.7 MB/s eta 0:00:01\r     |████████████████████▉           | 6.1 MB 20.7 MB/s eta 0:00:01\r     |████████████████████▉           | 6.1 MB 20.7 MB/s eta 0:00:01\r     |█████████████████████           | 6.1 MB 20.7 MB/s eta 0:00:01\r     |█████████████████████           | 6.1 MB 20.7 MB/s eta 0:00:01\r     |█████████████████████           | 6.1 MB 20.7 MB/s eta 0:00:01\r     |█████████████████████           | 6.1 MB 20.7 MB/s eta 0:00:01\r     |█████████████████████           | 6.1 MB 20.7 MB/s eta 0:00:01\r     |█████████████████████           | 6.2 MB 20.7 MB/s eta 0:00:01\r     |█████████████████████▏          | 6.2 MB 20.7 MB/s eta 0:00:01\r     |█████████████████████▏          | 6.2 MB 20.7 MB/s eta 0:00:01\r     |█████████████████████▏          | 6.2 MB 20.7 MB/s eta 0:00:01\r     |█████████████████████▎          | 6.2 MB 20.7 MB/s eta 0:00:01\r     |█████████████████████▎          | 6.2 MB 20.7 MB/s eta 0:00:01\r     |█████████████████████▎          | 6.2 MB 20.7 MB/s eta 0:00:01\r     |█████████████████████▍          | 6.2 MB 20.7 MB/s eta 0:00:01\r     |█████████████████████▍          | 6.2 MB 20.7 MB/s eta 0:00:01\r     |█████████████████████▍          | 6.2 MB 20.7 MB/s eta 0:00:01\r     |█████████████████████▍          | 6.3 MB 20.7 MB/s eta 0:00:01\r     |█████████████████████▌          | 6.3 MB 20.7 MB/s eta 0:00:01\r     |█████████████████████▌          | 6.3 MB 20.7 MB/s eta 0:00:01\r     |█████████████████████▌          | 6.3 MB 20.7 MB/s eta 0:00:01\r     |█████████████████████▋          | 6.3 MB 20.7 MB/s eta 0:00:01\r     |█████████████████████▋          | 6.3 MB 20.7 MB/s eta 0:00:01\r     |█████████████████████▋          | 6.3 MB 20.7 MB/s eta 0:00:01\r     |█████████████████████▊          | 6.3 MB 20.7 MB/s eta 0:00:01\r     |█████████████████████▊          | 6.3 MB 20.7 MB/s eta 0:00:01\r     |█████████████████████▊          | 6.3 MB 20.7 MB/s eta 0:00:01\r     |█████████████████████▉          | 6.4 MB 20.7 MB/s eta 0:00:01\r     |█████████████████████▉          | 6.4 MB 20.7 MB/s eta 0:00:01\r     |█████████████████████▉          | 6.4 MB 20.7 MB/s eta 0:00:01\r     |██████████████████████          | 6.4 MB 20.7 MB/s eta 0:00:01\r     |██████████████████████          | 6.4 MB 20.7 MB/s eta 0:00:01\r     |██████████████████████          | 6.4 MB 20.7 MB/s eta 0:00:01\r     |██████████████████████          | 6.4 MB 20.7 MB/s eta 0:00:01\r     |██████████████████████          | 6.4 MB 20.7 MB/s eta 0:00:01\r     |██████████████████████          | 6.4 MB 20.7 MB/s eta 0:00:01\r     |██████████████████████          | 6.5 MB 20.7 MB/s eta 0:00:01\r     |██████████████████████▏         | 6.5 MB 20.7 MB/s eta 0:00:01\r     |██████████████████████▏         | 6.5 MB 20.7 MB/s eta 0:00:01\r     |██████████████████████▏         | 6.5 MB 20.7 MB/s eta 0:00:01\r     |██████████████████████▎         | 6.5 MB 20.7 MB/s eta 0:00:01\r     |██████████████████████▎         | 6.5 MB 20.7 MB/s eta 0:00:01\r     |██████████████████████▎         | 6.5 MB 20.7 MB/s eta 0:00:01\r     |██████████████████████▍         | 6.5 MB 20.7 MB/s eta 0:00:01\r     |██████████████████████▍         | 6.5 MB 20.7 MB/s eta 0:00:01\r     |██████████████████████▍         | 6.5 MB 20.7 MB/s eta 0:00:01\r     |██████████████████████▌         | 6.6 MB 20.7 MB/s eta 0:00:01\r     |██████████████████████▌         | 6.6 MB 20.7 MB/s eta 0:00:01\r     |██████████████████████▌         | 6.6 MB 20.7 MB/s eta 0:00:01\r     |██████████████████████▋         | 6.6 MB 20.7 MB/s eta 0:00:01\r     |██████████████████████▋         | 6.6 MB 20.7 MB/s eta 0:00:01\r     |██████████████████████▋         | 6.6 MB 20.7 MB/s eta 0:00:01\r     |██████████████████████▊         | 6.6 MB 20.7 MB/s eta 0:00:01\r     |██████████████████████▊         | 6.6 MB 20.7 MB/s eta 0:00:01\r     |██████████████████████▊         | 6.6 MB 20.7 MB/s eta 0:00:01\r     |██████████████████████▊         | 6.6 MB 20.7 MB/s eta 0:00:01\r     |██████████████████████▉         | 6.7 MB 20.7 MB/s eta 0:00:01\r     |██████████████████████▉         | 6.7 MB 20.7 MB/s eta 0:00:01\r     |██████████████████████▉         | 6.7 MB 20.7 MB/s eta 0:00:01\r     |███████████████████████         | 6.7 MB 20.7 MB/s eta 0:00:01\r     |███████████████████████         | 6.7 MB 20.7 MB/s eta 0:00:01\r     |███████████████████████         | 6.7 MB 20.7 MB/s eta 0:00:01\r     |███████████████████████         | 6.7 MB 20.7 MB/s eta 0:00:01\r     |███████████████████████         | 6.7 MB 20.7 MB/s eta 0:00:01\r     |███████████████████████         | 6.7 MB 20.7 MB/s eta 0:00:01\r     |███████████████████████▏        | 6.7 MB 20.7 MB/s eta 0:00:01\r     |███████████████████████▏        | 6.8 MB 20.7 MB/s eta 0:00:01\r     |███████████████████████▏        | 6.8 MB 20.7 MB/s eta 0:00:01\r     |███████████████████████▎        | 6.8 MB 20.7 MB/s eta 0:00:01\r     |███████████████████████▎        | 6.8 MB 20.7 MB/s eta 0:00:01\r     |███████████████████████▎        | 6.8 MB 20.7 MB/s eta 0:00:01\r     |███████████████████████▍        | 6.8 MB 20.7 MB/s eta 0:00:01\r     |███████████████████████▍        | 6.8 MB 20.7 MB/s eta 0:00:01\r     |███████████████████████▍        | 6.8 MB 20.7 MB/s eta 0:00:01\r     |███████████████████████▍        | 6.8 MB 20.7 MB/s eta 0:00:01\r     |███████████████████████▌        | 6.9 MB 20.7 MB/s eta 0:00:01\r     |███████████████████████▌        | 6.9 MB 20.7 MB/s eta 0:00:01\r     |███████████████████████▌        | 6.9 MB 20.7 MB/s eta 0:00:01\r     |███████████████████████▋        | 6.9 MB 20.7 MB/s eta 0:00:01\r     |███████████████████████▋        | 6.9 MB 20.7 MB/s eta 0:00:01\r     |███████████████████████▋        | 6.9 MB 20.7 MB/s eta 0:00:01\r     |███████████████████████▊        | 6.9 MB 20.7 MB/s eta 0:00:01\r     |███████████████████████▊        | 6.9 MB 20.7 MB/s eta 0:00:01\r     |███████████████████████▊        | 6.9 MB 20.7 MB/s eta 0:00:01\r     |███████████████████████▉        | 6.9 MB 20.7 MB/s eta 0:00:01\r     |███████████████████████▉        | 7.0 MB 20.7 MB/s eta 0:00:01\r     |███████████████████████▉        | 7.0 MB 20.7 MB/s eta 0:00:01\r     |████████████████████████        | 7.0 MB 20.7 MB/s eta 0:00:01\r     |████████████████████████        | 7.0 MB 20.7 MB/s eta 0:00:01\r     |████████████████████████        | 7.0 MB 20.7 MB/s eta 0:00:01\r     |████████████████████████        | 7.0 MB 20.7 MB/s eta 0:00:01\r     |████████████████████████        | 7.0 MB 20.7 MB/s eta 0:00:01\r     |████████████████████████        | 7.0 MB 20.7 MB/s eta 0:00:01\r     |████████████████████████        | 7.0 MB 20.7 MB/s eta 0:00:01\r     |████████████████████████▏       | 7.0 MB 20.7 MB/s eta 0:00:01\r     |████████████████████████▏       | 7.1 MB 20.7 MB/s eta 0:00:01\r     |████████████████████████▏       | 7.1 MB 20.7 MB/s eta 0:00:01\r     |████████████████████████▎       | 7.1 MB 20.7 MB/s eta 0:00:01\r     |████████████████████████▎       | 7.1 MB 20.7 MB/s eta 0:00:01\r     |████████████████████████▎       | 7.1 MB 20.7 MB/s eta 0:00:01\r     |███████████\n*** WARNING: skipped 41993 bytes of output ***\n\n\r     |████████████████████████████████| 3.6 MB 53.7 MB/s \r\nCollecting safetensors&gt;=0.4.1\r\n  Downloading safetensors-0.4.3-cp38-cp38-manylinux_2_17_x86_64.manylinux2014_x86_64.whl (1.2 MB)\r\n\r     |▎                               | 10 kB 30.6 MB/s eta 0:00:01\r     |▌                               | 20 kB 35.7 MB/s eta 0:00:01\r     |▉                               | 30 kB 43.0 MB/s eta 0:00:01\r     |█                               | 40 kB 45.6 MB/s eta 0:00:01\r     |█▍                              | 51 kB 47.2 MB/s eta 0:00:01\r     |█▋                              | 61 kB 51.3 MB/s eta 0:00:01\r     |██                              | 71 kB 53.8 MB/s eta 0:00:01\r     |██▏                             | 81 kB 57.1 MB/s eta 0:00:01\r     |██▌                             | 92 kB 59.1 MB/s eta 0:00:01\r     |██▊                             | 102 kB 60.5 MB/s eta 0:00:01\r     |███                             | 112 kB 60.5 MB/s eta 0:00:01\r     |███▎                            | 122 kB 60.5 MB/s eta 0:00:01\r     |███▌                            | 133 kB 60.5 MB/s eta 0:00:01\r     |███▉                            | 143 kB 60.5 MB/s eta 0:00:01\r     |████                            | 153 kB 60.5 MB/s eta 0:00:01\r     |████▍                           | 163 kB 60.5 MB/s eta 0:00:01\r     |████▋                           | 174 kB 60.5 MB/s eta 0:00:01\r     |█████                           | 184 kB 60.5 MB/s eta 0:00:01\r     |█████▏                          | 194 kB 60.5 MB/s eta 0:00:01\r     |█████▍                          | 204 kB 60.5 MB/s eta 0:00:01\r     |█████▊                          | 215 kB 60.5 MB/s eta 0:00:01\r     |██████                          | 225 kB 60.5 MB/s eta 0:00:01\r     |██████▎                         | 235 kB 60.5 MB/s eta 0:00:01\r     |██████▌                         | 245 kB 60.5 MB/s eta 0:00:01\r     |██████▉                         | 256 kB 60.5 MB/s eta 0:00:01\r     |███████                         | 266 kB 60.5 MB/s eta 0:00:01\r     |███████▍                        | 276 kB 60.5 MB/s eta 0:00:01\r     |███████▋                        | 286 kB 60.5 MB/s eta 0:00:01\r     |████████                        | 296 kB 60.5 MB/s eta 0:00:01\r     |████████▏                       | 307 kB 60.5 MB/s eta 0:00:01\r     |████████▍                       | 317 kB 60.5 MB/s eta 0:00:01\r     |████████▊                       | 327 kB 60.5 MB/s eta 0:00:01\r     |█████████                       | 337 kB 60.5 MB/s eta 0:00:01\r     |█████████▎                      | 348 kB 60.5 MB/s eta 0:00:01\r     |█████████▌                      | 358 kB 60.5 MB/s eta 0:00:01\r     |█████████▉                      | 368 kB 60.5 MB/s eta 0:00:01\r     |██████████                      | 378 kB 60.5 MB/s eta 0:00:01\r     |██████████▍                     | 389 kB 60.5 MB/s eta 0:00:01\r     |██████████▋                     | 399 kB 60.5 MB/s eta 0:00:01\r     |██████████▉                     | 409 kB 60.5 MB/s eta 0:00:01\r     |███████████▏                    | 419 kB 60.5 MB/s eta 0:00:01\r     |███████████▍                    | 430 kB 60.5 MB/s eta 0:00:01\r     |███████████▊                    | 440 kB 60.5 MB/s eta 0:00:01\r     |████████████                    | 450 kB 60.5 MB/s eta 0:00:01\r     |████████████▎                   | 460 kB 60.5 MB/s eta 0:00:01\r     |████████████▌                   | 471 kB 60.5 MB/s eta 0:00:01\r     |████████████▉                   | 481 kB 60.5 MB/s eta 0:00:01\r     |█████████████                   | 491 kB 60.5 MB/s eta 0:00:01\r     |█████████████▎                  | 501 kB 60.5 MB/s eta 0:00:01\r     |█████████████▋                  | 512 kB 60.5 MB/s eta 0:00:01\r     |█████████████▉                  | 522 kB 60.5 MB/s eta 0:00:01\r     |██████████████▏                 | 532 kB 60.5 MB/s eta 0:00:01\r     |██████████████▍                 | 542 kB 60.5 MB/s eta 0:00:01\r     |██████████████▊                 | 552 kB 60.5 MB/s eta 0:00:01\r     |███████████████                 | 563 kB 60.5 MB/s eta 0:00:01\r     |███████████████▎                | 573 kB 60.5 MB/s eta 0:00:01\r     |███████████████▌                | 583 kB 60.5 MB/s eta 0:00:01\r     |███████████████▉                | 593 kB 60.5 MB/s eta 0:00:01\r     |████████████████                | 604 kB 60.5 MB/s eta 0:00:01\r     |████████████████▎               | 614 kB 60.5 MB/s eta 0:00:01\r     |████████████████▋               | 624 kB 60.5 MB/s eta 0:00:01\r     |████████████████▉               | 634 kB 60.5 MB/s eta 0:00:01\r     |█████████████████▏              | 645 kB 60.5 MB/s eta 0:00:01\r     |█████████████████▍              | 655 kB 60.5 MB/s eta 0:00:01\r     |█████████████████▊              | 665 kB 60.5 MB/s eta 0:00:01\r     |██████████████████              | 675 kB 60.5 MB/s eta 0:00:01\r     |██████████████████▎             | 686 kB 60.5 MB/s eta 0:00:01\r     |██████████████████▌             | 696 kB 60.5 MB/s eta 0:00:01\r     |██████████████████▊             | 706 kB 60.5 MB/s eta 0:00:01\r     |███████████████████             | 716 kB 60.5 MB/s eta 0:00:01\r     |███████████████████▎            | 727 kB 60.5 MB/s eta 0:00:01\r     |███████████████████▋            | 737 kB 60.5 MB/s eta 0:00:01\r     |███████████████████▉            | 747 kB 60.5 MB/s eta 0:00:01\r     |████████████████████▏           | 757 kB 60.5 MB/s eta 0:00:01\r     |████████████████████▍           | 768 kB 60.5 MB/s eta 0:00:01\r     |████████████████████▊           | 778 kB 60.5 MB/s eta 0:00:01\r     |█████████████████████           | 788 kB 60.5 MB/s eta 0:00:01\r     |█████████████████████▏          | 798 kB 60.5 MB/s eta 0:00:01\r     |█████████████████████▌          | 808 kB 60.5 MB/s eta 0:00:01\r     |█████████████████████▊          | 819 kB 60.5 MB/s eta 0:00:01\r     |██████████████████████          | 829 kB 60.5 MB/s eta 0:00:01\r     |██████████████████████▎         | 839 kB 60.5 MB/s eta 0:00:01\r     |██████████████████████▋         | 849 kB 60.5 MB/s eta 0:00:01\r     |██████████████████████▉         | 860 kB 60.5 MB/s eta 0:00:01\r     |███████████████████████▏        | 870 kB 60.5 MB/s eta 0:00:01\r     |███████████████████████▍        | 880 kB 60.5 MB/s eta 0:00:01\r     |███████████████████████▊        | 890 kB 60.5 MB/s eta 0:00:01\r     |████████████████████████        | 901 kB 60.5 MB/s eta 0:00:01\r     |████████████████████████▏       | 911 kB 60.5 MB/s eta 0:00:01\r     |████████████████████████▌       | 921 kB 60.5 MB/s eta 0:00:01\r     |████████████████████████▊       | 931 kB 60.5 MB/s eta 0:00:01\r     |█████████████████████████       | 942 kB 60.5 MB/s eta 0:00:01\r     |█████████████████████████▎      | 952 kB 60.5 MB/s eta 0:00:01\r     |█████████████████████████▋      | 962 kB 60.5 MB/s eta 0:00:01\r     |█████████████████████████▉      | 972 kB 60.5 MB/s eta 0:00:01\r     |██████████████████████████▏     | 983 kB 60.5 MB/s eta 0:00:01\r     |██████████████████████████▍     | 993 kB 60.5 MB/s eta 0:00:01\r     |██████████████████████████▋     | 1.0 MB 60.5 MB/s eta 0:00:01\r     |███████████████████████████     | 1.0 MB 60.5 MB/s eta 0:00:01\r     |███████████████████████████▏    | 1.0 MB 60.5 MB/s eta 0:00:01\r     |███████████████████████████▌    | 1.0 MB 60.5 MB/s eta 0:00:01\r     |███████████████████████████▊    | 1.0 MB 60.5 MB/s eta 0:00:01\r     |████████████████████████████    | 1.1 MB 60.5 MB/s eta 0:00:01\r     |████████████████████████████▎   | 1.1 MB 60.5 MB/s eta 0:00:01\r     |████████████████████████████▋   | 1.1 MB 60.5 MB/s eta 0:00:01\r     |████████████████████████████▉   | 1.1 MB 60.5 MB/s eta 0:00:01\r     |█████████████████████████████▏  | 1.1 MB 60.5 MB/s eta 0:00:01\r     |█████████████████████████████▍  | 1.1 MB 60.5 MB/s eta 0:00:01\r     |█████████████████████████████▋  | 1.1 MB 60.5 MB/s eta 0:00:01\r     |██████████████████████████████  | 1.1 MB 60.5 MB/s eta 0:00:01\r     |██████████████████████████████▏ | 1.1 MB 60.5 MB/s eta 0:00:01\r     |██████████████████████████████▌ | 1.1 MB 60.5 MB/s eta 0:00:01\r     |██████████████████████████████▊ | 1.2 MB 60.5 MB/s eta 0:00:01\r     |███████████████████████████████ | 1.2 MB 60.5 MB/s eta 0:00:01\r     |███████████████████████████████▎| 1.2 MB 60.5 MB/s eta 0:00:01\r     |███████████████████████████████▋| 1.2 MB 60.5 MB/s eta 0:00:01\r     |███████████████████████████████▉| 1.2 MB 60.5 MB/s eta 0:00:01\r     |████████████████████████████████| 1.2 MB 60.5 MB/s \r\nRequirement already satisfied: filelock in /usr/local/lib/python3.8/dist-packages (from transformers) (3.0.12)\r\nCollecting huggingface-hub&lt;1.0,&gt;=0.23.2\r\n  Downloading huggingface_hub-0.23.4-py3-none-any.whl (402 kB)\r\n\r     |▉                               | 10 kB 21.4 MB/s eta 0:00:01\r     |█▋                              | 20 kB 27.3 MB/s eta 0:00:01\r     |██▍                             | 30 kB 33.8 MB/s eta 0:00:01\r     |███▎                            | 40 kB 38.0 MB/s eta 0:00:01\r     |████                            | 51 kB 41.8 MB/s eta 0:00:01\r     |████▉                           | 61 kB 46.1 MB/s eta 0:00:01\r     |█████▊                          | 71 kB 49.0 MB/s eta 0:00:01\r     |██████▌                         | 81 kB 50.2 MB/s eta 0:00:01\r     |███████▎                        | 92 kB 52.1 MB/s eta 0:00:01\r     |████████▏                       | 102 kB 53.2 MB/s eta 0:00:01\r     |█████████                       | 112 kB 53.2 MB/s eta 0:00:01\r     |█████████▊                      | 122 kB 53.2 MB/s eta 0:00:01\r     |██████████▋                     | 133 kB 53.2 MB/s eta 0:00:01\r     |███████████▍                    | 143 kB 53.2 MB/s eta 0:00:01\r     |████████████▏                   | 153 kB 53.2 MB/s eta 0:00:01\r     |█████████████                   | 163 kB 53.2 MB/s eta 0:00:01\r     |█████████████▉                  | 174 kB 53.2 MB/s eta 0:00:01\r     |██████████████▋                 | 184 kB 53.2 MB/s eta 0:00:01\r     |███████████████▌                | 194 kB 53.2 MB/s eta 0:00:01\r     |████████████████▎               | 204 kB 53.2 MB/s eta 0:00:01\r     |█████████████████               | 215 kB 53.2 MB/s eta 0:00:01\r     |██████████████████              | 225 kB 53.2 MB/s eta 0:00:01\r     |██████████████████▊             | 235 kB 53.2 MB/s eta 0:00:01\r     |███████████████████▌            | 245 kB 53.2 MB/s eta 0:00:01\r     |████████████████████▍           | 256 kB 53.2 MB/s eta 0:00:01\r     |█████████████████████▏          | 266 kB 53.2 MB/s eta 0:00:01\r     |██████████████████████          | 276 kB 53.2 MB/s eta 0:00:01\r     |██████████████████████▉         | 286 kB 53.2 MB/s eta 0:00:01\r     |███████████████████████▋        | 296 kB 53.2 MB/s eta 0:00:01\r     |████████████████████████▍       | 307 kB 53.2 MB/s eta 0:00:01\r     |█████████████████████████▎      | 317 kB 53.2 MB/s eta 0:00:01\r     |██████████████████████████      | 327 kB 53.2 MB/s eta 0:00:01\r     |██████████████████████████▉     | 337 kB 53.2 MB/s eta 0:00:01\r     |███████████████████████████▊    | 348 kB 53.2 MB/s eta 0:00:01\r     |████████████████████████████▌   | 358 kB 53.2 MB/s eta 0:00:01\r     |█████████████████████████████▎  | 368 kB 53.2 MB/s eta 0:00:01\r     |██████████████████████████████▏ | 378 kB 53.2 MB/s eta 0:00:01\r     |███████████████████████████████ | 389 kB 53.2 MB/s eta 0:00:01\r     |███████████████████████████████▊| 399 kB 53.2 MB/s eta 0:00:01\r     |████████████████████████████████| 402 kB 53.2 MB/s \r\nCollecting regex!=2019.12.17\r\n  Downloading regex-2024.5.15-cp38-cp38-manylinux_2_17_x86_64.manylinux2014_x86_64.whl (776 kB)\r\n\r     |▍                               | 10 kB 25.7 MB/s eta 0:00:01\r     |▉                               | 20 kB 33.3 MB/s eta 0:00:01\r     |█▎                              | 30 kB 41.9 MB/s eta 0:00:01\r     |█▊                              | 40 kB 46.4 MB/s eta 0:00:01\r     |██                              | 51 kB 50.2 MB/s eta 0:00:01\r     |██▌                             | 61 kB 54.5 MB/s eta 0:00:01\r     |███                             | 71 kB 57.3 MB/s eta 0:00:01\r     |███▍                            | 81 kB 60.3 MB/s eta 0:00:01\r     |███▉                            | 92 kB 62.4 MB/s eta 0:00:01\r     |████▏                           | 102 kB 64.1 MB/s eta 0:00:01\r     |████▋                           | 112 kB 64.1 MB/s eta 0:00:01\r     |█████                           | 122 kB 64.1 MB/s eta 0:00:01\r     |█████▌                          | 133 kB 64.1 MB/s eta 0:00:01\r     |██████                          | 143 kB 64.1 MB/s eta 0:00:01\r     |██████▎                         | 153 kB 64.1 MB/s eta 0:00:01\r     |██████▊                         | 163 kB 64.1 MB/s eta 0:00:01\r     |███████▏                        | 174 kB 64.1 MB/s eta 0:00:01\r     |███████▋                        | 184 kB 64.1 MB/s eta 0:00:01\r     |████████                        | 194 kB 64.1 MB/s eta 0:00:01\r     |████████▍                       | 204 kB 64.1 MB/s eta 0:00:01\r     |████████▉                       | 215 kB 64.1 MB/s eta 0:00:01\r     |█████████▎                      | 225 kB 64.1 MB/s eta 0:00:01\r     |█████████▊                      | 235 kB 64.1 MB/s eta 0:00:01\r     |██████████▏                     | 245 kB 64.1 MB/s eta 0:00:01\r     |██████████▌                     | 256 kB 64.1 MB/s eta 0:00:01\r     |███████████                     | 266 kB 64.1 MB/s eta 0:00:01\r     |███████████▍                    | 276 kB 64.1 MB/s eta 0:00:01\r     |███████████▉                    | 286 kB 64.1 MB/s eta 0:00:01\r     |████████████▎                   | 296 kB 64.1 MB/s eta 0:00:01\r     |████████████▋                   | 307 kB 64.1 MB/s eta 0:00:01\r     |█████████████                   | 317 kB 64.1 MB/s eta 0:00:01\r     |█████████████▌                  | 327 kB 64.1 MB/s eta 0:00:01\r     |██████████████                  | 337 kB 64.1 MB/s eta 0:00:01\r     |██████████████▍                 | 348 kB 64.1 MB/s eta 0:00:01\r     |██████████████▊                 | 358 kB 64.1 MB/s eta 0:00:01\r     |███████████████▏                | 368 kB 64.1 MB/s eta 0:00:01\r     |███████████████▋                | 378 kB 64.1 MB/s eta 0:00:01\r     |████████████████                | 389 kB 64.1 MB/s eta 0:00:01\r     |████████████████▌               | 399 kB 64.1 MB/s eta 0:00:01\r     |████████████████▉               | 409 kB 64.1 MB/s eta 0:00:01\r     |█████████████████▎              | 419 kB 64.1 MB/s eta 0:00:01\r     |█████████████████▊              | 430 kB 64.1 MB/s eta 0:00:01\r     |██████████████████▏             | 440 kB 64.1 MB/s eta 0:00:01\r     |██████████████████▋             | 450 kB 64.1 MB/s eta 0:00:01\r     |███████████████████             | 460 kB 64.1 MB/s eta 0:00:01\r     |███████████████████▍            | 471 kB 64.1 MB/s eta 0:00:01\r     |███████████████████▉            | 481 kB 64.1 MB/s eta 0:00:01\r     |████████████████████▎           | 491 kB 64.1 MB/s eta 0:00:01\r     |████████████████████▊           | 501 kB 64.1 MB/s eta 0:00:01\r     |█████████████████████           | 512 kB 64.1 MB/s eta 0:00:01\r     |█████████████████████▌          | 522 kB 64.1 MB/s eta 0:00:01\r     |██████████████████████          | 532 kB 64.1 MB/s eta 0:00:01\r     |██████████████████████▍         | 542 kB 64.1 MB/s eta 0:00:01\r     |██████████████████████▉         | 552 kB 64.1 MB/s eta 0:00:01\r     |███████████████████████▏        | 563 kB 64.1 MB/s eta 0:00:01\r     |███████████████████████▋        | 573 kB 64.1 MB/s eta 0:00:01\r     |████████████████████████        | 583 kB 64.1 MB/s eta 0:00:01\r     |████████████████████████▌       | 593 kB 64.1 MB/s eta 0:00:01\r     |█████████████████████████       | 604 kB 64.1 MB/s eta 0:00:01\r     |█████████████████████████▎      | 614 kB 64.1 MB/s eta 0:00:01\r     |█████████████████████████▊      | 624 kB 64.1 MB/s eta 0:00:01\r     |██████████████████████████▏     | 634 kB 64.1 MB/s eta 0:00:01\r     |██████████████████████████▋     | 645 kB 64.1 MB/s eta 0:00:01\r     |███████████████████████████     | 655 kB 64.1 MB/s eta 0:00:01\r     |███████████████████████████▍    | 665 kB 64.1 MB/s eta 0:00:01\r     |███████████████████████████▉    | 675 kB 64.1 MB/s eta 0:00:01\r     |████████████████████████████▎   | 686 kB 64.1 MB/s eta 0:00:01\r     |████████████████████████████▊   | 696 kB 64.1 MB/s eta 0:00:01\r     |█████████████████████████████▏  | 706 kB 64.1 MB/s eta 0:00:01\r     |█████████████████████████████▌  | 716 kB 64.1 MB/s eta 0:00:01\r     |██████████████████████████████  | 727 kB 64.1 MB/s eta 0:00:01\r     |██████████████████████████████▍ | 737 kB 64.1 MB/s eta 0:00:01\r     |██████████████████████████████▉ | 747 kB 64.1 MB/s eta 0:00:01\r     |███████████████████████████████▎| 757 kB 64.1 MB/s eta 0:00:01\r     |███████████████████████████████▋| 768 kB 64.1 MB/s eta 0:00:01\r     |████████████████████████████████| 776 kB 64.1 MB/s \r\nCollecting pyyaml&gt;=5.1\r\n  Downloading PyYAML-6.0.1-cp38-cp38-manylinux_2_17_x86_64.manylinux2014_x86_64.whl (736 kB)\r\n\r     |▌                               | 10 kB 34.3 MB/s eta 0:00:01\r     |█                               | 20 kB 37.0 MB/s eta 0:00:01\r     |█▍                              | 30 kB 43.6 MB/s eta 0:00:01\r     |█▉                              | 40 kB 49.0 MB/s eta 0:00:01\r     |██▎                             | 51 kB 52.7 MB/s eta 0:00:01\r     |██▊                             | 61 kB 57.2 MB/s eta 0:00:01\r     |███▏                            | 71 kB 60.2 MB/s eta 0:00:01\r     |███▋                            | 81 kB 62.6 MB/s eta 0:00:01\r     |████                            | 92 kB 65.6 MB/s eta 0:00:01\r     |████▌                           | 102 kB 67.6 MB/s eta 0:00:01\r     |█████                           | 112 kB 67.6 MB/s eta 0:00:01\r     |█████▍                          | 122 kB 67.6 MB/s eta 0:00:01\r     |█████▉                          | 133 kB 67.6 MB/s eta 0:00:01\r     |██████▎                         | 143 kB 67.6 MB/s eta 0:00:01\r     |██████▊                         | 153 kB 67.6 MB/s eta 0:00:01\r     |███████▏                        | 163 kB 67.6 MB/s eta 0:00:01\r     |███████▋                        | 174 kB 67.6 MB/s eta 0:00:01\r     |████████                        | 184 kB 67.6 MB/s eta 0:00:01\r     |████████▌                       | 194 kB 67.6 MB/s eta 0:00:01\r     |█████████                       | 204 kB 67.6 MB/s eta 0:00:01\r     |█████████▍                      | 215 kB 67.6 MB/s eta 0:00:01\r     |█████████▉                      | 225 kB 67.6 MB/s eta 0:00:01\r     |██████████▎                     | 235 kB 67.6 MB/s eta 0:00:01\r     |██████████▊                     | 245 kB 67.6 MB/s eta 0:00:01\r     |███████████▏                    | 256 kB 67.6 MB/s eta 0:00:01\r     |███████████▋                    | 266 kB 67.6 MB/s eta 0:00:01\r     |████████████                    | 276 kB 67.6 MB/s eta 0:00:01\r     |████████████▌                   | 286 kB 67.6 MB/s eta 0:00:01\r     |█████████████                   | 296 kB 67.6 MB/s eta 0:00:01\r     |█████████████▍                  | 307 kB 67.6 MB/s eta 0:00:01\r     |█████████████▉                  | 317 kB 67.6 MB/s eta 0:00:01\r     |██████████████▎                 | 327 kB 67.6 MB/s eta 0:00:01\r     |██████████████▊                 | 337 kB 67.6 MB/s eta 0:00:01\r     |███████████████▏                | 348 kB 67.6 MB/s eta 0:00:01\r     |███████████████▋                | 358 kB 67.6 MB/s eta 0:00:01\r     |████████████████                | 368 kB 67.6 MB/s eta 0:00:01\r     |████████████████▌               | 378 kB 67.6 MB/s eta 0:00:01\r     |█████████████████               | 389 kB 67.6 MB/s eta 0:00:01\r     |█████████████████▍              | 399 kB 67.6 MB/s eta 0:00:01\r     |█████████████████▉              | 409 kB 67.6 MB/s eta 0:00:01\r     |██████████████████▎             | 419 kB 67.6 MB/s eta 0:00:01\r     |██████████████████▊             | 430 kB 67.6 MB/s eta 0:00:01\r     |███████████████████▏            | 440 kB 67.6 MB/s eta 0:00:01\r     |███████████████████▋            | 450 kB 67.6 MB/s eta 0:00:01\r     |████████████████████            | 460 kB 67.6 MB/s eta 0:00:01\r     |████████████████████▌           | 471 kB 67.6 MB/s eta 0:00:01\r     |█████████████████████           | 481 kB 67.6 MB/s eta 0:00:01\r     |█████████████████████▍          | 491 kB 67.6 MB/s eta 0:00:01\r     |█████████████████████▉          | 501 kB 67.6 MB/s eta 0:00:01\r     |██████████████████████▎         | 512 kB 67.6 MB/s eta 0:00:01\r     |██████████████████████▊         | 522 kB 67.6 MB/s eta 0:00:01\r     |███████████████████████▏        | 532 kB 67.6 MB/s eta 0:00:01\r     |███████████████████████▋        | 542 kB 67.6 MB/s eta 0:00:01\r     |████████████████████████        | 552 kB 67.6 MB/s eta 0:00:01\r     |████████████████████████▌       | 563 kB 67.6 MB/s eta 0:00:01\r     |█████████████████████████       | 573 kB 67.6 MB/s eta 0:00:01\r     |█████████████████████████▍      | 583 kB 67.6 MB/s eta 0:00:01\r     |█████████████████████████▉      | 593 kB 67.6 MB/s eta 0:00:01\r     |██████████████████████████▎     | 604 kB 67.6 MB/s eta 0:00:01\r     |██████████████████████████▊     | 614 kB 67.6 MB/s eta 0:00:01\r     |███████████████████████████▏    | 624 kB 67.6 MB/s eta 0:00:01\r     |███████████████████████████▋    | 634 kB 67.6 MB/s eta 0:00:01\r     |████████████████████████████    | 645 kB 67.6 MB/s eta 0:00:01\r     |████████████████████████████▌   | 655 kB 67.6 MB/s eta 0:00:01\r     |█████████████████████████████   | 665 kB 67.6 MB/s eta 0:00:01\r     |█████████████████████████████▍  | 675 kB 67.6 MB/s eta 0:00:01\r     |█████████████████████████████▉  | 686 kB 67.6 MB/s eta 0:00:01\r     |██████████████████████████████▎ | 696 kB 67.6 MB/s eta 0:00:01\r     |██████████████████████████████▊ | 706 kB 67.6 MB/s eta 0:00:01\r     |███████████████████████████████▏| 716 kB 67.6 MB/s eta 0:00:01\r     |███████████████████████████████▋| 727 kB 67.6 MB/s eta 0:00:01\r     |████████████████████████████████| 736 kB 67.6 MB/s \r\nRequirement already satisfied: requests in /databricks/python3/lib/python3.8/site-packages (from transformers) (2.25.1)\r\nRequirement already satisfied: packaging&gt;=20.0 in /databricks/python3/lib/python3.8/site-packages (from transformers) (20.9)\r\nRequirement already satisfied: typing-extensions&gt;=3.7.4.3 in /databricks/python3/lib/python3.8/site-packages (from huggingface-hub&lt;1.0,&gt;=0.23.2-&gt;transformers) (4.12.2)\r\nRequirement already satisfied: fsspec&gt;=2023.5.0 in /databricks/python3/lib/python3.8/site-packages (from huggingface-hub&lt;1.0,&gt;=0.23.2-&gt;transformers) (2024.6.1)\r\nRequirement already satisfied: pyparsing&gt;=2.0.2 in /databricks/python3/lib/python3.8/site-packages (from packaging&gt;=20.0-&gt;transformers) (2.4.7)\r\nRequirement already satisfied: idna&lt;3,&gt;=2.5 in /databricks/python3/lib/python3.8/site-packages (from requests-&gt;transformers) (2.10)\r\nRequirement already satisfied: certifi&gt;=2017.4.17 in /databricks/python3/lib/python3.8/site-packages (from requests-&gt;transformers) (2020.12.5)\r\nRequirement already satisfied: urllib3&lt;1.27,&gt;=1.21.1 in /databricks/python3/lib/python3.8/site-packages (from requests-&gt;transformers) (1.25.11)\r\nRequirement already satisfied: chardet&lt;5,&gt;=3.0.2 in /databricks/python3/lib/python3.8/site-packages (from requests-&gt;transformers) (4.0.0)\r\nInstalling collected packages: tqdm, pyyaml, huggingface-hub, tokenizers, safetensors, regex, transformers\r\nSuccessfully installed huggingface-hub-0.23.4 pyyaml-6.0.1 regex-2024.5.15 safetensors-0.4.3 tokenizers-0.19.1 tqdm-4.66.4 transformers-4.42.4\r\n<span class=\"ansi-yellow-fg\">WARNING: You are using pip version 21.0.1; however, version 24.1.2 is available.\r\nYou should consider upgrading via the &#39;/databricks/python3/bin/python -m pip install --upgrade pip&#39; command.</span>\r\n</div>",
       "datasetInfos": [],
       "metadata": {},
       "removedWidgets": [],
       "type": "html"
      }
     },
     "output_type": "display_data"
    }
   ],
   "source": [
    "!pip install transformers"
   ]
  },
  {
   "cell_type": "code",
   "execution_count": 0,
   "metadata": {
    "application/vnd.databricks.v1+cell": {
     "cellMetadata": {
      "byteLimit": 2048000,
      "rowLimit": 10000
     },
     "collapsed": true,
     "inputWidgets": {},
     "nuid": "7f943564-7ca9-4c43-bc5b-4ff2d570eb14",
     "showTitle": false,
     "title": ""
    }
   },
   "outputs": [
    {
     "output_type": "display_data",
     "data": {
      "text/html": [
       "<style scoped>\n",
       "  .ansiout {\n",
       "    display: block;\n",
       "    unicode-bidi: embed;\n",
       "    white-space: pre-wrap;\n",
       "    word-wrap: break-word;\n",
       "    word-break: break-all;\n",
       "    font-family: \"Menlo\", \"Monaco\", \"Consolas\", \"Ubuntu Mono\", \"Source Code Pro\", monospace;\n",
       "    font-size: 13px;\n",
       "    color: #555;\n",
       "    margin-left: 4px;\n",
       "    line-height: 19px;\n",
       "  }\n",
       "</style>\n",
       "<div class=\"ansiout\"><span class=\"ansi-yellow-fg\">WARNING: You are using pip version 21.0.1; however, version 24.1.2 is available.\r\n",
       "You should consider upgrading via the &#39;/databricks/python3/bin/python -m pip install --upgrade pip&#39; command.</span>\r\n",
       "</div>"
      ]
     },
     "metadata": {
      "application/vnd.databricks.v1+output": {
       "addedWidgets": {},
       "arguments": {},
       "data": "<div class=\"ansiout\"><span class=\"ansi-yellow-fg\">WARNING: You are using pip version 21.0.1; however, version 24.1.2 is available.\r\nYou should consider upgrading via the &#39;/databricks/python3/bin/python -m pip install --upgrade pip&#39; command.</span>\r\n</div>",
       "datasetInfos": [],
       "metadata": {},
       "removedWidgets": [],
       "type": "html"
      }
     },
     "output_type": "display_data"
    }
   ],
   "source": [
    "!pip install datasets==2.18.0 --quiet"
   ]
  },
  {
   "cell_type": "code",
   "execution_count": 0,
   "metadata": {
    "application/vnd.databricks.v1+cell": {
     "cellMetadata": {
      "byteLimit": 2048000,
      "rowLimit": 10000
     },
     "inputWidgets": {},
     "nuid": "32805e66-7dcb-4c5b-adc2-a2d50359c444",
     "showTitle": false,
     "title": ""
    }
   },
   "outputs": [
    {
     "output_type": "display_data",
     "data": {
      "text/html": [
       "<style scoped>\n",
       "  .ansiout {\n",
       "    display: block;\n",
       "    unicode-bidi: embed;\n",
       "    white-space: pre-wrap;\n",
       "    word-wrap: break-word;\n",
       "    word-break: break-all;\n",
       "    font-family: \"Menlo\", \"Monaco\", \"Consolas\", \"Ubuntu Mono\", \"Source Code Pro\", monospace;\n",
       "    font-size: 13px;\n",
       "    color: #555;\n",
       "    margin-left: 4px;\n",
       "    line-height: 19px;\n",
       "  }\n",
       "</style>\n",
       "<div class=\"ansiout\">2.18.0\n",
       "</div>"
      ]
     },
     "metadata": {
      "application/vnd.databricks.v1+output": {
       "addedWidgets": {},
       "arguments": {},
       "data": "<div class=\"ansiout\">2.18.0\n</div>",
       "datasetInfos": [],
       "metadata": {},
       "removedWidgets": [],
       "type": "html"
      }
     },
     "output_type": "display_data"
    }
   ],
   "source": [
    "import datasets\n",
    "print(datasets.__version__)"
   ]
  },
  {
   "cell_type": "code",
   "execution_count": 0,
   "metadata": {
    "application/vnd.databricks.v1+cell": {
     "cellMetadata": {
      "byteLimit": 2048000,
      "rowLimit": 10000
     },
     "inputWidgets": {},
     "nuid": "def6cdf6-cef7-42bb-8da6-09718449cb4a",
     "showTitle": false,
     "title": ""
    }
   },
   "outputs": [
    {
     "output_type": "display_data",
     "data": {
      "text/html": [
       "<style scoped>\n",
       "  .ansiout {\n",
       "    display: block;\n",
       "    unicode-bidi: embed;\n",
       "    white-space: pre-wrap;\n",
       "    word-wrap: break-word;\n",
       "    word-break: break-all;\n",
       "    font-family: \"Menlo\", \"Monaco\", \"Consolas\", \"Ubuntu Mono\", \"Source Code Pro\", monospace;\n",
       "    font-size: 13px;\n",
       "    color: #555;\n",
       "    margin-left: 4px;\n",
       "    line-height: 19px;\n",
       "  }\n",
       "</style>\n",
       "<div class=\"ansiout\"></div>"
      ]
     },
     "metadata": {
      "application/vnd.databricks.v1+output": {
       "addedWidgets": {},
       "arguments": {},
       "data": "<div class=\"ansiout\"></div>",
       "datasetInfos": [],
       "metadata": {},
       "removedWidgets": [],
       "type": "html"
      }
     },
     "output_type": "display_data"
    }
   ],
   "source": [
    "from datasets import load_dataset\n",
    "from transformers import AutoModelForSeq2SeqLM\n",
    "from transformers import AutoTokenizer\n",
    "from transformers import GenerationConfig"
   ]
  },
  {
   "cell_type": "markdown",
   "metadata": {
    "application/vnd.databricks.v1+cell": {
     "cellMetadata": {},
     "inputWidgets": {},
     "nuid": "b8e69d2d-8e48-4399-97c6-77b1f876844b",
     "showTitle": false,
     "title": ""
    }
   },
   "source": [
    "###2. Summarize Dialogue without Prompt engineering"
   ]
  },
  {
   "cell_type": "code",
   "execution_count": 0,
   "metadata": {
    "application/vnd.databricks.v1+cell": {
     "cellMetadata": {
      "byteLimit": 2048000,
      "rowLimit": 10000
     },
     "inputWidgets": {},
     "nuid": "2db6d423-ca2c-47e1-b835-0bb70781b656",
     "showTitle": false,
     "title": ""
    }
   },
   "outputs": [
    {
     "output_type": "display_data",
     "data": {
      "text/html": [
       "<style scoped>\n",
       "  .ansiout {\n",
       "    display: block;\n",
       "    unicode-bidi: embed;\n",
       "    white-space: pre-wrap;\n",
       "    word-wrap: break-word;\n",
       "    word-break: break-all;\n",
       "    font-family: \"Menlo\", \"Monaco\", \"Consolas\", \"Ubuntu Mono\", \"Source Code Pro\", monospace;\n",
       "    font-size: 13px;\n",
       "    color: #555;\n",
       "    margin-left: 4px;\n",
       "    line-height: 19px;\n",
       "  }\n",
       "</style>\n",
       "<div class=\"ansiout\">Downloading readme:   0%|          | 0.00/4.65k [00:00&lt;?, ?B/s]\n",
       "\rDownloading data:   0%|          | 0.00/11.3M [00:00&lt;?, ?B/s]\rDownloading data:  93%|█████████▎| 10.5M/11.3M [00:00&lt;00:00, 46.0MB/s]\rDownloading data: 100%|██████████| 11.3M/11.3M [00:00&lt;00:00, 46.8MB/s]\n",
       "\rDownloading data:   0%|          | 0.00/442k [00:00&lt;?, ?B/s]\rDownloading data: 100%|██████████| 442k/442k [00:00&lt;00:00, 2.76MB/s]\rDownloading data: 100%|██████████| 442k/442k [00:00&lt;00:00, 2.75MB/s]\n",
       "\rDownloading data:   0%|          | 0.00/1.35M [00:00&lt;?, ?B/s]\rDownloading data: 100%|██████████| 1.35M/1.35M [00:00&lt;00:00, 9.90MB/s]\rDownloading data: 100%|██████████| 1.35M/1.35M [00:00&lt;00:00, 9.78MB/s]\n",
       "Generating train split: 0 examples [00:00, ? examples/s]\n",
       "Generating validation split: 0 examples [00:00, ? examples/s]\n",
       "Generating test split: 0 examples [00:00, ? examples/s]\n",
       "</div>"
      ]
     },
     "metadata": {
      "application/vnd.databricks.v1+output": {
       "addedWidgets": {},
       "arguments": {},
       "data": "<div class=\"ansiout\">Downloading readme:   0%|          | 0.00/4.65k [00:00&lt;?, ?B/s]\n\rDownloading data:   0%|          | 0.00/11.3M [00:00&lt;?, ?B/s]\rDownloading data:  93%|█████████▎| 10.5M/11.3M [00:00&lt;00:00, 46.0MB/s]\rDownloading data: 100%|██████████| 11.3M/11.3M [00:00&lt;00:00, 46.8MB/s]\n\rDownloading data:   0%|          | 0.00/442k [00:00&lt;?, ?B/s]\rDownloading data: 100%|██████████| 442k/442k [00:00&lt;00:00, 2.76MB/s]\rDownloading data: 100%|██████████| 442k/442k [00:00&lt;00:00, 2.75MB/s]\n\rDownloading data:   0%|          | 0.00/1.35M [00:00&lt;?, ?B/s]\rDownloading data: 100%|██████████| 1.35M/1.35M [00:00&lt;00:00, 9.90MB/s]\rDownloading data: 100%|██████████| 1.35M/1.35M [00:00&lt;00:00, 9.78MB/s]\nGenerating train split: 0 examples [00:00, ? examples/s]\nGenerating validation split: 0 examples [00:00, ? examples/s]\nGenerating test split: 0 examples [00:00, ? examples/s]\n</div>",
       "datasetInfos": [],
       "metadata": {},
       "removedWidgets": [],
       "type": "html"
      }
     },
     "output_type": "display_data"
    }
   ],
   "source": [
    "hugging_dataset = 'knkarthick/dialogsum'\n",
    "dataset = load_dataset(hugging_dataset)"
   ]
  },
  {
   "cell_type": "code",
   "execution_count": 0,
   "metadata": {
    "application/vnd.databricks.v1+cell": {
     "cellMetadata": {
      "byteLimit": 2048000,
      "rowLimit": 10000
     },
     "inputWidgets": {},
     "nuid": "8fa51d79-fc65-40aa-9c00-59a745c17252",
     "showTitle": false,
     "title": ""
    }
   },
   "outputs": [
    {
     "output_type": "display_data",
     "data": {
      "text/html": [
       "<style scoped>\n",
       "  .ansiout {\n",
       "    display: block;\n",
       "    unicode-bidi: embed;\n",
       "    white-space: pre-wrap;\n",
       "    word-wrap: break-word;\n",
       "    word-break: break-all;\n",
       "    font-family: \"Menlo\", \"Monaco\", \"Consolas\", \"Ubuntu Mono\", \"Source Code Pro\", monospace;\n",
       "    font-size: 13px;\n",
       "    color: #555;\n",
       "    margin-left: 4px;\n",
       "    line-height: 19px;\n",
       "  }\n",
       "</style>\n",
       "<div class=\"ansiout\">___________________________________________________________________________________________________\n",
       "sample  1\n",
       "___________________________________________________________________________________________________\n",
       "Input dialogue:\n",
       "#Person1#: What time is it, Tom?\n",
       "#Person2#: Just a minute. It&#39;s ten to nine by my watch.\n",
       "#Person1#: Is it? I had no idea it was so late. I must be off now.\n",
       "#Person2#: What&#39;s the hurry?\n",
       "#Person1#: I must catch the nine-thirty train.\n",
       "#Person2#: You&#39;ve plenty of time yet. The railway station is very close. It won&#39;t take more than twenty minutes to get there.\n",
       "___________________________________________________________________________________________________\n",
       "human summary:\n",
       "#Person1# is in a hurry to catch a train. Tom tells #Person1# there is plenty of time.\n",
       "___________________________________________________________________________________________________\n",
       "\n",
       "___________________________________________________________________________________________________\n",
       "sample  2\n",
       "___________________________________________________________________________________________________\n",
       "Input dialogue:\n",
       "#Person1#: Have you considered upgrading your system?\n",
       "#Person2#: Yes, but I&#39;m not sure what exactly I would need.\n",
       "#Person1#: You could consider adding a painting program to your software. It would allow you to make up your own flyers and banners for advertising.\n",
       "#Person2#: That would be a definite bonus.\n",
       "#Person1#: You might also want to upgrade your hardware because it is pretty outdated now.\n",
       "#Person2#: How can we do that?\n",
       "#Person1#: You&#39;d probably need a faster processor, to begin with. And you also need a more powerful hard disc, more memory and a faster modem. Do you have a CD-ROM drive?\n",
       "#Person2#: No.\n",
       "#Person1#: Then you might want to add a CD-ROM drive too, because most new software programs are coming out on Cds.\n",
       "#Person2#: That sounds great. Thanks.\n",
       "___________________________________________________________________________________________________\n",
       "human summary:\n",
       "#Person1# teaches #Person2# how to upgrade software and hardware in #Person2#&#39;s system.\n",
       "___________________________________________________________________________________________________\n",
       "\n",
       "</div>"
      ]
     },
     "metadata": {
      "application/vnd.databricks.v1+output": {
       "addedWidgets": {},
       "arguments": {},
       "data": "<div class=\"ansiout\">___________________________________________________________________________________________________\nsample  1\n___________________________________________________________________________________________________\nInput dialogue:\n#Person1#: What time is it, Tom?\n#Person2#: Just a minute. It&#39;s ten to nine by my watch.\n#Person1#: Is it? I had no idea it was so late. I must be off now.\n#Person2#: What&#39;s the hurry?\n#Person1#: I must catch the nine-thirty train.\n#Person2#: You&#39;ve plenty of time yet. The railway station is very close. It won&#39;t take more than twenty minutes to get there.\n___________________________________________________________________________________________________\nhuman summary:\n#Person1# is in a hurry to catch a train. Tom tells #Person1# there is plenty of time.\n___________________________________________________________________________________________________\n\n___________________________________________________________________________________________________\nsample  2\n___________________________________________________________________________________________________\nInput dialogue:\n#Person1#: Have you considered upgrading your system?\n#Person2#: Yes, but I&#39;m not sure what exactly I would need.\n#Person1#: You could consider adding a painting program to your software. It would allow you to make up your own flyers and banners for advertising.\n#Person2#: That would be a definite bonus.\n#Person1#: You might also want to upgrade your hardware because it is pretty outdated now.\n#Person2#: How can we do that?\n#Person1#: You&#39;d probably need a faster processor, to begin with. And you also need a more powerful hard disc, more memory and a faster modem. Do you have a CD-ROM drive?\n#Person2#: No.\n#Person1#: Then you might want to add a CD-ROM drive too, because most new software programs are coming out on Cds.\n#Person2#: That sounds great. Thanks.\n___________________________________________________________________________________________________\nhuman summary:\n#Person1# teaches #Person2# how to upgrade software and hardware in #Person2#&#39;s system.\n___________________________________________________________________________________________________\n\n</div>",
       "datasetInfos": [],
       "metadata": {},
       "removedWidgets": [],
       "type": "html"
      }
     },
     "output_type": "display_data"
    }
   ],
   "source": [
    "### Reading sample of dialogues\n",
    "sample_indices = [40, 200]\n",
    "dash_line = '_'.join('' for x in range(100))\n",
    "for i, index in enumerate(sample_indices):\n",
    "  print(dash_line)\n",
    "  print('sample ', i+1)\n",
    "  print(dash_line)\n",
    "  print('Input dialogue:')\n",
    "  print(dataset['test'][index]['dialogue'])\n",
    "  print(dash_line)\n",
    "  print('human summary:')\n",
    "  print(dataset['test'][index]['summary'])\n",
    "  print(dash_line)\n",
    "  print()"
   ]
  },
  {
   "cell_type": "code",
   "execution_count": 0,
   "metadata": {
    "application/vnd.databricks.v1+cell": {
     "cellMetadata": {
      "byteLimit": 2048000,
      "rowLimit": 10000
     },
     "inputWidgets": {},
     "nuid": "6537e441-4d92-4430-9764-b16e729a8a9f",
     "showTitle": false,
     "title": ""
    }
   },
   "outputs": [
    {
     "output_type": "display_data",
     "data": {
      "text/html": [
       "<style scoped>\n",
       "  .ansiout {\n",
       "    display: block;\n",
       "    unicode-bidi: embed;\n",
       "    white-space: pre-wrap;\n",
       "    word-wrap: break-word;\n",
       "    word-break: break-all;\n",
       "    font-family: \"Menlo\", \"Monaco\", \"Consolas\", \"Ubuntu Mono\", \"Source Code Pro\", monospace;\n",
       "    font-size: 13px;\n",
       "    color: #555;\n",
       "    margin-left: 4px;\n",
       "    line-height: 19px;\n",
       "  }\n",
       "</style>\n",
       "<div class=\"ansiout\"></div>"
      ]
     },
     "metadata": {
      "application/vnd.databricks.v1+output": {
       "addedWidgets": {},
       "arguments": {},
       "data": "<div class=\"ansiout\"></div>",
       "datasetInfos": [],
       "metadata": {},
       "removedWidgets": [],
       "type": "html"
      }
     },
     "output_type": "display_data"
    }
   ],
   "source": [
    "## Reading Flan T5 model\n",
    "model_name = 'google/flan-t5-base'\n",
    "model = AutoModelForSeq2SeqLM.from_pretrained(model_name)"
   ]
  },
  {
   "cell_type": "code",
   "execution_count": 0,
   "metadata": {
    "application/vnd.databricks.v1+cell": {
     "cellMetadata": {
      "byteLimit": 2048000,
      "rowLimit": 10000
     },
     "inputWidgets": {},
     "nuid": "27225b24-5afc-4a7f-a97b-fdae2b6664e0",
     "showTitle": false,
     "title": ""
    }
   },
   "outputs": [
    {
     "output_type": "display_data",
     "data": {
      "text/html": [
       "<style scoped>\n",
       "  .ansiout {\n",
       "    display: block;\n",
       "    unicode-bidi: embed;\n",
       "    white-space: pre-wrap;\n",
       "    word-wrap: break-word;\n",
       "    word-break: break-all;\n",
       "    font-family: \"Menlo\", \"Monaco\", \"Consolas\", \"Ubuntu Mono\", \"Source Code Pro\", monospace;\n",
       "    font-size: 13px;\n",
       "    color: #555;\n",
       "    margin-left: 4px;\n",
       "    line-height: 19px;\n",
       "  }\n",
       "</style>\n",
       "<div class=\"ansiout\">tokenizer_config.json:   0%|          | 0.00/2.54k [00:00&lt;?, ?B/s]\n",
       "spiece.model:   0%|          | 0.00/792k [00:00&lt;?, ?B/s]\n",
       "tokenizer.json:   0%|          | 0.00/2.42M [00:00&lt;?, ?B/s]\n",
       "special_tokens_map.json:   0%|          | 0.00/2.20k [00:00&lt;?, ?B/s]\n",
       "</div>"
      ]
     },
     "metadata": {
      "application/vnd.databricks.v1+output": {
       "addedWidgets": {},
       "arguments": {},
       "data": "<div class=\"ansiout\">tokenizer_config.json:   0%|          | 0.00/2.54k [00:00&lt;?, ?B/s]\nspiece.model:   0%|          | 0.00/792k [00:00&lt;?, ?B/s]\ntokenizer.json:   0%|          | 0.00/2.42M [00:00&lt;?, ?B/s]\nspecial_tokens_map.json:   0%|          | 0.00/2.20k [00:00&lt;?, ?B/s]\n</div>",
       "datasetInfos": [],
       "metadata": {},
       "removedWidgets": [],
       "type": "html"
      }
     },
     "output_type": "display_data"
    }
   ],
   "source": [
    "tokenizer = AutoTokenizer.from_pretrained(model_name, use_fast = True)"
   ]
  },
  {
   "cell_type": "code",
   "execution_count": 0,
   "metadata": {
    "application/vnd.databricks.v1+cell": {
     "cellMetadata": {
      "byteLimit": 2048000,
      "rowLimit": 10000
     },
     "inputWidgets": {},
     "nuid": "bd5b5009-03ff-46a1-93bf-35f23ccbc061",
     "showTitle": false,
     "title": ""
    }
   },
   "outputs": [
    {
     "output_type": "display_data",
     "data": {
      "text/html": [
       "<style scoped>\n",
       "  .ansiout {\n",
       "    display: block;\n",
       "    unicode-bidi: embed;\n",
       "    white-space: pre-wrap;\n",
       "    word-wrap: break-word;\n",
       "    word-break: break-all;\n",
       "    font-family: \"Menlo\", \"Monaco\", \"Consolas\", \"Ubuntu Mono\", \"Source Code Pro\", monospace;\n",
       "    font-size: 13px;\n",
       "    color: #555;\n",
       "    margin-left: 4px;\n",
       "    line-height: 19px;\n",
       "  }\n",
       "</style>\n",
       "<div class=\"ansiout\">Encoded sentence : \n",
       "tensor([ 363,   97,   19,   34,    6, 5199,   58,    1])\n",
       "\n",
       " decoded sentence: \n",
       "What time is it, Matt?\n",
       "</div>"
      ]
     },
     "metadata": {
      "application/vnd.databricks.v1+output": {
       "addedWidgets": {},
       "arguments": {},
       "data": "<div class=\"ansiout\">Encoded sentence : \ntensor([ 363,   97,   19,   34,    6, 5199,   58,    1])\n\n decoded sentence: \nWhat time is it, Matt?\n</div>",
       "datasetInfos": [],
       "metadata": {},
       "removedWidgets": [],
       "type": "html"
      }
     },
     "output_type": "display_data"
    }
   ],
   "source": [
    "## sample of encoded sentence and decoded vector of the sentence\n",
    "sentence = \"What time is it, Matt?\"\n",
    "sentence_encoded = tokenizer(sentence, return_tensors='pt')\n",
    "sentence_decoded = tokenizer.decode(sentence_encoded['input_ids'][0], skip_special_tokens=True)\n",
    "print('Encoded sentence : ')\n",
    "print(sentence_encoded['input_ids'][0])\n",
    "print('\\n decoded sentence: ')\n",
    "print(sentence_decoded)"
   ]
  },
  {
   "cell_type": "code",
   "execution_count": 0,
   "metadata": {
    "application/vnd.databricks.v1+cell": {
     "cellMetadata": {
      "byteLimit": 2048000,
      "rowLimit": 10000
     },
     "inputWidgets": {},
     "nuid": "40bf1515-dbcf-40e6-b31c-92db035af84c",
     "showTitle": false,
     "title": ""
    }
   },
   "outputs": [
    {
     "output_type": "display_data",
     "data": {
      "text/html": [
       "<style scoped>\n",
       "  .ansiout {\n",
       "    display: block;\n",
       "    unicode-bidi: embed;\n",
       "    white-space: pre-wrap;\n",
       "    word-wrap: break-word;\n",
       "    word-break: break-all;\n",
       "    font-family: \"Menlo\", \"Monaco\", \"Consolas\", \"Ubuntu Mono\", \"Source Code Pro\", monospace;\n",
       "    font-size: 13px;\n",
       "    color: #555;\n",
       "    margin-left: 4px;\n",
       "    line-height: 19px;\n",
       "  }\n",
       "</style>\n",
       "<div class=\"ansiout\">___________________________________________________________________________________________________\n",
       "Sample  1\n",
       "___________________________________________________________________________________________________\n",
       "Input prompt: \n",
       " #Person1#: What time is it, Tom?\n",
       "#Person2#: Just a minute. It&#39;s ten to nine by my watch.\n",
       "#Person1#: Is it? I had no idea it was so late. I must be off now.\n",
       "#Person2#: What&#39;s the hurry?\n",
       "#Person1#: I must catch the nine-thirty train.\n",
       "#Person2#: You&#39;ve plenty of time yet. The railway station is very close. It won&#39;t take more than twenty minutes to get there.\n",
       "___________________________________________________________________________________________________\n",
       "Baseline human summary: \n",
       " #Person1# is in a hurry to catch a train. Tom tells #Person1# there is plenty of time.\n",
       "___________________________________________________________________________________________________\n",
       "Model generation - without prompt engineering: \n",
       " Person1: It&#39;s ten to nine.\n",
       "___________________________________________________________________________________________________\n",
       "Sample  2\n",
       "___________________________________________________________________________________________________\n",
       "Input prompt: \n",
       " #Person1#: Have you considered upgrading your system?\n",
       "#Person2#: Yes, but I&#39;m not sure what exactly I would need.\n",
       "#Person1#: You could consider adding a painting program to your software. It would allow you to make up your own flyers and banners for advertising.\n",
       "#Person2#: That would be a definite bonus.\n",
       "#Person1#: You might also want to upgrade your hardware because it is pretty outdated now.\n",
       "#Person2#: How can we do that?\n",
       "#Person1#: You&#39;d probably need a faster processor, to begin with. And you also need a more powerful hard disc, more memory and a faster modem. Do you have a CD-ROM drive?\n",
       "#Person2#: No.\n",
       "#Person1#: Then you might want to add a CD-ROM drive too, because most new software programs are coming out on Cds.\n",
       "#Person2#: That sounds great. Thanks.\n",
       "___________________________________________________________________________________________________\n",
       "Baseline human summary: \n",
       " #Person1# teaches #Person2# how to upgrade software and hardware in #Person2#&#39;s system.\n",
       "___________________________________________________________________________________________________\n",
       "Model generation - without prompt engineering: \n",
       " #Person1#: I&#39;m thinking of upgrading my computer.\n",
       "</div>"
      ]
     },
     "metadata": {
      "application/vnd.databricks.v1+output": {
       "addedWidgets": {},
       "arguments": {},
       "data": "<div class=\"ansiout\">___________________________________________________________________________________________________\nSample  1\n___________________________________________________________________________________________________\nInput prompt: \n #Person1#: What time is it, Tom?\n#Person2#: Just a minute. It&#39;s ten to nine by my watch.\n#Person1#: Is it? I had no idea it was so late. I must be off now.\n#Person2#: What&#39;s the hurry?\n#Person1#: I must catch the nine-thirty train.\n#Person2#: You&#39;ve plenty of time yet. The railway station is very close. It won&#39;t take more than twenty minutes to get there.\n___________________________________________________________________________________________________\nBaseline human summary: \n #Person1# is in a hurry to catch a train. Tom tells #Person1# there is plenty of time.\n___________________________________________________________________________________________________\nModel generation - without prompt engineering: \n Person1: It&#39;s ten to nine.\n___________________________________________________________________________________________________\nSample  2\n___________________________________________________________________________________________________\nInput prompt: \n #Person1#: Have you considered upgrading your system?\n#Person2#: Yes, but I&#39;m not sure what exactly I would need.\n#Person1#: You could consider adding a painting program to your software. It would allow you to make up your own flyers and banners for advertising.\n#Person2#: That would be a definite bonus.\n#Person1#: You might also want to upgrade your hardware because it is pretty outdated now.\n#Person2#: How can we do that?\n#Person1#: You&#39;d probably need a faster processor, to begin with. And you also need a more powerful hard disc, more memory and a faster modem. Do you have a CD-ROM drive?\n#Person2#: No.\n#Person1#: Then you might want to add a CD-ROM drive too, because most new software programs are coming out on Cds.\n#Person2#: That sounds great. Thanks.\n___________________________________________________________________________________________________\nBaseline human summary: \n #Person1# teaches #Person2# how to upgrade software and hardware in #Person2#&#39;s system.\n___________________________________________________________________________________________________\nModel generation - without prompt engineering: \n #Person1#: I&#39;m thinking of upgrading my computer.\n</div>",
       "datasetInfos": [],
       "metadata": {},
       "removedWidgets": [],
       "type": "html"
      }
     },
     "output_type": "display_data"
    }
   ],
   "source": [
    "for i, index in enumerate(sample_indices):\n",
    "  dialogue = dataset['test'][index]['dialogue']\n",
    "  summary = dataset['test'][index]['summary']\n",
    "\n",
    "  inputs = tokenizer(dialogue, return_tensors='pt')\n",
    "  output = tokenizer.decode(model.generate(inputs['input_ids'], max_new_tokens=50,)[0], skip_special_tokens=True)\n",
    "\n",
    "  print(dash_line)\n",
    "  print('Sample ', i+1)\n",
    "  print(dash_line)\n",
    "  print('Input prompt: \\n', dialogue)\n",
    "  print(dash_line)\n",
    "  print('Baseline human summary: \\n', summary)\n",
    "  print(dash_line)\n",
    "  print('Model generation - without prompt engineering: \\n', output)"
   ]
  },
  {
   "cell_type": "markdown",
   "metadata": {
    "application/vnd.databricks.v1+cell": {
     "cellMetadata": {},
     "inputWidgets": {},
     "nuid": "a5ec8da3-ad9b-462f-951f-bd5939a2d6a8",
     "showTitle": false,
     "title": ""
    }
   },
   "source": [
    "##### Observation : Not a good quality of text summarization"
   ]
  },
  {
   "cell_type": "markdown",
   "metadata": {
    "application/vnd.databricks.v1+cell": {
     "cellMetadata": {},
     "inputWidgets": {},
     "nuid": "c2962993-9338-4b01-9507-b324c2dcf2e1",
     "showTitle": false,
     "title": ""
    }
   },
   "source": [
    "###3. Zero shot inference with an instruction prompt"
   ]
  },
  {
   "cell_type": "code",
   "execution_count": 0,
   "metadata": {
    "application/vnd.databricks.v1+cell": {
     "cellMetadata": {
      "byteLimit": 2048000,
      "rowLimit": 10000
     },
     "inputWidgets": {},
     "nuid": "ff4595f9-692d-4705-ba9d-a3426f9f837d",
     "showTitle": false,
     "title": ""
    }
   },
   "outputs": [
    {
     "output_type": "display_data",
     "data": {
      "text/html": [
       "<style scoped>\n",
       "  .ansiout {\n",
       "    display: block;\n",
       "    unicode-bidi: embed;\n",
       "    white-space: pre-wrap;\n",
       "    word-wrap: break-word;\n",
       "    word-break: break-all;\n",
       "    font-family: \"Menlo\", \"Monaco\", \"Consolas\", \"Ubuntu Mono\", \"Source Code Pro\", monospace;\n",
       "    font-size: 13px;\n",
       "    color: #555;\n",
       "    margin-left: 4px;\n",
       "    line-height: 19px;\n",
       "  }\n",
       "</style>\n",
       "<div class=\"ansiout\">___________________________________________________________________________________________________\n",
       "Sample  1\n",
       "___________________________________________________________________________________________________\n",
       "Input prompt: \n",
       " \n",
       "  Summarize the following conversation.\n",
       "  #Person1#: What time is it, Tom?\n",
       "#Person2#: Just a minute. It&#39;s ten to nine by my watch.\n",
       "#Person1#: Is it? I had no idea it was so late. I must be off now.\n",
       "#Person2#: What&#39;s the hurry?\n",
       "#Person1#: I must catch the nine-thirty train.\n",
       "#Person2#: You&#39;ve plenty of time yet. The railway station is very close. It won&#39;t take more than twenty minutes to get there.\n",
       "  Summary :\n",
       "  \n",
       "___________________________________________________________________________________________________\n",
       "Baseline human summary: \n",
       " #Person1# is in a hurry to catch a train. Tom tells #Person1# there is plenty of time.\n",
       "___________________________________________________________________________________________________\n",
       "Model generation - without prompt engineering: \n",
       " The train is about to leave.\n",
       "___________________________________________________________________________________________________\n",
       "Sample  2\n",
       "___________________________________________________________________________________________________\n",
       "Input prompt: \n",
       " \n",
       "  Summarize the following conversation.\n",
       "  #Person1#: Have you considered upgrading your system?\n",
       "#Person2#: Yes, but I&#39;m not sure what exactly I would need.\n",
       "#Person1#: You could consider adding a painting program to your software. It would allow you to make up your own flyers and banners for advertising.\n",
       "#Person2#: That would be a definite bonus.\n",
       "#Person1#: You might also want to upgrade your hardware because it is pretty outdated now.\n",
       "#Person2#: How can we do that?\n",
       "#Person1#: You&#39;d probably need a faster processor, to begin with. And you also need a more powerful hard disc, more memory and a faster modem. Do you have a CD-ROM drive?\n",
       "#Person2#: No.\n",
       "#Person1#: Then you might want to add a CD-ROM drive too, because most new software programs are coming out on Cds.\n",
       "#Person2#: That sounds great. Thanks.\n",
       "  Summary :\n",
       "  \n",
       "___________________________________________________________________________________________________\n",
       "Baseline human summary: \n",
       " #Person1# teaches #Person2# how to upgrade software and hardware in #Person2#&#39;s system.\n",
       "___________________________________________________________________________________________________\n",
       "Model generation - without prompt engineering: \n",
       " #Person1#: I&#39;m thinking of upgrading my computer.\n",
       "</div>"
      ]
     },
     "metadata": {
      "application/vnd.databricks.v1+output": {
       "addedWidgets": {},
       "arguments": {},
       "data": "<div class=\"ansiout\">___________________________________________________________________________________________________\nSample  1\n___________________________________________________________________________________________________\nInput prompt: \n \n  Summarize the following conversation.\n  #Person1#: What time is it, Tom?\n#Person2#: Just a minute. It&#39;s ten to nine by my watch.\n#Person1#: Is it? I had no idea it was so late. I must be off now.\n#Person2#: What&#39;s the hurry?\n#Person1#: I must catch the nine-thirty train.\n#Person2#: You&#39;ve plenty of time yet. The railway station is very close. It won&#39;t take more than twenty minutes to get there.\n  Summary :\n  \n___________________________________________________________________________________________________\nBaseline human summary: \n #Person1# is in a hurry to catch a train. Tom tells #Person1# there is plenty of time.\n___________________________________________________________________________________________________\nModel generation - without prompt engineering: \n The train is about to leave.\n___________________________________________________________________________________________________\nSample  2\n___________________________________________________________________________________________________\nInput prompt: \n \n  Summarize the following conversation.\n  #Person1#: Have you considered upgrading your system?\n#Person2#: Yes, but I&#39;m not sure what exactly I would need.\n#Person1#: You could consider adding a painting program to your software. It would allow you to make up your own flyers and banners for advertising.\n#Person2#: That would be a definite bonus.\n#Person1#: You might also want to upgrade your hardware because it is pretty outdated now.\n#Person2#: How can we do that?\n#Person1#: You&#39;d probably need a faster processor, to begin with. And you also need a more powerful hard disc, more memory and a faster modem. Do you have a CD-ROM drive?\n#Person2#: No.\n#Person1#: Then you might want to add a CD-ROM drive too, because most new software programs are coming out on Cds.\n#Person2#: That sounds great. Thanks.\n  Summary :\n  \n___________________________________________________________________________________________________\nBaseline human summary: \n #Person1# teaches #Person2# how to upgrade software and hardware in #Person2#&#39;s system.\n___________________________________________________________________________________________________\nModel generation - without prompt engineering: \n #Person1#: I&#39;m thinking of upgrading my computer.\n</div>",
       "datasetInfos": [],
       "metadata": {},
       "removedWidgets": [],
       "type": "html"
      }
     },
     "output_type": "display_data"
    }
   ],
   "source": [
    "for i, index in enumerate(sample_indices):\n",
    "  dialogue = dataset['test'][index]['dialogue']\n",
    "  summary = dataset['test'][index]['summary']\n",
    "\n",
    "  prompt = f\"\"\"\n",
    "  Summarize the following conversation.\n",
    "  {dialogue}\n",
    "  Summary :\n",
    "  \"\"\"\n",
    "\n",
    "  inputs = tokenizer(prompt, return_tensors='pt')\n",
    "  output = tokenizer.decode(model.generate(inputs['input_ids'], max_new_tokens=50,)[0], skip_special_tokens=True)\n",
    "\n",
    "  print(dash_line)\n",
    "  print('Sample ', i+1)\n",
    "  print(dash_line)\n",
    "  print('Input prompt: \\n', prompt)\n",
    "  print(dash_line)\n",
    "  print('Baseline human summary: \\n', summary)\n",
    "  print(dash_line)\n",
    "  print('Model generation - without prompt engineering: \\n', output)"
   ]
  },
  {
   "cell_type": "code",
   "execution_count": 0,
   "metadata": {
    "application/vnd.databricks.v1+cell": {
     "cellMetadata": {
      "byteLimit": 2048000,
      "rowLimit": 10000
     },
     "inputWidgets": {},
     "nuid": "dcbc44ef-2dc2-47e2-927a-68c9880cd66d",
     "showTitle": false,
     "title": ""
    }
   },
   "outputs": [
    {
     "output_type": "display_data",
     "data": {
      "text/html": [
       "<style scoped>\n",
       "  .ansiout {\n",
       "    display: block;\n",
       "    unicode-bidi: embed;\n",
       "    white-space: pre-wrap;\n",
       "    word-wrap: break-word;\n",
       "    word-break: break-all;\n",
       "    font-family: \"Menlo\", \"Monaco\", \"Consolas\", \"Ubuntu Mono\", \"Source Code Pro\", monospace;\n",
       "    font-size: 13px;\n",
       "    color: #555;\n",
       "    margin-left: 4px;\n",
       "    line-height: 19px;\n",
       "  }\n",
       "</style>\n",
       "<div class=\"ansiout\">___________________________________________________________________________________________________\n",
       "Sample  1\n",
       "___________________________________________________________________________________________________\n",
       "Input prompt: \n",
       " \n",
       " Dialogue:\n",
       "  #Person1#: What time is it, Tom?\n",
       "#Person2#: Just a minute. It&#39;s ten to nine by my watch.\n",
       "#Person1#: Is it? I had no idea it was so late. I must be off now.\n",
       "#Person2#: What&#39;s the hurry?\n",
       "#Person1#: I must catch the nine-thirty train.\n",
       "#Person2#: You&#39;ve plenty of time yet. The railway station is very close. It won&#39;t take more than twenty minutes to get there.\n",
       "  What was going on ?\n",
       "  \n",
       "___________________________________________________________________________________________________\n",
       "Baseline human summary: \n",
       " #Person1# is in a hurry to catch a train. Tom tells #Person1# there is plenty of time.\n",
       "___________________________________________________________________________________________________\n",
       "Model generation - without prompt engineering: \n",
       " Tom is late for the train.\n",
       "___________________________________________________________________________________________________\n",
       "Sample  2\n",
       "___________________________________________________________________________________________________\n",
       "Input prompt: \n",
       " \n",
       " Dialogue:\n",
       "  #Person1#: Have you considered upgrading your system?\n",
       "#Person2#: Yes, but I&#39;m not sure what exactly I would need.\n",
       "#Person1#: You could consider adding a painting program to your software. It would allow you to make up your own flyers and banners for advertising.\n",
       "#Person2#: That would be a definite bonus.\n",
       "#Person1#: You might also want to upgrade your hardware because it is pretty outdated now.\n",
       "#Person2#: How can we do that?\n",
       "#Person1#: You&#39;d probably need a faster processor, to begin with. And you also need a more powerful hard disc, more memory and a faster modem. Do you have a CD-ROM drive?\n",
       "#Person2#: No.\n",
       "#Person1#: Then you might want to add a CD-ROM drive too, because most new software programs are coming out on Cds.\n",
       "#Person2#: That sounds great. Thanks.\n",
       "  What was going on ?\n",
       "  \n",
       "___________________________________________________________________________________________________\n",
       "Baseline human summary: \n",
       " #Person1# teaches #Person2# how to upgrade software and hardware in #Person2#&#39;s system.\n",
       "___________________________________________________________________________________________________\n",
       "Model generation - without prompt engineering: \n",
       " #Person1#: You might consider upgrading your system. #Person2#: You might also consider adding a painting program to your software. #Person1#: You might also consider adding a faster processor, more memory\n",
       "</div>"
      ]
     },
     "metadata": {
      "application/vnd.databricks.v1+output": {
       "addedWidgets": {},
       "arguments": {},
       "data": "<div class=\"ansiout\">___________________________________________________________________________________________________\nSample  1\n___________________________________________________________________________________________________\nInput prompt: \n \n Dialogue:\n  #Person1#: What time is it, Tom?\n#Person2#: Just a minute. It&#39;s ten to nine by my watch.\n#Person1#: Is it? I had no idea it was so late. I must be off now.\n#Person2#: What&#39;s the hurry?\n#Person1#: I must catch the nine-thirty train.\n#Person2#: You&#39;ve plenty of time yet. The railway station is very close. It won&#39;t take more than twenty minutes to get there.\n  What was going on ?\n  \n___________________________________________________________________________________________________\nBaseline human summary: \n #Person1# is in a hurry to catch a train. Tom tells #Person1# there is plenty of time.\n___________________________________________________________________________________________________\nModel generation - without prompt engineering: \n Tom is late for the train.\n___________________________________________________________________________________________________\nSample  2\n___________________________________________________________________________________________________\nInput prompt: \n \n Dialogue:\n  #Person1#: Have you considered upgrading your system?\n#Person2#: Yes, but I&#39;m not sure what exactly I would need.\n#Person1#: You could consider adding a painting program to your software. It would allow you to make up your own flyers and banners for advertising.\n#Person2#: That would be a definite bonus.\n#Person1#: You might also want to upgrade your hardware because it is pretty outdated now.\n#Person2#: How can we do that?\n#Person1#: You&#39;d probably need a faster processor, to begin with. And you also need a more powerful hard disc, more memory and a faster modem. Do you have a CD-ROM drive?\n#Person2#: No.\n#Person1#: Then you might want to add a CD-ROM drive too, because most new software programs are coming out on Cds.\n#Person2#: That sounds great. Thanks.\n  What was going on ?\n  \n___________________________________________________________________________________________________\nBaseline human summary: \n #Person1# teaches #Person2# how to upgrade software and hardware in #Person2#&#39;s system.\n___________________________________________________________________________________________________\nModel generation - without prompt engineering: \n #Person1#: You might consider upgrading your system. #Person2#: You might also consider adding a painting program to your software. #Person1#: You might also consider adding a faster processor, more memory\n</div>",
       "datasetInfos": [],
       "metadata": {},
       "removedWidgets": [],
       "type": "html"
      }
     },
     "output_type": "display_data"
    }
   ],
   "source": [
    "for i, index in enumerate(sample_indices):\n",
    "  dialogue = dataset['test'][index]['dialogue']\n",
    "  summary = dataset['test'][index]['summary']\n",
    "\n",
    "  prompt = f\"\"\"\n",
    " Dialogue:\n",
    "  {dialogue}\n",
    "  What was going on ?\n",
    "  \"\"\"\n",
    "\n",
    "  inputs = tokenizer(prompt, return_tensors='pt')\n",
    "  output = tokenizer.decode(model.generate(inputs['input_ids'], max_new_tokens=50,)[0], skip_special_tokens=True)\n",
    "\n",
    "  print(dash_line)\n",
    "  print('Sample ', i+1)\n",
    "  print(dash_line)\n",
    "  print('Input prompt: \\n', prompt)\n",
    "  print(dash_line)\n",
    "  print('Baseline human summary: \\n', summary)\n",
    "  print(dash_line)\n",
    "  print('Model generation - without prompt engineering: \\n', output)"
   ]
  },
  {
   "cell_type": "markdown",
   "metadata": {
    "application/vnd.databricks.v1+cell": {
     "cellMetadata": {},
     "inputWidgets": {},
     "nuid": "1d34cb63-1d30-4cc4-b060-0f16d921628a",
     "showTitle": false,
     "title": ""
    }
   },
   "source": [
    "##### Observation : Not a good quality of text summarization"
   ]
  },
  {
   "cell_type": "markdown",
   "metadata": {
    "application/vnd.databricks.v1+cell": {
     "cellMetadata": {},
     "inputWidgets": {},
     "nuid": "f21f4772-97b3-4f33-842f-a8735213148c",
     "showTitle": false,
     "title": ""
    }
   },
   "source": [
    "###4. One shot inference"
   ]
  },
  {
   "cell_type": "code",
   "execution_count": 0,
   "metadata": {
    "application/vnd.databricks.v1+cell": {
     "cellMetadata": {
      "byteLimit": 2048000,
      "rowLimit": 10000
     },
     "inputWidgets": {},
     "nuid": "9ebceec2-7834-4137-b2b2-72b16e279941",
     "showTitle": false,
     "title": ""
    }
   },
   "outputs": [
    {
     "output_type": "display_data",
     "data": {
      "text/html": [
       "<style scoped>\n",
       "  .ansiout {\n",
       "    display: block;\n",
       "    unicode-bidi: embed;\n",
       "    white-space: pre-wrap;\n",
       "    word-wrap: break-word;\n",
       "    word-break: break-all;\n",
       "    font-family: \"Menlo\", \"Monaco\", \"Consolas\", \"Ubuntu Mono\", \"Source Code Pro\", monospace;\n",
       "    font-size: 13px;\n",
       "    color: #555;\n",
       "    margin-left: 4px;\n",
       "    line-height: 19px;\n",
       "  }\n",
       "</style>\n",
       "<div class=\"ansiout\"></div>"
      ]
     },
     "metadata": {
      "application/vnd.databricks.v1+output": {
       "addedWidgets": {},
       "arguments": {},
       "data": "<div class=\"ansiout\"></div>",
       "datasetInfos": [],
       "metadata": {},
       "removedWidgets": [],
       "type": "html"
      }
     },
     "output_type": "display_data"
    }
   ],
   "source": [
    "def make_promt(sample_indices, sample_index_to_summarize):\n",
    "  prompt = ''\n",
    "  for index in sample_indices:\n",
    "    dialogue = dataset['test'][index]['dialogue']\n",
    "    summary = dataset['test'][index]['summary']\n",
    "    prompt += f\"\"\"\n",
    "    Dialogue:\n",
    "    {dialogue}\n",
    "    What was going on?\n",
    "    {summary}\n",
    "    \"\"\"\n",
    "  dialogue = dataset['test'][sample_index_to_summarize]['dialogue']\n",
    "  prompt += f\"\"\"\n",
    "  Dialogue:\n",
    "  {dialogue}\n",
    "  What was going on?\n",
    "  \"\"\"\n",
    "  return prompt"
   ]
  },
  {
   "cell_type": "code",
   "execution_count": 0,
   "metadata": {
    "application/vnd.databricks.v1+cell": {
     "cellMetadata": {
      "byteLimit": 2048000,
      "rowLimit": 10000
     },
     "inputWidgets": {},
     "nuid": "66064811-1f6e-4069-b178-dc33a503bed5",
     "showTitle": false,
     "title": ""
    }
   },
   "outputs": [
    {
     "output_type": "display_data",
     "data": {
      "text/html": [
       "<style scoped>\n",
       "  .ansiout {\n",
       "    display: block;\n",
       "    unicode-bidi: embed;\n",
       "    white-space: pre-wrap;\n",
       "    word-wrap: break-word;\n",
       "    word-break: break-all;\n",
       "    font-family: \"Menlo\", \"Monaco\", \"Consolas\", \"Ubuntu Mono\", \"Source Code Pro\", monospace;\n",
       "    font-size: 13px;\n",
       "    color: #555;\n",
       "    margin-left: 4px;\n",
       "    line-height: 19px;\n",
       "  }\n",
       "</style>\n",
       "<div class=\"ansiout\">\n",
       "    Dialogue:\n",
       "    #Person1#: What time is it, Tom?\n",
       "#Person2#: Just a minute. It&#39;s ten to nine by my watch.\n",
       "#Person1#: Is it? I had no idea it was so late. I must be off now.\n",
       "#Person2#: What&#39;s the hurry?\n",
       "#Person1#: I must catch the nine-thirty train.\n",
       "#Person2#: You&#39;ve plenty of time yet. The railway station is very close. It won&#39;t take more than twenty minutes to get there.\n",
       "    What was going on?\n",
       "    #Person1# is in a hurry to catch a train. Tom tells #Person1# there is plenty of time.\n",
       "    \n",
       "    Dialogue:\n",
       "    #Person1#: Have you considered upgrading your system?\n",
       "#Person2#: Yes, but I&#39;m not sure what exactly I would need.\n",
       "#Person1#: You could consider adding a painting program to your software. It would allow you to make up your own flyers and banners for advertising.\n",
       "#Person2#: That would be a definite bonus.\n",
       "#Person1#: You might also want to upgrade your hardware because it is pretty outdated now.\n",
       "#Person2#: How can we do that?\n",
       "#Person1#: You&#39;d probably need a faster processor, to begin with. And you also need a more powerful hard disc, more memory and a faster modem. Do you have a CD-ROM drive?\n",
       "#Person2#: No.\n",
       "#Person1#: Then you might want to add a CD-ROM drive too, because most new software programs are coming out on Cds.\n",
       "#Person2#: That sounds great. Thanks.\n",
       "    What was going on?\n",
       "    \n",
       "</div>"
      ]
     },
     "metadata": {
      "application/vnd.databricks.v1+output": {
       "addedWidgets": {},
       "arguments": {},
       "data": "<div class=\"ansiout\">\n    Dialogue:\n    #Person1#: What time is it, Tom?\n#Person2#: Just a minute. It&#39;s ten to nine by my watch.\n#Person1#: Is it? I had no idea it was so late. I must be off now.\n#Person2#: What&#39;s the hurry?\n#Person1#: I must catch the nine-thirty train.\n#Person2#: You&#39;ve plenty of time yet. The railway station is very close. It won&#39;t take more than twenty minutes to get there.\n    What was going on?\n    #Person1# is in a hurry to catch a train. Tom tells #Person1# there is plenty of time.\n    \n    Dialogue:\n    #Person1#: Have you considered upgrading your system?\n#Person2#: Yes, but I&#39;m not sure what exactly I would need.\n#Person1#: You could consider adding a painting program to your software. It would allow you to make up your own flyers and banners for advertising.\n#Person2#: That would be a definite bonus.\n#Person1#: You might also want to upgrade your hardware because it is pretty outdated now.\n#Person2#: How can we do that?\n#Person1#: You&#39;d probably need a faster processor, to begin with. And you also need a more powerful hard disc, more memory and a faster modem. Do you have a CD-ROM drive?\n#Person2#: No.\n#Person1#: Then you might want to add a CD-ROM drive too, because most new software programs are coming out on Cds.\n#Person2#: That sounds great. Thanks.\n    What was going on?\n    \n</div>",
       "datasetInfos": [],
       "metadata": {},
       "removedWidgets": [],
       "type": "html"
      }
     },
     "output_type": "display_data"
    }
   ],
   "source": [
    "sample_indices = [40]\n",
    "sample_index_to_summarize = 200\n",
    "\n",
    "one_shot_prompt = make_promt(sample_indices, sample_index_to_summarize)\n",
    "print(one_shot_prompt)"
   ]
  },
  {
   "cell_type": "code",
   "execution_count": 0,
   "metadata": {
    "application/vnd.databricks.v1+cell": {
     "cellMetadata": {
      "byteLimit": 2048000,
      "rowLimit": 10000
     },
     "inputWidgets": {},
     "nuid": "c26b8e80-9269-423e-b4bd-4cbafe72a541",
     "showTitle": false,
     "title": ""
    }
   },
   "outputs": [
    {
     "output_type": "display_data",
     "data": {
      "text/html": [
       "<style scoped>\n",
       "  .ansiout {\n",
       "    display: block;\n",
       "    unicode-bidi: embed;\n",
       "    white-space: pre-wrap;\n",
       "    word-wrap: break-word;\n",
       "    word-break: break-all;\n",
       "    font-family: \"Menlo\", \"Monaco\", \"Consolas\", \"Ubuntu Mono\", \"Source Code Pro\", monospace;\n",
       "    font-size: 13px;\n",
       "    color: #555;\n",
       "    margin-left: 4px;\n",
       "    line-height: 19px;\n",
       "  }\n",
       "</style>\n",
       "<div class=\"ansiout\">___________________________________________________________________________________________________\n",
       "baseline human summary {&#34;#Person1# teaches #Person2# how to upgrade software and hardware in #Person2#&#39;s system.&#34;}\n",
       "___________________________________________________________________________________________________\n",
       "model generation - one shot :  {&#39;#Person1 wants to upgrade his system. #Person2 wants to add a painting program to his software. #Person1 wants to add a CD-ROM drive.&#39;}\n",
       "</div>"
      ]
     },
     "metadata": {
      "application/vnd.databricks.v1+output": {
       "addedWidgets": {},
       "arguments": {},
       "data": "<div class=\"ansiout\">___________________________________________________________________________________________________\nbaseline human summary {&#34;#Person1# teaches #Person2# how to upgrade software and hardware in #Person2#&#39;s system.&#34;}\n___________________________________________________________________________________________________\nmodel generation - one shot :  {&#39;#Person1 wants to upgrade his system. #Person2 wants to add a painting program to his software. #Person1 wants to add a CD-ROM drive.&#39;}\n</div>",
       "datasetInfos": [],
       "metadata": {},
       "removedWidgets": [],
       "type": "html"
      }
     },
     "output_type": "display_data"
    }
   ],
   "source": [
    "summary = dataset['test'][sample_index_to_summarize]['summary']\n",
    "inputs = tokenizer(one_shot_prompt, return_tensors='pt')\n",
    "output = tokenizer.decode(model.generate(inputs['input_ids'], max_new_tokens = 50)[0], skip_special_tokens = True)\n",
    "print(dash_line)\n",
    "print('baseline human summary', {summary})\n",
    "print(dash_line)\n",
    "print('model generation - one shot : ', {output})"
   ]
  },
  {
   "cell_type": "markdown",
   "metadata": {
    "application/vnd.databricks.v1+cell": {
     "cellMetadata": {},
     "inputWidgets": {},
     "nuid": "d8d5761b-b6e3-49b5-acc8-8e78ff34a73f",
     "showTitle": false,
     "title": ""
    }
   },
   "source": [
    "##### Observation : Better quality of text summarization and more specific in comparsion to zero shot"
   ]
  },
  {
   "cell_type": "markdown",
   "metadata": {
    "application/vnd.databricks.v1+cell": {
     "cellMetadata": {},
     "inputWidgets": {},
     "nuid": "d711faa6-1607-4c47-8250-a349706c9fec",
     "showTitle": false,
     "title": ""
    }
   },
   "source": [
    "###5. Few shot inference"
   ]
  },
  {
   "cell_type": "code",
   "execution_count": 0,
   "metadata": {
    "application/vnd.databricks.v1+cell": {
     "cellMetadata": {
      "byteLimit": 2048000,
      "rowLimit": 10000
     },
     "inputWidgets": {},
     "nuid": "fb0f6a54-a966-480f-82be-56b9c9810e6e",
     "showTitle": false,
     "title": ""
    }
   },
   "outputs": [
    {
     "output_type": "display_data",
     "data": {
      "text/html": [
       "<style scoped>\n",
       "  .ansiout {\n",
       "    display: block;\n",
       "    unicode-bidi: embed;\n",
       "    white-space: pre-wrap;\n",
       "    word-wrap: break-word;\n",
       "    word-break: break-all;\n",
       "    font-family: \"Menlo\", \"Monaco\", \"Consolas\", \"Ubuntu Mono\", \"Source Code Pro\", monospace;\n",
       "    font-size: 13px;\n",
       "    color: #555;\n",
       "    margin-left: 4px;\n",
       "    line-height: 19px;\n",
       "  }\n",
       "</style>\n",
       "<div class=\"ansiout\">\n",
       "    Dialogue:\n",
       "    #Person1#: What time is it, Tom?\n",
       "#Person2#: Just a minute. It&#39;s ten to nine by my watch.\n",
       "#Person1#: Is it? I had no idea it was so late. I must be off now.\n",
       "#Person2#: What&#39;s the hurry?\n",
       "#Person1#: I must catch the nine-thirty train.\n",
       "#Person2#: You&#39;ve plenty of time yet. The railway station is very close. It won&#39;t take more than twenty minutes to get there.\n",
       "    What was going on?\n",
       "    #Person1# is in a hurry to catch a train. Tom tells #Person1# there is plenty of time.\n",
       "    \n",
       "    Dialogue:\n",
       "    #Person1#: May, do you mind helping me prepare for the picnic?\n",
       "#Person2#: Sure. Have you checked the weather report?\n",
       "#Person1#: Yes. It says it will be sunny all day. No sign of rain at all. This is your father&#39;s favorite sausage. Sandwiches for you and Daniel.\n",
       "#Person2#: No, thanks Mom. I&#39;d like some toast and chicken wings.\n",
       "#Person1#: Okay. Please take some fruit salad and crackers for me.\n",
       "#Person2#: Done. Oh, don&#39;t forget to take napkins disposable plates, cups and picnic blanket.\n",
       "#Person1#: All set. May, can you help me take all these things to the living room?\n",
       "#Person2#: Yes, madam.\n",
       "#Person1#: Ask Daniel to give you a hand?\n",
       "#Person2#: No, mom, I can manage it by myself. His help just causes more trouble.\n",
       "    What was going on?\n",
       "    Mom asks May to help to prepare for the picnic and May agrees.\n",
       "    \n",
       "    Dialogue:\n",
       "    #Person1#: Hello, I bought the pendant in your shop, just before. \n",
       "#Person2#: Yes. Thank you very much. \n",
       "#Person1#: Now I come back to the hotel and try to show it to my friend, the pendant is broken, I&#39;m afraid. \n",
       "#Person2#: Oh, is it? \n",
       "#Person1#: Would you change it to a new one? \n",
       "#Person2#: Yes, certainly. You have the receipt? \n",
       "#Person1#: Yes, I do. \n",
       "#Person2#: Then would you kindly come to our shop with the receipt by 10 o&#39;clock? We will replace it. \n",
       "#Person1#: Thank you so much. \n",
       "    What was going on?\n",
       "    #Person1# wants to change the broken pendant in #Person2#&#39;s shop.\n",
       "    \n",
       "  Dialogue:\n",
       "  #Person1#: Have you considered upgrading your system?\n",
       "#Person2#: Yes, but I&#39;m not sure what exactly I would need.\n",
       "#Person1#: You could consider adding a painting program to your software. It would allow you to make up your own flyers and banners for advertising.\n",
       "#Person2#: That would be a definite bonus.\n",
       "#Person1#: You might also want to upgrade your hardware because it is pretty outdated now.\n",
       "#Person2#: How can we do that?\n",
       "#Person1#: You&#39;d probably need a faster processor, to begin with. And you also need a more powerful hard disc, more memory and a faster modem. Do you have a CD-ROM drive?\n",
       "#Person2#: No.\n",
       "#Person1#: Then you might want to add a CD-ROM drive too, because most new software programs are coming out on Cds.\n",
       "#Person2#: That sounds great. Thanks.\n",
       "  What was going on?\n",
       "  \n",
       "</div>"
      ]
     },
     "metadata": {
      "application/vnd.databricks.v1+output": {
       "addedWidgets": {},
       "arguments": {},
       "data": "<div class=\"ansiout\">\n    Dialogue:\n    #Person1#: What time is it, Tom?\n#Person2#: Just a minute. It&#39;s ten to nine by my watch.\n#Person1#: Is it? I had no idea it was so late. I must be off now.\n#Person2#: What&#39;s the hurry?\n#Person1#: I must catch the nine-thirty train.\n#Person2#: You&#39;ve plenty of time yet. The railway station is very close. It won&#39;t take more than twenty minutes to get there.\n    What was going on?\n    #Person1# is in a hurry to catch a train. Tom tells #Person1# there is plenty of time.\n    \n    Dialogue:\n    #Person1#: May, do you mind helping me prepare for the picnic?\n#Person2#: Sure. Have you checked the weather report?\n#Person1#: Yes. It says it will be sunny all day. No sign of rain at all. This is your father&#39;s favorite sausage. Sandwiches for you and Daniel.\n#Person2#: No, thanks Mom. I&#39;d like some toast and chicken wings.\n#Person1#: Okay. Please take some fruit salad and crackers for me.\n#Person2#: Done. Oh, don&#39;t forget to take napkins disposable plates, cups and picnic blanket.\n#Person1#: All set. May, can you help me take all these things to the living room?\n#Person2#: Yes, madam.\n#Person1#: Ask Daniel to give you a hand?\n#Person2#: No, mom, I can manage it by myself. His help just causes more trouble.\n    What was going on?\n    Mom asks May to help to prepare for the picnic and May agrees.\n    \n    Dialogue:\n    #Person1#: Hello, I bought the pendant in your shop, just before. \n#Person2#: Yes. Thank you very much. \n#Person1#: Now I come back to the hotel and try to show it to my friend, the pendant is broken, I&#39;m afraid. \n#Person2#: Oh, is it? \n#Person1#: Would you change it to a new one? \n#Person2#: Yes, certainly. You have the receipt? \n#Person1#: Yes, I do. \n#Person2#: Then would you kindly come to our shop with the receipt by 10 o&#39;clock? We will replace it. \n#Person1#: Thank you so much. \n    What was going on?\n    #Person1# wants to change the broken pendant in #Person2#&#39;s shop.\n    \n  Dialogue:\n  #Person1#: Have you considered upgrading your system?\n#Person2#: Yes, but I&#39;m not sure what exactly I would need.\n#Person1#: You could consider adding a painting program to your software. It would allow you to make up your own flyers and banners for advertising.\n#Person2#: That would be a definite bonus.\n#Person1#: You might also want to upgrade your hardware because it is pretty outdated now.\n#Person2#: How can we do that?\n#Person1#: You&#39;d probably need a faster processor, to begin with. And you also need a more powerful hard disc, more memory and a faster modem. Do you have a CD-ROM drive?\n#Person2#: No.\n#Person1#: Then you might want to add a CD-ROM drive too, because most new software programs are coming out on Cds.\n#Person2#: That sounds great. Thanks.\n  What was going on?\n  \n</div>",
       "datasetInfos": [],
       "metadata": {},
       "removedWidgets": [],
       "type": "html"
      }
     },
     "output_type": "display_data"
    }
   ],
   "source": [
    "### Adding three shots\n",
    "sample_indices = [40, 80, 120]\n",
    "sample_index_to_summarize = 200\n",
    "few_shot_prompt = make_promt(sample_indices, sample_index_to_summarize)\n",
    "print(few_shot_prompt)"
   ]
  },
  {
   "cell_type": "code",
   "execution_count": 0,
   "metadata": {
    "application/vnd.databricks.v1+cell": {
     "cellMetadata": {
      "byteLimit": 2048000,
      "rowLimit": 10000
     },
     "inputWidgets": {},
     "nuid": "2d3a49f2-93b3-4cb4-b059-6dab4c6e7df1",
     "showTitle": false,
     "title": ""
    }
   },
   "outputs": [
    {
     "output_type": "display_data",
     "data": {
      "text/html": [
       "<style scoped>\n",
       "  .ansiout {\n",
       "    display: block;\n",
       "    unicode-bidi: embed;\n",
       "    white-space: pre-wrap;\n",
       "    word-wrap: break-word;\n",
       "    word-break: break-all;\n",
       "    font-family: \"Menlo\", \"Monaco\", \"Consolas\", \"Ubuntu Mono\", \"Source Code Pro\", monospace;\n",
       "    font-size: 13px;\n",
       "    color: #555;\n",
       "    margin-left: 4px;\n",
       "    line-height: 19px;\n",
       "  }\n",
       "</style>\n",
       "<div class=\"ansiout\">___________________________________________________________________________________________________\n",
       "baseline human summary {&#34;#Person1# teaches #Person2# how to upgrade software and hardware in #Person2#&#39;s system.&#34;}\n",
       "___________________________________________________________________________________________________\n",
       "model generation - few shots :  {&#39;#Person1 wants to upgrade his system. #Person2 wants to add a painting program to his software. #Person1 wants to upgrade his hardware.&#39;}\n",
       "</div>"
      ]
     },
     "metadata": {
      "application/vnd.databricks.v1+output": {
       "addedWidgets": {},
       "arguments": {},
       "data": "<div class=\"ansiout\">___________________________________________________________________________________________________\nbaseline human summary {&#34;#Person1# teaches #Person2# how to upgrade software and hardware in #Person2#&#39;s system.&#34;}\n___________________________________________________________________________________________________\nmodel generation - few shots :  {&#39;#Person1 wants to upgrade his system. #Person2 wants to add a painting program to his software. #Person1 wants to upgrade his hardware.&#39;}\n</div>",
       "datasetInfos": [],
       "metadata": {},
       "removedWidgets": [],
       "type": "html"
      }
     },
     "output_type": "display_data"
    }
   ],
   "source": [
    "summary = dataset['test'][sample_index_to_summarize]['summary']\n",
    "inputs = tokenizer(few_shot_prompt, return_tensors='pt')\n",
    "output = tokenizer.decode(model.generate(inputs['input_ids'], max_new_tokens = 50)[0], skip_special_tokens = True)\n",
    "print(dash_line)\n",
    "print('baseline human summary', {summary})\n",
    "print(dash_line)\n",
    "print('model generation - few shots : ', {output})"
   ]
  },
  {
   "cell_type": "markdown",
   "metadata": {
    "application/vnd.databricks.v1+cell": {
     "cellMetadata": {},
     "inputWidgets": {},
     "nuid": "40c4d791-5d9b-4a30-bedc-7cd356c4e43a",
     "showTitle": false,
     "title": ""
    }
   },
   "source": [
    "##### Observation : Indeed, btter quality of text summarization in comparison to zero shot, but not that difference in comparsino to one shot"
   ]
  },
  {
   "cell_type": "markdown",
   "metadata": {
    "application/vnd.databricks.v1+cell": {
     "cellMetadata": {},
     "inputWidgets": {},
     "nuid": "bf156876-fa28-4048-b11e-322c48bc9c2d",
     "showTitle": false,
     "title": ""
    }
   },
   "source": [
    "#### Conclusion on feeding shots : adding shots to the model could make the summary better, but still not as expected"
   ]
  },
  {
   "cell_type": "markdown",
   "metadata": {
    "application/vnd.databricks.v1+cell": {
     "cellMetadata": {},
     "inputWidgets": {},
     "nuid": "85728f4a-d6f2-49c7-a668-8832d98673c6",
     "showTitle": false,
     "title": ""
    }
   },
   "source": [
    "###6. Generative configuration Parameters for Inference"
   ]
  },
  {
   "cell_type": "code",
   "execution_count": 0,
   "metadata": {
    "application/vnd.databricks.v1+cell": {
     "cellMetadata": {
      "byteLimit": 2048000,
      "rowLimit": 10000
     },
     "inputWidgets": {},
     "nuid": "2f6d317e-a26e-47dc-8bfa-8ac66b690a22",
     "showTitle": false,
     "title": ""
    }
   },
   "outputs": [
    {
     "output_type": "display_data",
     "data": {
      "text/html": [
       "<style scoped>\n",
       "  .ansiout {\n",
       "    display: block;\n",
       "    unicode-bidi: embed;\n",
       "    white-space: pre-wrap;\n",
       "    word-wrap: break-word;\n",
       "    word-break: break-all;\n",
       "    font-family: \"Menlo\", \"Monaco\", \"Consolas\", \"Ubuntu Mono\", \"Source Code Pro\", monospace;\n",
       "    font-size: 13px;\n",
       "    color: #555;\n",
       "    margin-left: 4px;\n",
       "    line-height: 19px;\n",
       "  }\n",
       "</style>\n",
       "<div class=\"ansiout\">___________________________________________________________________________________________________\n",
       "baseline human summary {&#34;#Person1# teaches #Person2# how to upgrade software and hardware in #Person2#&#39;s system.&#34;}\n",
       "___________________________________________________________________________________________________\n",
       "model generation - few shots :  {&#39;#Person1 wants to upgrade his system. #Person2 wants to add a painting program to his software. #Person1 wants to upgrade his hardware.&#39;}\n",
       "</div>"
      ]
     },
     "metadata": {
      "application/vnd.databricks.v1+output": {
       "addedWidgets": {},
       "arguments": {},
       "data": "<div class=\"ansiout\">___________________________________________________________________________________________________\nbaseline human summary {&#34;#Person1# teaches #Person2# how to upgrade software and hardware in #Person2#&#39;s system.&#34;}\n___________________________________________________________________________________________________\nmodel generation - few shots :  {&#39;#Person1 wants to upgrade his system. #Person2 wants to add a painting program to his software. #Person1 wants to upgrade his hardware.&#39;}\n</div>",
       "datasetInfos": [],
       "metadata": {},
       "removedWidgets": [],
       "type": "html"
      }
     },
     "output_type": "display_data"
    }
   ],
   "source": [
    "generation_config = GenerationConfig(max_new_tokens = 50)\n",
    "\n",
    "inputs = tokenizer(few_shot_prompt, return_tensors='pt')\n",
    "output = tokenizer.decode(model.generate(inputs['input_ids'], generation_config=generation_config)[0], skip_special_tokens=True)\n",
    "\n",
    "print(dash_line)\n",
    "print('baseline human summary', {summary})\n",
    "print(dash_line)\n",
    "print('model generation - few shots : ', {output})"
   ]
  },
  {
   "cell_type": "code",
   "execution_count": 0,
   "metadata": {
    "application/vnd.databricks.v1+cell": {
     "cellMetadata": {
      "byteLimit": 2048000,
      "rowLimit": 10000
     },
     "inputWidgets": {},
     "nuid": "64de9644-7067-4712-8fc6-08213676013d",
     "showTitle": false,
     "title": ""
    }
   },
   "outputs": [
    {
     "output_type": "display_data",
     "data": {
      "text/html": [
       "<style scoped>\n",
       "  .ansiout {\n",
       "    display: block;\n",
       "    unicode-bidi: embed;\n",
       "    white-space: pre-wrap;\n",
       "    word-wrap: break-word;\n",
       "    word-break: break-all;\n",
       "    font-family: \"Menlo\", \"Monaco\", \"Consolas\", \"Ubuntu Mono\", \"Source Code Pro\", monospace;\n",
       "    font-size: 13px;\n",
       "    color: #555;\n",
       "    margin-left: 4px;\n",
       "    line-height: 19px;\n",
       "  }\n",
       "</style>\n",
       "<div class=\"ansiout\">___________________________________________________________________________________________________\n",
       "baseline human summary {&#34;#Person1# teaches #Person2# how to upgrade software and hardware in #Person2#&#39;s system.&#34;}\n",
       "___________________________________________________________________________________________________\n",
       "model generation - few shots :  {&#39;#Person1 wants to upgrade his system. #Person2 wants to add a painting program to his software. #Person1 wants&#39;}\n",
       "</div>"
      ]
     },
     "metadata": {
      "application/vnd.databricks.v1+output": {
       "addedWidgets": {},
       "arguments": {},
       "data": "<div class=\"ansiout\">___________________________________________________________________________________________________\nbaseline human summary {&#34;#Person1# teaches #Person2# how to upgrade software and hardware in #Person2#&#39;s system.&#34;}\n___________________________________________________________________________________________________\nmodel generation - few shots :  {&#39;#Person1 wants to upgrade his system. #Person2 wants to add a painting program to his software. #Person1 wants&#39;}\n</div>",
       "datasetInfos": [],
       "metadata": {},
       "removedWidgets": [],
       "type": "html"
      }
     },
     "output_type": "display_data"
    }
   ],
   "source": [
    "### decreasing the max of output text by changing the nax_new_tokens value\n",
    "generation_config = GenerationConfig(max_new_tokens = 30)\n",
    "\n",
    "inputs = tokenizer(few_shot_prompt, return_tensors='pt')\n",
    "output = tokenizer.decode(model.generate(inputs['input_ids'], generation_config=generation_config)[0], skip_special_tokens=True)\n",
    "\n",
    "print(dash_line)\n",
    "print('baseline human summary', {summary})\n",
    "print(dash_line)\n",
    "print('model generation - few shots : ', {output})"
   ]
  },
  {
   "cell_type": "code",
   "execution_count": 0,
   "metadata": {
    "application/vnd.databricks.v1+cell": {
     "cellMetadata": {
      "byteLimit": 2048000,
      "rowLimit": 10000
     },
     "inputWidgets": {},
     "nuid": "3219132e-b51e-4123-bc42-cb688d97bbe2",
     "showTitle": false,
     "title": ""
    }
   },
   "outputs": [
    {
     "output_type": "display_data",
     "data": {
      "text/html": [
       "<style scoped>\n",
       "  .ansiout {\n",
       "    display: block;\n",
       "    unicode-bidi: embed;\n",
       "    white-space: pre-wrap;\n",
       "    word-wrap: break-word;\n",
       "    word-break: break-all;\n",
       "    font-family: \"Menlo\", \"Monaco\", \"Consolas\", \"Ubuntu Mono\", \"Source Code Pro\", monospace;\n",
       "    font-size: 13px;\n",
       "    color: #555;\n",
       "    margin-left: 4px;\n",
       "    line-height: 19px;\n",
       "  }\n",
       "</style>\n",
       "<div class=\"ansiout\">___________________________________________________________________________________________________\n",
       "baseline human summary {&#34;#Person1# teaches #Person2# how to upgrade software and hardware in #Person2#&#39;s system.&#34;}\n",
       "___________________________________________________________________________________________________\n",
       "model generation - few shots :  {&#39;#Person1 wants to upgrade his system.&#39;}\n",
       "</div>"
      ]
     },
     "metadata": {
      "application/vnd.databricks.v1+output": {
       "addedWidgets": {},
       "arguments": {},
       "data": "<div class=\"ansiout\">___________________________________________________________________________________________________\nbaseline human summary {&#34;#Person1# teaches #Person2# how to upgrade software and hardware in #Person2#&#39;s system.&#34;}\n___________________________________________________________________________________________________\nmodel generation - few shots :  {&#39;#Person1 wants to upgrade his system.&#39;}\n</div>",
       "datasetInfos": [],
       "metadata": {},
       "removedWidgets": [],
       "type": "html"
      }
     },
     "output_type": "display_data"
    }
   ],
   "source": [
    "### decreasing the max of output text by changing the nax_new_tokens value\n",
    "generation_config = GenerationConfig(max_new_tokens = 10)\n",
    "\n",
    "inputs = tokenizer(few_shot_prompt, return_tensors='pt')\n",
    "output = tokenizer.decode(model.generate(inputs['input_ids'], generation_config=generation_config)[0], skip_special_tokens=True)\n",
    "\n",
    "print(dash_line)\n",
    "print('baseline human summary', {summary})\n",
    "print(dash_line)\n",
    "print('model generation - few shots : ', {output})"
   ]
  },
  {
   "cell_type": "markdown",
   "metadata": {
    "application/vnd.databricks.v1+cell": {
     "cellMetadata": {},
     "inputWidgets": {},
     "nuid": "9daba761-910a-4739-87aa-408f3e1bea3e",
     "showTitle": false,
     "title": ""
    }
   },
   "source": [
    "#### Conclusion of changing the max token: \n",
    "#####This is used for max size of output sequence, not including the tokens in the prompt. Btter to tune which length of output text is desirable by end users without limiting valuable data."
   ]
  },
  {
   "cell_type": "code",
   "execution_count": 0,
   "metadata": {
    "application/vnd.databricks.v1+cell": {
     "cellMetadata": {
      "byteLimit": 2048000,
      "rowLimit": 10000
     },
     "inputWidgets": {},
     "nuid": "0771fe92-f457-4998-86f4-b4a69235bf2d",
     "showTitle": false,
     "title": ""
    }
   },
   "outputs": [
    {
     "output_type": "display_data",
     "data": {
      "text/html": [
       "<style scoped>\n",
       "  .ansiout {\n",
       "    display: block;\n",
       "    unicode-bidi: embed;\n",
       "    white-space: pre-wrap;\n",
       "    word-wrap: break-word;\n",
       "    word-break: break-all;\n",
       "    font-family: \"Menlo\", \"Monaco\", \"Consolas\", \"Ubuntu Mono\", \"Source Code Pro\", monospace;\n",
       "    font-size: 13px;\n",
       "    color: #555;\n",
       "    margin-left: 4px;\n",
       "    line-height: 19px;\n",
       "  }\n",
       "</style>\n",
       "<div class=\"ansiout\">___________________________________________________________________________________________________\n",
       "baseline human summary {&#34;#Person1# teaches #Person2# how to upgrade software and hardware in #Person2#&#39;s system.&#34;}\n",
       "___________________________________________________________________________________________________\n",
       "model generation - few shots :  {&#39;#Person1 wants to upgrade his system. #Person2 wants to add a painting program to his software. #Person1 wants to upgrade his hardware.&#39;}\n",
       "</div>"
      ]
     },
     "metadata": {
      "application/vnd.databricks.v1+output": {
       "addedWidgets": {},
       "arguments": {},
       "data": "<div class=\"ansiout\">___________________________________________________________________________________________________\nbaseline human summary {&#34;#Person1# teaches #Person2# how to upgrade software and hardware in #Person2#&#39;s system.&#34;}\n___________________________________________________________________________________________________\nmodel generation - few shots :  {&#39;#Person1 wants to upgrade his system. #Person2 wants to add a painting program to his software. #Person1 wants to upgrade his hardware.&#39;}\n</div>",
       "datasetInfos": [],
       "metadata": {},
       "removedWidgets": [],
       "type": "html"
      }
     },
     "output_type": "display_data"
    }
   ],
   "source": [
    "generation_config = GenerationConfig(max_new_tokens = 50, do_sample= True, temperature = 0.1)\n",
    "\n",
    "inputs = tokenizer(few_shot_prompt, return_tensors='pt')\n",
    "output = tokenizer.decode(model.generate(inputs['input_ids'], generation_config=generation_config)[0], skip_special_tokens=True)\n",
    "\n",
    "print(dash_line)\n",
    "print('baseline human summary', {summary})\n",
    "print(dash_line)\n",
    "print('model generation - few shots : ', {output})"
   ]
  },
  {
   "cell_type": "code",
   "execution_count": 0,
   "metadata": {
    "application/vnd.databricks.v1+cell": {
     "cellMetadata": {
      "byteLimit": 2048000,
      "rowLimit": 10000
     },
     "inputWidgets": {},
     "nuid": "0694fb3e-0c2e-4fb8-bf2d-70e5c0807f24",
     "showTitle": false,
     "title": ""
    }
   },
   "outputs": [
    {
     "output_type": "display_data",
     "data": {
      "text/html": [
       "<style scoped>\n",
       "  .ansiout {\n",
       "    display: block;\n",
       "    unicode-bidi: embed;\n",
       "    white-space: pre-wrap;\n",
       "    word-wrap: break-word;\n",
       "    word-break: break-all;\n",
       "    font-family: \"Menlo\", \"Monaco\", \"Consolas\", \"Ubuntu Mono\", \"Source Code Pro\", monospace;\n",
       "    font-size: 13px;\n",
       "    color: #555;\n",
       "    margin-left: 4px;\n",
       "    line-height: 19px;\n",
       "  }\n",
       "</style>\n",
       "<div class=\"ansiout\">___________________________________________________________________________________________________\n",
       "baseline human summary {&#34;#Person1# teaches #Person2# how to upgrade software and hardware in #Person2#&#39;s system.&#34;}\n",
       "___________________________________________________________________________________________________\n",
       "model generation - few shots :  {&#39;#Person1 offers to upgrade his system to a painting program.&#39;}\n",
       "</div>"
      ]
     },
     "metadata": {
      "application/vnd.databricks.v1+output": {
       "addedWidgets": {},
       "arguments": {},
       "data": "<div class=\"ansiout\">___________________________________________________________________________________________________\nbaseline human summary {&#34;#Person1# teaches #Person2# how to upgrade software and hardware in #Person2#&#39;s system.&#34;}\n___________________________________________________________________________________________________\nmodel generation - few shots :  {&#39;#Person1 offers to upgrade his system to a painting program.&#39;}\n</div>",
       "datasetInfos": [],
       "metadata": {},
       "removedWidgets": [],
       "type": "html"
      }
     },
     "output_type": "display_data"
    }
   ],
   "source": [
    "### Chaning the temperature parameter to get away from default Gready search approach\n",
    "generation_config = GenerationConfig(max_new_tokens = 50, do_sample= True, temperature = 0.5)\n",
    "\n",
    "inputs = tokenizer(few_shot_prompt, return_tensors='pt')\n",
    "output = tokenizer.decode(model.generate(inputs['input_ids'], generation_config=generation_config)[0], skip_special_tokens=True)\n",
    "\n",
    "print(dash_line)\n",
    "print('baseline human summary', {summary})\n",
    "print(dash_line)\n",
    "print('model generation - few shots : ', {output})"
   ]
  },
  {
   "cell_type": "code",
   "execution_count": 0,
   "metadata": {
    "application/vnd.databricks.v1+cell": {
     "cellMetadata": {
      "byteLimit": 2048000,
      "rowLimit": 10000
     },
     "inputWidgets": {},
     "nuid": "1469dd35-0249-41b3-85ca-c4debb02fa3c",
     "showTitle": false,
     "title": ""
    }
   },
   "outputs": [
    {
     "output_type": "display_data",
     "data": {
      "text/html": [
       "<style scoped>\n",
       "  .ansiout {\n",
       "    display: block;\n",
       "    unicode-bidi: embed;\n",
       "    white-space: pre-wrap;\n",
       "    word-wrap: break-word;\n",
       "    word-break: break-all;\n",
       "    font-family: \"Menlo\", \"Monaco\", \"Consolas\", \"Ubuntu Mono\", \"Source Code Pro\", monospace;\n",
       "    font-size: 13px;\n",
       "    color: #555;\n",
       "    margin-left: 4px;\n",
       "    line-height: 19px;\n",
       "  }\n",
       "</style>\n",
       "<div class=\"ansiout\">___________________________________________________________________________________________________\n",
       "baseline human summary {&#34;#Person1# teaches #Person2# how to upgrade software and hardware in #Person2#&#39;s system.&#34;}\n",
       "___________________________________________________________________________________________________\n",
       "model generation - few shots :  {&#39;&#34;I\\&#39;m quite sure I would require your services&#34; with regard to software upgrades.&#39;}\n",
       "</div>"
      ]
     },
     "metadata": {
      "application/vnd.databricks.v1+output": {
       "addedWidgets": {},
       "arguments": {},
       "data": "<div class=\"ansiout\">___________________________________________________________________________________________________\nbaseline human summary {&#34;#Person1# teaches #Person2# how to upgrade software and hardware in #Person2#&#39;s system.&#34;}\n___________________________________________________________________________________________________\nmodel generation - few shots :  {&#39;&#34;I\\&#39;m quite sure I would require your services&#34; with regard to software upgrades.&#39;}\n</div>",
       "datasetInfos": [],
       "metadata": {},
       "removedWidgets": [],
       "type": "html"
      }
     },
     "output_type": "display_data"
    }
   ],
   "source": [
    "### Chaning the temperature parameter to get away from default Gready search approach\n",
    "generation_config = GenerationConfig(max_new_tokens = 50, do_sample= True, temperature = 1.0)\n",
    "\n",
    "inputs = tokenizer(few_shot_prompt, return_tensors='pt')\n",
    "output = tokenizer.decode(model.generate(inputs['input_ids'], generation_config=generation_config)[0], skip_special_tokens=True)\n",
    "\n",
    "print(dash_line)\n",
    "print('baseline human summary', {summary})\n",
    "print(dash_line)\n",
    "print('model generation - few shots : ', {output})"
   ]
  },
  {
   "cell_type": "markdown",
   "metadata": {
    "application/vnd.databricks.v1+cell": {
     "cellMetadata": {},
     "inputWidgets": {},
     "nuid": "b0684c83-d07e-44a1-a41b-fd06df164975",
     "showTitle": false,
     "title": ""
    }
   },
   "source": [
    "#### Conclusion of changing the temperature parameter: \n",
    "#####increasing the temperature value triggers creative responses. But decreasing the temperature triggers conservative reponses which means by runing the code over and over again, the same response will be made. This happens because of default greedy search approach in text generation which always choose the text with highest probability. This parameter should not get too high, otherwise it makes semantic inconsistency"
   ]
  },
  {
   "cell_type": "code",
   "execution_count": 0,
   "metadata": {
    "application/vnd.databricks.v1+cell": {
     "cellMetadata": {
      "byteLimit": 2048000,
      "rowLimit": 10000
     },
     "inputWidgets": {},
     "nuid": "0d073a63-c518-476a-ab18-6b8bac8fab4d",
     "showTitle": false,
     "title": ""
    }
   },
   "outputs": [
    {
     "output_type": "display_data",
     "data": {
      "text/html": [
       "<style scoped>\n",
       "  .ansiout {\n",
       "    display: block;\n",
       "    unicode-bidi: embed;\n",
       "    white-space: pre-wrap;\n",
       "    word-wrap: break-word;\n",
       "    word-break: break-all;\n",
       "    font-family: \"Menlo\", \"Monaco\", \"Consolas\", \"Ubuntu Mono\", \"Source Code Pro\", monospace;\n",
       "    font-size: 13px;\n",
       "    color: #555;\n",
       "    margin-left: 4px;\n",
       "    line-height: 19px;\n",
       "  }\n",
       "</style>\n",
       "<div class=\"ansiout\">___________________________________________________________________________________________________\n",
       "baseline human summary {&#34;#Person1# teaches #Person2# how to upgrade software and hardware in #Person2#&#39;s system.&#34;}\n",
       "___________________________________________________________________________________________________\n",
       "model generation - few shots :  {&#39;#Person1 wants to upgrade his system. #Person2 wants to add a painting program to his software. #Person1 wants to upgrade his hardware.&#39;}\n",
       "</div>"
      ]
     },
     "metadata": {
      "application/vnd.databricks.v1+output": {
       "addedWidgets": {},
       "arguments": {},
       "data": "<div class=\"ansiout\">___________________________________________________________________________________________________\nbaseline human summary {&#34;#Person1# teaches #Person2# how to upgrade software and hardware in #Person2#&#39;s system.&#34;}\n___________________________________________________________________________________________________\nmodel generation - few shots :  {&#39;#Person1 wants to upgrade his system. #Person2 wants to add a painting program to his software. #Person1 wants to upgrade his hardware.&#39;}\n</div>",
       "datasetInfos": [],
       "metadata": {},
       "removedWidgets": [],
       "type": "html"
      }
     },
     "output_type": "display_data"
    }
   ],
   "source": [
    "## Greedy search as default search\n",
    "generation_config = GenerationConfig(max_new_tokens = 50)\n",
    "\n",
    "inputs = tokenizer(few_shot_prompt, return_tensors='pt')\n",
    "output = tokenizer.decode(model.generate(inputs['input_ids'], generation_config=generation_config)[0], skip_special_tokens=True)\n",
    "\n",
    "print(dash_line)\n",
    "print('baseline human summary', {summary})\n",
    "print(dash_line)\n",
    "print('model generation - few shots : ', {output})"
   ]
  },
  {
   "cell_type": "code",
   "execution_count": 0,
   "metadata": {
    "application/vnd.databricks.v1+cell": {
     "cellMetadata": {
      "byteLimit": 2048000,
      "rowLimit": 10000
     },
     "inputWidgets": {},
     "nuid": "1c17d437-7c5a-47ce-b44b-56f7f7649664",
     "showTitle": false,
     "title": ""
    }
   },
   "outputs": [
    {
     "output_type": "display_data",
     "data": {
      "text/html": [
       "<style scoped>\n",
       "  .ansiout {\n",
       "    display: block;\n",
       "    unicode-bidi: embed;\n",
       "    white-space: pre-wrap;\n",
       "    word-wrap: break-word;\n",
       "    word-break: break-all;\n",
       "    font-family: \"Menlo\", \"Monaco\", \"Consolas\", \"Ubuntu Mono\", \"Source Code Pro\", monospace;\n",
       "    font-size: 13px;\n",
       "    color: #555;\n",
       "    margin-left: 4px;\n",
       "    line-height: 19px;\n",
       "  }\n",
       "</style>\n",
       "<div class=\"ansiout\">___________________________________________________________________________________________________\n",
       "baseline human summary {&#34;#Person1# teaches #Person2# how to upgrade software and hardware in #Person2#&#39;s system.&#34;}\n",
       "___________________________________________________________________________________________________\n",
       "model generation - few shots :  {&#39;People are discussing about upgrading a computer. They want to make money from the upgrade; they want a computer that will be more user-friendly and faster. They want to have a CD-ROM drive and better hardware.&#39;}\n",
       "</div>"
      ]
     },
     "metadata": {
      "application/vnd.databricks.v1+output": {
       "addedWidgets": {},
       "arguments": {},
       "data": "<div class=\"ansiout\">___________________________________________________________________________________________________\nbaseline human summary {&#34;#Person1# teaches #Person2# how to upgrade software and hardware in #Person2#&#39;s system.&#34;}\n___________________________________________________________________________________________________\nmodel generation - few shots :  {&#39;People are discussing about upgrading a computer. They want to make money from the upgrade; they want a computer that will be more user-friendly and faster. They want to have a CD-ROM drive and better hardware.&#39;}\n</div>",
       "datasetInfos": [],
       "metadata": {},
       "removedWidgets": [],
       "type": "html"
      }
     },
     "output_type": "display_data"
    }
   ],
   "source": [
    "## multinomial sampling\n",
    "generation_config = GenerationConfig(max_new_tokens = 50, do_sample=True, num_beams=1)\n",
    "\n",
    "inputs = tokenizer(few_shot_prompt, return_tensors='pt')\n",
    "output = tokenizer.decode(model.generate(inputs['input_ids'], generation_config=generation_config)[0], skip_special_tokens=True)\n",
    "\n",
    "print(dash_line)\n",
    "print('baseline human summary', {summary})\n",
    "print(dash_line)\n",
    "print('model generation - few shots : ', {output})"
   ]
  },
  {
   "cell_type": "code",
   "execution_count": 0,
   "metadata": {
    "application/vnd.databricks.v1+cell": {
     "cellMetadata": {
      "byteLimit": 2048000,
      "rowLimit": 10000
     },
     "inputWidgets": {},
     "nuid": "014a3652-1ccd-49b7-8fd1-7ecb40208df1",
     "showTitle": false,
     "title": ""
    }
   },
   "outputs": [
    {
     "output_type": "display_data",
     "data": {
      "text/html": [
       "<style scoped>\n",
       "  .ansiout {\n",
       "    display: block;\n",
       "    unicode-bidi: embed;\n",
       "    white-space: pre-wrap;\n",
       "    word-wrap: break-word;\n",
       "    word-break: break-all;\n",
       "    font-family: \"Menlo\", \"Monaco\", \"Consolas\", \"Ubuntu Mono\", \"Source Code Pro\", monospace;\n",
       "    font-size: 13px;\n",
       "    color: #555;\n",
       "    margin-left: 4px;\n",
       "    line-height: 19px;\n",
       "  }\n",
       "</style>\n",
       "<div class=\"ansiout\">___________________________________________________________________________________________________\n",
       "baseline human summary {&#34;#Person1# teaches #Person2# how to upgrade software and hardware in #Person2#&#39;s system.&#34;}\n",
       "___________________________________________________________________________________________________\n",
       "model generation - few shots :  {&#39;#Person1 recommends adding a painting program to the software. #Person2 recommends adding a CD-ROM drive.&#39;}\n",
       "</div>"
      ]
     },
     "metadata": {
      "application/vnd.databricks.v1+output": {
       "addedWidgets": {},
       "arguments": {},
       "data": "<div class=\"ansiout\">___________________________________________________________________________________________________\nbaseline human summary {&#34;#Person1# teaches #Person2# how to upgrade software and hardware in #Person2#&#39;s system.&#34;}\n___________________________________________________________________________________________________\nmodel generation - few shots :  {&#39;#Person1 recommends adding a painting program to the software. #Person2 recommends adding a CD-ROM drive.&#39;}\n</div>",
       "datasetInfos": [],
       "metadata": {},
       "removedWidgets": [],
       "type": "html"
      }
     },
     "output_type": "display_data"
    }
   ],
   "source": [
    "## Beam search\n",
    "generation_config = GenerationConfig(max_new_tokens = 50, num_beams=5)\n",
    "\n",
    "inputs = tokenizer(few_shot_prompt, return_tensors='pt')\n",
    "output = tokenizer.decode(model.generate(inputs['input_ids'], generation_config=generation_config)[0], skip_special_tokens=True)\n",
    "\n",
    "print(dash_line)\n",
    "print('baseline human summary', {summary})\n",
    "print(dash_line)\n",
    "print('model generation - few shots : ', {output})"
   ]
  },
  {
   "cell_type": "code",
   "execution_count": 0,
   "metadata": {
    "application/vnd.databricks.v1+cell": {
     "cellMetadata": {
      "byteLimit": 2048000,
      "rowLimit": 10000
     },
     "inputWidgets": {},
     "nuid": "cdd64b8c-e7b5-45dc-8637-7a3901c0bb0a",
     "showTitle": false,
     "title": ""
    }
   },
   "outputs": [
    {
     "output_type": "display_data",
     "data": {
      "text/html": [
       "<style scoped>\n",
       "  .ansiout {\n",
       "    display: block;\n",
       "    unicode-bidi: embed;\n",
       "    white-space: pre-wrap;\n",
       "    word-wrap: break-word;\n",
       "    word-break: break-all;\n",
       "    font-family: \"Menlo\", \"Monaco\", \"Consolas\", \"Ubuntu Mono\", \"Source Code Pro\", monospace;\n",
       "    font-size: 13px;\n",
       "    color: #555;\n",
       "    margin-left: 4px;\n",
       "    line-height: 19px;\n",
       "  }\n",
       "</style>\n",
       "<div class=\"ansiout\">___________________________________________________________________________________________________\n",
       "baseline human summary {&#34;#Person1# teaches #Person2# how to upgrade software and hardware in #Person2#&#39;s system.&#34;}\n",
       "___________________________________________________________________________________________________\n",
       "model generation - few shots :  {&#39;#Person1 wants to upgrade his system. #Person2 wants to add a painting program to his software. #Person1 wants to upgrade his hardware. #Person2 wants to add a CD-ROM drive.&#39;}\n",
       "</div>"
      ]
     },
     "metadata": {
      "application/vnd.databricks.v1+output": {
       "addedWidgets": {},
       "arguments": {},
       "data": "<div class=\"ansiout\">___________________________________________________________________________________________________\nbaseline human summary {&#34;#Person1# teaches #Person2# how to upgrade software and hardware in #Person2#&#39;s system.&#34;}\n___________________________________________________________________________________________________\nmodel generation - few shots :  {&#39;#Person1 wants to upgrade his system. #Person2 wants to add a painting program to his software. #Person1 wants to upgrade his hardware. #Person2 wants to add a CD-ROM drive.&#39;}\n</div>",
       "datasetInfos": [],
       "metadata": {},
       "removedWidgets": [],
       "type": "html"
      }
     },
     "output_type": "display_data"
    }
   ],
   "source": [
    "## Beam search multinomial sampling\n",
    "generation_config = GenerationConfig(max_new_tokens = 50, num_beams=5, do_sample=True)\n",
    "\n",
    "inputs = tokenizer(few_shot_prompt, return_tensors='pt')\n",
    "output = tokenizer.decode(model.generate(inputs['input_ids'], generation_config=generation_config)[0], skip_special_tokens=True)\n",
    "\n",
    "print(dash_line)\n",
    "print('baseline human summary', {summary})\n",
    "print(dash_line)\n",
    "print('model generation - few shots : ', {output})"
   ]
  },
  {
   "cell_type": "code",
   "execution_count": 0,
   "metadata": {
    "application/vnd.databricks.v1+cell": {
     "cellMetadata": {
      "byteLimit": 2048000,
      "rowLimit": 10000
     },
     "inputWidgets": {},
     "nuid": "7e82d611-1730-4e0d-b13f-2ef6eade9d8f",
     "showTitle": false,
     "title": ""
    }
   },
   "outputs": [
    {
     "output_type": "display_data",
     "data": {
      "text/html": [
       "<style scoped>\n",
       "  .ansiout {\n",
       "    display: block;\n",
       "    unicode-bidi: embed;\n",
       "    white-space: pre-wrap;\n",
       "    word-wrap: break-word;\n",
       "    word-break: break-all;\n",
       "    font-family: \"Menlo\", \"Monaco\", \"Consolas\", \"Ubuntu Mono\", \"Source Code Pro\", monospace;\n",
       "    font-size: 13px;\n",
       "    color: #555;\n",
       "    margin-left: 4px;\n",
       "    line-height: 19px;\n",
       "  }\n",
       "</style>\n",
       "<div class=\"ansiout\">___________________________________________________________________________________________________\n",
       "baseline human summary {&#34;#Person1# teaches #Person2# how to upgrade software and hardware in #Person2#&#39;s system.&#34;}\n",
       "___________________________________________________________________________________________________\n",
       "model generation - few shots :  {&#39;#Person1 suggests adding a painting program to the software. #Person2 suggests adding a computer graphics program.&#39;}\n",
       "</div>"
      ]
     },
     "metadata": {
      "application/vnd.databricks.v1+output": {
       "addedWidgets": {},
       "arguments": {},
       "data": "<div class=\"ansiout\">___________________________________________________________________________________________________\nbaseline human summary {&#34;#Person1# teaches #Person2# how to upgrade software and hardware in #Person2#&#39;s system.&#34;}\n___________________________________________________________________________________________________\nmodel generation - few shots :  {&#39;#Person1 suggests adding a painting program to the software. #Person2 suggests adding a computer graphics program.&#39;}\n</div>",
       "datasetInfos": [],
       "metadata": {},
       "removedWidgets": [],
       "type": "html"
      }
     },
     "output_type": "display_data"
    }
   ],
   "source": [
    "## Contrastive search\n",
    "generation_config = GenerationConfig(max_new_tokens = 50, penalty_alpha=0.6, top_k=4)\n",
    "\n",
    "inputs = tokenizer(few_shot_prompt, return_tensors='pt')\n",
    "output = tokenizer.decode(model.generate(inputs['input_ids'], generation_config=generation_config)[0], skip_special_tokens=True)\n",
    "\n",
    "print(dash_line)\n",
    "print('baseline human summary', {summary})\n",
    "print(dash_line)\n",
    "print('model generation - few shots : ', {output})"
   ]
  },
  {
   "cell_type": "markdown",
   "metadata": {
    "application/vnd.databricks.v1+cell": {
     "cellMetadata": {},
     "inputWidgets": {},
     "nuid": "7697f572-0d14-4873-a880-b8bf9342a4f2",
     "showTitle": false,
     "title": ""
    }
   },
   "source": [
    "#### Conclusion of different text generation methods: \n",
    "#####Deterministic approaches such as greedy search & beam search result in text degenration & undesirebale repition. Though, the stochastic approaches are using randomness during text generation process which end with non-repetitive yet coherent long outputs\n",
    "more info about text generation methods in below link : https://huggingface.co/docs/transformers/generation_strategies"
   ]
  },
  {
   "cell_type": "markdown",
   "metadata": {
    "application/vnd.databricks.v1+cell": {
     "cellMetadata": {},
     "inputWidgets": {},
     "nuid": "717bf83e-0cf3-47ea-a48b-f618c1e6d697",
     "showTitle": false,
     "title": ""
    }
   },
   "source": []
  },
  {
   "cell_type": "markdown",
   "metadata": {
    "application/vnd.databricks.v1+cell": {
     "cellMetadata": {},
     "inputWidgets": {},
     "nuid": "646a8eca-43e6-4f64-baf0-48932ded36bb",
     "showTitle": false,
     "title": ""
    }
   },
   "source": []
  }
 ],
 "metadata": {
  "application/vnd.databricks.v1+notebook": {
   "dashboards": [],
   "environmentMetadata": null,
   "language": "python",
   "notebookMetadata": {
    "pythonIndentUnit": 2
   },
   "notebookName": "Gen AI : Summarize Dialogue",
   "widgets": {}
  }
 },
 "nbformat": 4,
 "nbformat_minor": 0
}
